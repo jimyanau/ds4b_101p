{
 "cells": [
  {
   "cell_type": "markdown",
   "metadata": {},
   "source": [
    "# 1 Imports"
   ]
  },
  {
   "cell_type": "code",
   "execution_count": 2,
   "metadata": {},
   "outputs": [],
   "source": [
    "import os\n",
    "import pandas as pd\n",
    "import sqlalchemy as sql # 用來和 db 連動的 library，可以和 SQLite, Postgres, MySQL, Microsoft SQL Server, and more 互動"
   ]
  },
  {
   "cell_type": "markdown",
   "metadata": {},
   "source": [
    "# 2 DB 基本操作"
   ]
  },
  {
   "cell_type": "markdown",
   "metadata": {},
   "source": [
    "## 2.1 [增] 建立 database"
   ]
  },
  {
   "cell_type": "markdown",
   "metadata": {},
   "source": [
    "* 我們打算用 SQLite 這種 database，那他實際上就會放在我們專案中的某個資料夾裡面\n",
    "* 所以，我先建立一個資料夾給他，之後 db 的東西就會放在裡面："
   ]
  },
  {
   "cell_type": "code",
   "execution_count": 4,
   "metadata": {},
   "outputs": [],
   "source": [
    "# os.mkdir(\"00_database\")"
   ]
  },
  {
   "cell_type": "markdown",
   "metadata": {},
   "source": [
    "* 接著，連接和建立某個database，作法都一樣：  \n",
    "  * 先 create 一個 engine (就是你要連到哪個資料庫/url)\n",
    "  * 然後用 `.connect()` 做連接  \n",
    "* 那如果這個資料庫之前存在，就會幫你連上。如果不存在，就會幫你 create  \n",
    "* 所以，現在練習一下，我想建立 `bike_orders_database.sqlite` 這個資料庫，並把他放在 `00_database` 這個資料夾裡面："
   ]
  },
  {
   "cell_type": "code",
   "execution_count": 17,
   "metadata": {},
   "outputs": [],
   "source": [
    "engine = sql.create_engine(\"sqlite:///00_database/bike_orders_database.sqlite\") # sqlite: 後面的前兩個斜線，就跟 http:// 意思一樣，那第三個斜線，是因為我要指到本地資料夾，所以才會這樣寫 /00_database/...\n",
    "conn = engine.connect()"
   ]
  },
  {
   "cell_type": "markdown",
   "metadata": {},
   "source": [
    "## 2.2 [增] 建立 table"
   ]
  },
  {
   "cell_type": "markdown",
   "metadata": {},
   "source": [
    "* 接下來，我們要讀取原本的 excel file，並把他寫到這個資料庫裡面"
   ]
  },
  {
   "cell_type": "code",
   "execution_count": 7,
   "metadata": {},
   "outputs": [],
   "source": [
    "bikes_df = pd.read_excel(\"./00_data_raw/bikes.xlsx\", engine='openpyxl')\n",
    "bikeshops_df = pd.read_excel(\"./00_data_raw/bikeshops.xlsx\", engine='openpyxl')\n",
    "orderlines_df = pd.read_excel(\"./00_data_raw/orderlines2.xlsx\", engine='openpyxl')"
   ]
  },
  {
   "cell_type": "markdown",
   "metadata": {},
   "source": [
    "* 寫入時，pandas 對 DataFrame 這種物件，本身就有 method 來幫你寫資料，寫成 `df.to_sql(\"db_table_name\", con = conn, 其他參數)`。可用 `?pd.DataFrame.to_sql` 來查詢用法\n",
    "* 這就像 R 的 `dbWriteTable(con = conn, df, \"db_table_name\", 其他參數)` 一樣。\n",
    "* 常見的其他參數，例如 `if_exists = \"replace\"` 的意思，就是如果這張 table 已經在 db 裡面，那我就取代掉他。所以這個參數就像 R 的 `overwrite = TRUE`  "
   ]
  },
  {
   "cell_type": "code",
   "execution_count": 10,
   "metadata": {},
   "outputs": [],
   "source": [
    "bikes_df.to_sql(\"bikes\", con = conn, if_exists=\"replace\")\n",
    "bikeshops_df.to_sql(\"bikeshops\", con = conn, if_exists=\"replace\")\n",
    "orderlines_df.to_sql(\"orderlines\", con = conn, if_exists=\"replace\")"
   ]
  },
  {
   "cell_type": "markdown",
   "metadata": {},
   "source": [
    "## 2.3 [查] 讀 database 裡有哪些 table"
   ]
  },
  {
   "cell_type": "code",
   "execution_count": 19,
   "metadata": {},
   "outputs": [
    {
     "data": {
      "text/plain": [
       "['bikes', 'bikeshops', 'orderlines']"
      ]
     },
     "execution_count": 19,
     "metadata": {},
     "output_type": "execute_result"
    }
   ],
   "source": [
    "inspector = sql.inspect(conn) # 做出來的 inpsector 是一個物件，所以他也有自己的 methods\n",
    "inspector.get_table_names() # 讀現在的 db 裡面有哪些 tables  "
   ]
  },
  {
   "cell_type": "markdown",
   "metadata": {},
   "source": [
    "* 我們也可以看看，現在這個 database 的 schema 叫什麼(這個 db 的 architecture)"
   ]
  },
  {
   "cell_type": "code",
   "execution_count": 20,
   "metadata": {},
   "outputs": [
    {
     "data": {
      "text/plain": [
       "['main']"
      ]
     },
     "execution_count": 20,
     "metadata": {},
     "output_type": "execute_result"
    }
   ],
   "source": [
    "inspector.get_schema_names()"
   ]
  },
  {
   "cell_type": "markdown",
   "metadata": {},
   "source": [
    "* 預設的 schema 的 名稱就是 `main`，"
   ]
  },
  {
   "cell_type": "markdown",
   "metadata": {},
   "source": [
    "## 2.4 [查] 讀 table"
   ]
  },
  {
   "cell_type": "markdown",
   "metadata": {},
   "source": [
    "* 讀檔時，是用 `pd.read_sql(\"sql語句\", con = 連線物件)` 來處理\n",
    "* 這就像 R 的 `dbGetQuery(con = 連線物件, \"sql語句\")`"
   ]
  },
  {
   "cell_type": "code",
   "execution_count": 13,
   "metadata": {},
   "outputs": [
    {
     "data": {
      "text/html": [
       "<div>\n",
       "<style scoped>\n",
       "    .dataframe tbody tr th:only-of-type {\n",
       "        vertical-align: middle;\n",
       "    }\n",
       "\n",
       "    .dataframe tbody tr th {\n",
       "        vertical-align: top;\n",
       "    }\n",
       "\n",
       "    .dataframe thead th {\n",
       "        text-align: right;\n",
       "    }\n",
       "</style>\n",
       "<table border=\"1\" class=\"dataframe\">\n",
       "  <thead>\n",
       "    <tr style=\"text-align: right;\">\n",
       "      <th></th>\n",
       "      <th>index</th>\n",
       "      <th>bike.id</th>\n",
       "      <th>model</th>\n",
       "      <th>description</th>\n",
       "      <th>price</th>\n",
       "    </tr>\n",
       "  </thead>\n",
       "  <tbody>\n",
       "    <tr>\n",
       "      <th>0</th>\n",
       "      <td>0</td>\n",
       "      <td>1</td>\n",
       "      <td>Supersix Evo Black Inc.</td>\n",
       "      <td>Road - Elite Road - Carbon</td>\n",
       "      <td>12790</td>\n",
       "    </tr>\n",
       "    <tr>\n",
       "      <th>1</th>\n",
       "      <td>1</td>\n",
       "      <td>2</td>\n",
       "      <td>Supersix Evo Hi-Mod Team</td>\n",
       "      <td>Road - Elite Road - Carbon</td>\n",
       "      <td>10660</td>\n",
       "    </tr>\n",
       "    <tr>\n",
       "      <th>2</th>\n",
       "      <td>2</td>\n",
       "      <td>3</td>\n",
       "      <td>Supersix Evo Hi-Mod Dura Ace 1</td>\n",
       "      <td>Road - Elite Road - Carbon</td>\n",
       "      <td>7990</td>\n",
       "    </tr>\n",
       "    <tr>\n",
       "      <th>3</th>\n",
       "      <td>3</td>\n",
       "      <td>4</td>\n",
       "      <td>Supersix Evo Hi-Mod Dura Ace 2</td>\n",
       "      <td>Road - Elite Road - Carbon</td>\n",
       "      <td>5330</td>\n",
       "    </tr>\n",
       "    <tr>\n",
       "      <th>4</th>\n",
       "      <td>4</td>\n",
       "      <td>5</td>\n",
       "      <td>Supersix Evo Hi-Mod Utegra</td>\n",
       "      <td>Road - Elite Road - Carbon</td>\n",
       "      <td>4260</td>\n",
       "    </tr>\n",
       "  </tbody>\n",
       "</table>\n",
       "</div>"
      ],
      "text/plain": [
       "   index  bike.id                           model                 description  \\\n",
       "0      0        1         Supersix Evo Black Inc.  Road - Elite Road - Carbon   \n",
       "1      1        2        Supersix Evo Hi-Mod Team  Road - Elite Road - Carbon   \n",
       "2      2        3  Supersix Evo Hi-Mod Dura Ace 1  Road - Elite Road - Carbon   \n",
       "3      3        4  Supersix Evo Hi-Mod Dura Ace 2  Road - Elite Road - Carbon   \n",
       "4      4        5      Supersix Evo Hi-Mod Utegra  Road - Elite Road - Carbon   \n",
       "\n",
       "   price  \n",
       "0  12790  \n",
       "1  10660  \n",
       "2   7990  \n",
       "3   5330  \n",
       "4   4260  "
      ]
     },
     "execution_count": 13,
     "metadata": {},
     "output_type": "execute_result"
    }
   ],
   "source": [
    "pd.read_sql(\"select * from bikes\", con = conn).head()"
   ]
  },
  {
   "cell_type": "markdown",
   "metadata": {},
   "source": [
    "* 那這邊順便提一招 python 的 string format，就是我要把變數名稱塞到字串裡的做法 (R 是直接用 `paste(\"某字串\", 某變數)` 的方式處理)\n",
    "* python 會這樣寫 `f\"某字串 {某變數}\"` ，其中的 `f` 就是 format 的意思。\n",
    "* 來看個例子："
   ]
  },
  {
   "cell_type": "code",
   "execution_count": 21,
   "metadata": {},
   "outputs": [
    {
     "data": {
      "text/plain": [
       "'My name is Hank'"
      ]
     },
     "execution_count": 21,
     "metadata": {},
     "output_type": "execute_result"
    }
   ],
   "source": [
    "aa = \"Hank\"\n",
    "f\"My name is {aa}\""
   ]
  },
  {
   "cell_type": "markdown",
   "metadata": {},
   "source": [
    "* 那學會這招後，我們就可以用在資料讀取上，例如："
   ]
  },
  {
   "cell_type": "code",
   "execution_count": 23,
   "metadata": {},
   "outputs": [
    {
     "data": {
      "text/html": [
       "<div>\n",
       "<style scoped>\n",
       "    .dataframe tbody tr th:only-of-type {\n",
       "        vertical-align: middle;\n",
       "    }\n",
       "\n",
       "    .dataframe tbody tr th {\n",
       "        vertical-align: top;\n",
       "    }\n",
       "\n",
       "    .dataframe thead th {\n",
       "        text-align: right;\n",
       "    }\n",
       "</style>\n",
       "<table border=\"1\" class=\"dataframe\">\n",
       "  <thead>\n",
       "    <tr style=\"text-align: right;\">\n",
       "      <th></th>\n",
       "      <th>index</th>\n",
       "      <th>bikeshop.id</th>\n",
       "      <th>bikeshop.name</th>\n",
       "      <th>location</th>\n",
       "    </tr>\n",
       "  </thead>\n",
       "  <tbody>\n",
       "    <tr>\n",
       "      <th>0</th>\n",
       "      <td>0</td>\n",
       "      <td>1</td>\n",
       "      <td>Pittsburgh Mountain Machines</td>\n",
       "      <td>Pittsburgh, PA</td>\n",
       "    </tr>\n",
       "    <tr>\n",
       "      <th>1</th>\n",
       "      <td>1</td>\n",
       "      <td>2</td>\n",
       "      <td>Ithaca Mountain Climbers</td>\n",
       "      <td>Ithaca, NY</td>\n",
       "    </tr>\n",
       "    <tr>\n",
       "      <th>2</th>\n",
       "      <td>2</td>\n",
       "      <td>3</td>\n",
       "      <td>Columbus Race Equipment</td>\n",
       "      <td>Columbus, OH</td>\n",
       "    </tr>\n",
       "    <tr>\n",
       "      <th>3</th>\n",
       "      <td>3</td>\n",
       "      <td>4</td>\n",
       "      <td>Detroit Cycles</td>\n",
       "      <td>Detroit, MI</td>\n",
       "    </tr>\n",
       "    <tr>\n",
       "      <th>4</th>\n",
       "      <td>4</td>\n",
       "      <td>5</td>\n",
       "      <td>Cincinnati Speed</td>\n",
       "      <td>Cincinnati, OH</td>\n",
       "    </tr>\n",
       "  </tbody>\n",
       "</table>\n",
       "</div>"
      ],
      "text/plain": [
       "   index  bikeshop.id                 bikeshop.name        location\n",
       "0      0            1  Pittsburgh Mountain Machines  Pittsburgh, PA\n",
       "1      1            2      Ithaca Mountain Climbers      Ithaca, NY\n",
       "2      2            3       Columbus Race Equipment    Columbus, OH\n",
       "3      3            4                Detroit Cycles     Detroit, MI\n",
       "4      4            5              Cincinnati Speed  Cincinnati, OH"
      ]
     },
     "execution_count": 23,
     "metadata": {},
     "output_type": "execute_result"
    }
   ],
   "source": [
    "table = inspector.get_table_names() # 所以現在的 table 的內容是 ['bikes', 'bikeshops', 'orderlines']\n",
    "pd.read_sql(f\"select * from {table[1]}\", con = conn).head() # 我去讀 bikeshops 這個 table"
   ]
  },
  {
   "cell_type": "markdown",
   "metadata": {},
   "source": [
    "* 這招等等會常用，因為我們會想用 for 回圈，把 database 裡的 table 都讀一遍。"
   ]
  },
  {
   "cell_type": "markdown",
   "metadata": {},
   "source": [
    "## 2.4 斷開連結"
   ]
  },
  {
   "cell_type": "markdown",
   "metadata": {},
   "source": [
    "* 有禮貌的小孩，用完就要把連結斷開  \n",
    "* 使用語法就是 `conn.close()` 就好"
   ]
  },
  {
   "cell_type": "code",
   "execution_count": 15,
   "metadata": {},
   "outputs": [],
   "source": [
    "conn.close()"
   ]
  },
  {
   "cell_type": "markdown",
   "metadata": {},
   "source": [
    "* 這時，如果你在做一次 `pd.read_sql(\"select * from bikes\", con = conn)` ，就會得到 error: `StatementError: (sqlalchemy.exc.ResourceClosedError) This Connection is closed`  "
   ]
  },
  {
   "cell_type": "markdown",
   "metadata": {},
   "source": [
    "# 3 GUI 工具"
   ]
  },
  {
   "cell_type": "markdown",
   "metadata": {},
   "source": [
    "* 就像在公司用 oracle database 時，有一個 oracle 的 GUI 可以讓我們看 database 裡面有什麼東西，並直接做操作一樣。我們可以把 VSCode 當我們的 GUI，只要下載對應的 extension 即可\n",
    "* 例如，我們下載 `SQLite` 這個 extension，安裝完成後，我就在 VSCode 中，按 `cmd + shift + p` ，並輸入 `sqlite: Open Database`，然後指到我們存檔的那個 sqlite db，就會在左邊的 pannel，看到 `SQLITE EXPLORER`\n",
    "* 點開 SQLITE EXPLORER，就可以點裡面的 table，看一下長怎麼樣了。\n",
    "* 要關閉連結時，一樣用 `cmd + shift + p` ，然後輸入 `sqlite: Close Database`，就可以關閉連結。"
   ]
  }
 ],
 "metadata": {
  "interpreter": {
   "hash": "c28bcaf8177fe56481115837a3a54353a074979baa12311ba55fb77ebaa0a4f6"
  },
  "kernelspec": {
   "display_name": "Python 3.8.0 64-bit ('3.8.0': pyenv)",
   "name": "python3"
  },
  "language_info": {
   "name": "python",
   "version": ""
  },
  "orig_nbformat": 4
 },
 "nbformat": 4,
 "nbformat_minor": 2
}