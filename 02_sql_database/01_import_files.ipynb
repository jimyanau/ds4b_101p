{
 "cells": [
  {
   "cell_type": "markdown",
   "metadata": {},
   "source": [
    "# 1. Imports"
   ]
  },
  {
   "cell_type": "code",
   "execution_count": 1,
   "metadata": {},
   "outputs": [],
   "source": [
    "import pandas as pd"
   ]
  },
  {
   "cell_type": "markdown",
   "metadata": {},
   "source": [
    "# 2. Files"
   ]
  },
  {
   "cell_type": "markdown",
   "metadata": {},
   "source": [
    "* 最常用的方式就是讀 pickle 檔 (99.9% 的情境都是)，因為他速度快，而且完整保持上次你處理完的資料格式(就和你存出來時的物件一模一樣)  \n",
    "* 第二常見的是 csv 檔，他一樣速度快，但格式沒辦法保存住，所以像是 datetime 這種欄位，就要再做一次轉換  \n",
    "* 最少用的是 xlsx 檔，因為速度慢，且有檔案大小限制(但對中文來說，反而常用excel，因為省掉編碼問題)  "
   ]
  },
  {
   "cell_type": "markdown",
   "metadata": {},
   "source": [
    "## 2.1 Pickle"
   ]
  },
  {
   "cell_type": "code",
   "execution_count": 2,
   "metadata": {},
   "outputs": [
    {
     "name": "stdout",
     "output_type": "stream",
     "text": [
      "<class 'pandas.core.frame.DataFrame'>\n",
      "Int64Index: 15644 entries, 0 to 15643\n",
      "Data columns (total 19 columns):\n",
      " #   Column          Non-Null Count  Dtype         \n",
      "---  ------          --------------  -----         \n",
      " 0   order_id        15644 non-null  int64         \n",
      " 1   order_line      15644 non-null  int64         \n",
      " 2   order_date      15644 non-null  datetime64[ns]\n",
      " 3   customer_id     15644 non-null  int64         \n",
      " 4   product_id      15644 non-null  int64         \n",
      " 5   quantity        15644 non-null  int64         \n",
      " 6   bike_id         15644 non-null  int64         \n",
      " 7   model           15644 non-null  object        \n",
      " 8   description     15644 non-null  object        \n",
      " 9   price           15644 non-null  int64         \n",
      " 10  bikeshop_id     15644 non-null  int64         \n",
      " 11  bikeshop_name   15644 non-null  object        \n",
      " 12  location        15644 non-null  object        \n",
      " 13  category_1      15644 non-null  object        \n",
      " 14  category_2      15644 non-null  object        \n",
      " 15  frame_material  15644 non-null  object        \n",
      " 16  city            15644 non-null  object        \n",
      " 17  state           15644 non-null  object        \n",
      " 18  total_price     15644 non-null  int64         \n",
      "dtypes: datetime64[ns](1), int64(9), object(9)\n",
      "memory usage: 2.4+ MB\n"
     ]
    }
   ],
   "source": [
    "pickle_df = pd.read_pickle(\"./00_data_wrangled/bike_orderlines_wrangled_df.pkl\")\n",
    "pickle_df.info()"
   ]
  },
  {
   "cell_type": "markdown",
   "metadata": {},
   "source": [
    "## 2.2 CSV"
   ]
  },
  {
   "cell_type": "code",
   "execution_count": 3,
   "metadata": {},
   "outputs": [
    {
     "name": "stdout",
     "output_type": "stream",
     "text": [
      "<class 'pandas.core.frame.DataFrame'>\n",
      "RangeIndex: 15644 entries, 0 to 15643\n",
      "Data columns (total 20 columns):\n",
      " #   Column          Non-Null Count  Dtype         \n",
      "---  ------          --------------  -----         \n",
      " 0   Unnamed: 0      15644 non-null  int64         \n",
      " 1   order_id        15644 non-null  int64         \n",
      " 2   order_line      15644 non-null  int64         \n",
      " 3   order_date      15644 non-null  datetime64[ns]\n",
      " 4   customer_id     15644 non-null  int64         \n",
      " 5   product_id      15644 non-null  int64         \n",
      " 6   quantity        15644 non-null  int64         \n",
      " 7   bike_id         15644 non-null  int64         \n",
      " 8   model           15644 non-null  object        \n",
      " 9   description     15644 non-null  object        \n",
      " 10  price           15644 non-null  int64         \n",
      " 11  bikeshop_id     15644 non-null  int64         \n",
      " 12  bikeshop_name   15644 non-null  object        \n",
      " 13  location        15644 non-null  object        \n",
      " 14  category_1      15644 non-null  object        \n",
      " 15  category_2      15644 non-null  object        \n",
      " 16  frame_material  15644 non-null  object        \n",
      " 17  city            15644 non-null  object        \n",
      " 18  state           15644 non-null  object        \n",
      " 19  total_price     15644 non-null  int64         \n",
      "dtypes: datetime64[ns](1), int64(10), object(9)\n",
      "memory usage: 2.4+ MB\n"
     ]
    }
   ],
   "source": [
    "csv_df = pd.read_csv(\"./00_data_wrangled/bike_orderlines_wrangled_df.csv\", parse_dates=['order_date'])\n",
    "csv_df.info()"
   ]
  },
  {
   "cell_type": "markdown",
   "metadata": {},
   "source": [
    "## 2.3 Excel"
   ]
  },
  {
   "cell_type": "code",
   "execution_count": 4,
   "metadata": {},
   "outputs": [
    {
     "name": "stdout",
     "output_type": "stream",
     "text": [
      "<class 'pandas.core.frame.DataFrame'>\n",
      "RangeIndex: 15644 entries, 0 to 15643\n",
      "Data columns (total 20 columns):\n",
      " #   Column          Non-Null Count  Dtype         \n",
      "---  ------          --------------  -----         \n",
      " 0   Unnamed: 0      15644 non-null  int64         \n",
      " 1   order_id        15644 non-null  int64         \n",
      " 2   order_line      15644 non-null  int64         \n",
      " 3   order_date      15644 non-null  datetime64[ns]\n",
      " 4   customer_id     15644 non-null  int64         \n",
      " 5   product_id      15644 non-null  int64         \n",
      " 6   quantity        15644 non-null  int64         \n",
      " 7   bike_id         15644 non-null  int64         \n",
      " 8   model           15644 non-null  object        \n",
      " 9   description     15644 non-null  object        \n",
      " 10  price           15644 non-null  int64         \n",
      " 11  bikeshop_id     15644 non-null  int64         \n",
      " 12  bikeshop_name   15644 non-null  object        \n",
      " 13  location        15644 non-null  object        \n",
      " 14  category_1      15644 non-null  object        \n",
      " 15  category_2      15644 non-null  object        \n",
      " 16  frame_material  15644 non-null  object        \n",
      " 17  city            15644 non-null  object        \n",
      " 18  state           15644 non-null  object        \n",
      " 19  total_price     15644 non-null  int64         \n",
      "dtypes: datetime64[ns](1), int64(10), object(9)\n",
      "memory usage: 2.4+ MB\n"
     ]
    }
   ],
   "source": [
    "excel_df = pd.read_excel(\"./00_data_wrangled/bike_orderlines_wrangled_df.xlsx\", engine='openpyxl')\n",
    "excel_df.info()"
   ]
  },
  {
   "cell_type": "markdown",
   "metadata": {},
   "source": [
    "* 可以善用 `?pd.read_excel` 來閱讀文件"
   ]
  },
  {
   "cell_type": "code",
   "execution_count": 5,
   "metadata": {},
   "outputs": [
    {
     "name": "stdout",
     "output_type": "stream",
     "text": [
      "false\n"
     ]
    }
   ],
   "source": [
    "%%script echo false\n",
    "?pd.read_excel"
   ]
  },
  {
   "cell_type": "code",
   "execution_count": null,
   "metadata": {},
   "outputs": [],
   "source": []
  }
 ],
 "metadata": {
  "interpreter": {
   "hash": "c28bcaf8177fe56481115837a3a54353a074979baa12311ba55fb77ebaa0a4f6"
  },
  "kernelspec": {
   "display_name": "Python 3.8.0 64-bit ('3.8.0': pyenv)",
   "name": "python3"
  },
  "language_info": {
   "codemirror_mode": {
    "name": "ipython",
    "version": 3
   },
   "file_extension": ".py",
   "mimetype": "text/x-python",
   "name": "python",
   "nbconvert_exporter": "python",
   "pygments_lexer": "ipython3",
   "version": "3.8.0"
  },
  "orig_nbformat": 4
 },
 "nbformat": 4,
 "nbformat_minor": 2
}