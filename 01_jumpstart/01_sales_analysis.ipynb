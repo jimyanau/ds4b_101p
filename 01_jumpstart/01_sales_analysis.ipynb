{
 "metadata": {
  "language_info": {
   "codemirror_mode": {
    "name": "ipython",
    "version": 3
   },
   "file_extension": ".py",
   "mimetype": "text/x-python",
   "name": "python",
   "nbconvert_exporter": "python",
   "pygments_lexer": "ipython3",
   "version": "3.8.0"
  },
  "orig_nbformat": 2,
  "kernelspec": {
   "name": "python3",
   "display_name": "Python 3.8.0 64-bit ('3.8.0': pyenv)"
  },
  "interpreter": {
   "hash": "c28bcaf8177fe56481115837a3a54353a074979baa12311ba55fb77ebaa0a4f6"
  }
 },
 "nbformat": 4,
 "nbformat_minor": 2,
 "cells": [
  {
   "source": [
    "# 1.0 Load Libraries  "
   ],
   "cell_type": "markdown",
   "metadata": {}
  },
  {
   "cell_type": "code",
   "execution_count": 10,
   "metadata": {},
   "outputs": [
    {
     "output_type": "display_data",
     "data": {
      "text/plain": "\u001b[1;36m6\u001b[0m\n",
      "text/html": "<pre style=\"white-space:pre;overflow-x:auto;line-height:normal;font-family:Menlo,'DejaVu Sans Mono',consolas,'Courier New',monospace\"><span style=\"color: #008080; text-decoration-color: #008080; font-weight: bold\">6</span>\n</pre>\n"
     },
     "metadata": {}
    }
   ],
   "source": [
    "\n",
    "# Core Python Data Analysis\n",
    "import pandas as pd\n",
    "import numpy as np\n",
    "import matplotlib.pyplot as plt\n",
    "\n",
    "# Plotting\n",
    "from plotnine import (  # python很常只import你要的function，不會import整個package\n",
    "    ggplot, aes, geom_col,\n",
    "    geom_col, geom_line, geom_smooth,\n",
    "    facet_wrap,\n",
    "    scale_y_continuous,\n",
    "    scale_x_datetime,\n",
    "    labs,\n",
    "    theme, theme_minimal, theme_matplotlib\n",
    ")\n",
    "from mizani.breaks import date_breaks\n",
    "from mizani.formatters import date_format, currency_format\n",
    "\n",
    "# Misc\n",
    "from os import mkdir, getcwd  # mkder是os的一個function(意思是，我不能再用mkdir.xxx)\n",
    "# pretty 是 rich 下的一個 module。他叫module不叫function，因為他還可以用 pretty.xxx\n",
    "from rich import pretty\n",
    "pretty.install()  # 這只會影響目前 python console 的結果，他沒有真的安裝什麼東西\n",
    "# rich這個package是用來做terminal formatting用的，讓terminal變漂亮一點\n",
    "# 例如我現在重新執行 numpy 的計算，會發現結果的顏色變藍色，比較能區分 code 和 result 了\n",
    "np.sum([1, 2, 3])"
   ]
  },
  {
   "source": [
    "# 2.0 Importing Data Files"
   ],
   "cell_type": "markdown",
   "metadata": {}
  },
  {
   "cell_type": "code",
   "execution_count": 11,
   "metadata": {},
   "outputs": [
    {
     "output_type": "error",
     "ename": "PermissionError",
     "evalue": "[Errno 1] Operation not permitted: './00_data_raw/orderlines.xlsx'",
     "traceback": [
      "\u001b[0;31m---------------------------------------------------------------------------\u001b[0m",
      "\u001b[0;31mPermissionError\u001b[0m                           Traceback (most recent call last)",
      "\u001b[0;32m<ipython-input-11-7a9183bb3b5c>\u001b[0m in \u001b[0;36m<module>\u001b[0;34m\u001b[0m\n\u001b[1;32m      1\u001b[0m \u001b[0mbikes_df\u001b[0m \u001b[0;34m=\u001b[0m \u001b[0mpd\u001b[0m\u001b[0;34m.\u001b[0m\u001b[0mread_excel\u001b[0m\u001b[0;34m(\u001b[0m\u001b[0;34m\"./00_data_raw/bikes.xlsx\"\u001b[0m\u001b[0;34m,\u001b[0m \u001b[0mengine\u001b[0m\u001b[0;34m=\u001b[0m\u001b[0;34m'openpyxl'\u001b[0m\u001b[0;34m)\u001b[0m\u001b[0;34m\u001b[0m\u001b[0;34m\u001b[0m\u001b[0m\n\u001b[1;32m      2\u001b[0m \u001b[0mbikeshops_df\u001b[0m \u001b[0;34m=\u001b[0m \u001b[0mpd\u001b[0m\u001b[0;34m.\u001b[0m\u001b[0mread_excel\u001b[0m\u001b[0;34m(\u001b[0m\u001b[0;34m\"./00_data_raw/bikeshops.xlsx\"\u001b[0m\u001b[0;34m,\u001b[0m \u001b[0mengine\u001b[0m\u001b[0;34m=\u001b[0m\u001b[0;34m'openpyxl'\u001b[0m\u001b[0;34m)\u001b[0m\u001b[0;34m\u001b[0m\u001b[0;34m\u001b[0m\u001b[0m\n\u001b[0;32m----> 3\u001b[0;31m orderlines_df = pd.read_excel(\n\u001b[0m\u001b[1;32m      4\u001b[0m     \u001b[0mio\u001b[0m \u001b[0;34m=\u001b[0m \u001b[0;34m\"./00_data_raw/orderlines.xlsx\"\u001b[0m\u001b[0;34m,\u001b[0m\u001b[0;34m\u001b[0m\u001b[0;34m\u001b[0m\u001b[0m\n\u001b[1;32m      5\u001b[0m     \u001b[0mengine\u001b[0m\u001b[0;34m=\u001b[0m\u001b[0;34m'openpyxl'\u001b[0m\u001b[0;34m,\u001b[0m\u001b[0;34m\u001b[0m\u001b[0;34m\u001b[0m\u001b[0m\n",
      "\u001b[0;32m~/.pyenv/versions/3.8.0/lib/python3.8/site-packages/pandas/util/_decorators.py\u001b[0m in \u001b[0;36mwrapper\u001b[0;34m(*args, **kwargs)\u001b[0m\n\u001b[1;32m    294\u001b[0m                 )\n\u001b[1;32m    295\u001b[0m                 \u001b[0mwarnings\u001b[0m\u001b[0;34m.\u001b[0m\u001b[0mwarn\u001b[0m\u001b[0;34m(\u001b[0m\u001b[0mmsg\u001b[0m\u001b[0;34m,\u001b[0m \u001b[0mFutureWarning\u001b[0m\u001b[0;34m,\u001b[0m \u001b[0mstacklevel\u001b[0m\u001b[0;34m=\u001b[0m\u001b[0mstacklevel\u001b[0m\u001b[0;34m)\u001b[0m\u001b[0;34m\u001b[0m\u001b[0;34m\u001b[0m\u001b[0m\n\u001b[0;32m--> 296\u001b[0;31m             \u001b[0;32mreturn\u001b[0m \u001b[0mfunc\u001b[0m\u001b[0;34m(\u001b[0m\u001b[0;34m*\u001b[0m\u001b[0margs\u001b[0m\u001b[0;34m,\u001b[0m \u001b[0;34m**\u001b[0m\u001b[0mkwargs\u001b[0m\u001b[0;34m)\u001b[0m\u001b[0;34m\u001b[0m\u001b[0;34m\u001b[0m\u001b[0m\n\u001b[0m\u001b[1;32m    297\u001b[0m \u001b[0;34m\u001b[0m\u001b[0m\n\u001b[1;32m    298\u001b[0m         \u001b[0;32mreturn\u001b[0m \u001b[0mwrapper\u001b[0m\u001b[0;34m\u001b[0m\u001b[0;34m\u001b[0m\u001b[0m\n",
      "\u001b[0;32m~/.pyenv/versions/3.8.0/lib/python3.8/site-packages/pandas/io/excel/_base.py\u001b[0m in \u001b[0;36mread_excel\u001b[0;34m(io, sheet_name, header, names, index_col, usecols, squeeze, dtype, engine, converters, true_values, false_values, skiprows, nrows, na_values, keep_default_na, na_filter, verbose, parse_dates, date_parser, thousands, comment, skipfooter, convert_float, mangle_dupe_cols)\u001b[0m\n\u001b[1;32m    302\u001b[0m \u001b[0;34m\u001b[0m\u001b[0m\n\u001b[1;32m    303\u001b[0m     \u001b[0;32mif\u001b[0m \u001b[0;32mnot\u001b[0m \u001b[0misinstance\u001b[0m\u001b[0;34m(\u001b[0m\u001b[0mio\u001b[0m\u001b[0;34m,\u001b[0m \u001b[0mExcelFile\u001b[0m\u001b[0;34m)\u001b[0m\u001b[0;34m:\u001b[0m\u001b[0;34m\u001b[0m\u001b[0;34m\u001b[0m\u001b[0m\n\u001b[0;32m--> 304\u001b[0;31m         \u001b[0mio\u001b[0m \u001b[0;34m=\u001b[0m \u001b[0mExcelFile\u001b[0m\u001b[0;34m(\u001b[0m\u001b[0mio\u001b[0m\u001b[0;34m,\u001b[0m \u001b[0mengine\u001b[0m\u001b[0;34m=\u001b[0m\u001b[0mengine\u001b[0m\u001b[0;34m)\u001b[0m\u001b[0;34m\u001b[0m\u001b[0;34m\u001b[0m\u001b[0m\n\u001b[0m\u001b[1;32m    305\u001b[0m     \u001b[0;32melif\u001b[0m \u001b[0mengine\u001b[0m \u001b[0;32mand\u001b[0m \u001b[0mengine\u001b[0m \u001b[0;34m!=\u001b[0m \u001b[0mio\u001b[0m\u001b[0;34m.\u001b[0m\u001b[0mengine\u001b[0m\u001b[0;34m:\u001b[0m\u001b[0;34m\u001b[0m\u001b[0;34m\u001b[0m\u001b[0m\n\u001b[1;32m    306\u001b[0m         raise ValueError(\n",
      "\u001b[0;32m~/.pyenv/versions/3.8.0/lib/python3.8/site-packages/pandas/io/excel/_base.py\u001b[0m in \u001b[0;36m__init__\u001b[0;34m(self, path_or_buffer, engine)\u001b[0m\n\u001b[1;32m    865\u001b[0m         \u001b[0mself\u001b[0m\u001b[0;34m.\u001b[0m\u001b[0m_io\u001b[0m \u001b[0;34m=\u001b[0m \u001b[0mstringify_path\u001b[0m\u001b[0;34m(\u001b[0m\u001b[0mpath_or_buffer\u001b[0m\u001b[0;34m)\u001b[0m\u001b[0;34m\u001b[0m\u001b[0;34m\u001b[0m\u001b[0m\n\u001b[1;32m    866\u001b[0m \u001b[0;34m\u001b[0m\u001b[0m\n\u001b[0;32m--> 867\u001b[0;31m         \u001b[0mself\u001b[0m\u001b[0;34m.\u001b[0m\u001b[0m_reader\u001b[0m \u001b[0;34m=\u001b[0m \u001b[0mself\u001b[0m\u001b[0;34m.\u001b[0m\u001b[0m_engines\u001b[0m\u001b[0;34m[\u001b[0m\u001b[0mengine\u001b[0m\u001b[0;34m]\u001b[0m\u001b[0;34m(\u001b[0m\u001b[0mself\u001b[0m\u001b[0;34m.\u001b[0m\u001b[0m_io\u001b[0m\u001b[0;34m)\u001b[0m\u001b[0;34m\u001b[0m\u001b[0;34m\u001b[0m\u001b[0m\n\u001b[0m\u001b[1;32m    868\u001b[0m \u001b[0;34m\u001b[0m\u001b[0m\n\u001b[1;32m    869\u001b[0m     \u001b[0;32mdef\u001b[0m \u001b[0m__fspath__\u001b[0m\u001b[0;34m(\u001b[0m\u001b[0mself\u001b[0m\u001b[0;34m)\u001b[0m\u001b[0;34m:\u001b[0m\u001b[0;34m\u001b[0m\u001b[0;34m\u001b[0m\u001b[0m\n",
      "\u001b[0;32m~/.pyenv/versions/3.8.0/lib/python3.8/site-packages/pandas/io/excel/_openpyxl.py\u001b[0m in \u001b[0;36m__init__\u001b[0;34m(self, filepath_or_buffer)\u001b[0m\n\u001b[1;32m    478\u001b[0m         \"\"\"\n\u001b[1;32m    479\u001b[0m         \u001b[0mimport_optional_dependency\u001b[0m\u001b[0;34m(\u001b[0m\u001b[0;34m\"openpyxl\"\u001b[0m\u001b[0;34m)\u001b[0m\u001b[0;34m\u001b[0m\u001b[0;34m\u001b[0m\u001b[0m\n\u001b[0;32m--> 480\u001b[0;31m         \u001b[0msuper\u001b[0m\u001b[0;34m(\u001b[0m\u001b[0;34m)\u001b[0m\u001b[0;34m.\u001b[0m\u001b[0m__init__\u001b[0m\u001b[0;34m(\u001b[0m\u001b[0mfilepath_or_buffer\u001b[0m\u001b[0;34m)\u001b[0m\u001b[0;34m\u001b[0m\u001b[0;34m\u001b[0m\u001b[0m\n\u001b[0m\u001b[1;32m    481\u001b[0m \u001b[0;34m\u001b[0m\u001b[0m\n\u001b[1;32m    482\u001b[0m     \u001b[0;34m@\u001b[0m\u001b[0mproperty\u001b[0m\u001b[0;34m\u001b[0m\u001b[0;34m\u001b[0m\u001b[0m\n",
      "\u001b[0;32m~/.pyenv/versions/3.8.0/lib/python3.8/site-packages/pandas/io/excel/_base.py\u001b[0m in \u001b[0;36m__init__\u001b[0;34m(self, filepath_or_buffer)\u001b[0m\n\u001b[1;32m    351\u001b[0m             \u001b[0mself\u001b[0m\u001b[0;34m.\u001b[0m\u001b[0mbook\u001b[0m \u001b[0;34m=\u001b[0m \u001b[0mself\u001b[0m\u001b[0;34m.\u001b[0m\u001b[0mload_workbook\u001b[0m\u001b[0;34m(\u001b[0m\u001b[0mfilepath_or_buffer\u001b[0m\u001b[0;34m)\u001b[0m\u001b[0;34m\u001b[0m\u001b[0;34m\u001b[0m\u001b[0m\n\u001b[1;32m    352\u001b[0m         \u001b[0;32melif\u001b[0m \u001b[0misinstance\u001b[0m\u001b[0;34m(\u001b[0m\u001b[0mfilepath_or_buffer\u001b[0m\u001b[0;34m,\u001b[0m \u001b[0mstr\u001b[0m\u001b[0;34m)\u001b[0m\u001b[0;34m:\u001b[0m\u001b[0;34m\u001b[0m\u001b[0;34m\u001b[0m\u001b[0m\n\u001b[0;32m--> 353\u001b[0;31m             \u001b[0mself\u001b[0m\u001b[0;34m.\u001b[0m\u001b[0mbook\u001b[0m \u001b[0;34m=\u001b[0m \u001b[0mself\u001b[0m\u001b[0;34m.\u001b[0m\u001b[0mload_workbook\u001b[0m\u001b[0;34m(\u001b[0m\u001b[0mfilepath_or_buffer\u001b[0m\u001b[0;34m)\u001b[0m\u001b[0;34m\u001b[0m\u001b[0;34m\u001b[0m\u001b[0m\n\u001b[0m\u001b[1;32m    354\u001b[0m         \u001b[0;32melif\u001b[0m \u001b[0misinstance\u001b[0m\u001b[0;34m(\u001b[0m\u001b[0mfilepath_or_buffer\u001b[0m\u001b[0;34m,\u001b[0m \u001b[0mbytes\u001b[0m\u001b[0;34m)\u001b[0m\u001b[0;34m:\u001b[0m\u001b[0;34m\u001b[0m\u001b[0;34m\u001b[0m\u001b[0m\n\u001b[1;32m    355\u001b[0m             \u001b[0mself\u001b[0m\u001b[0;34m.\u001b[0m\u001b[0mbook\u001b[0m \u001b[0;34m=\u001b[0m \u001b[0mself\u001b[0m\u001b[0;34m.\u001b[0m\u001b[0mload_workbook\u001b[0m\u001b[0;34m(\u001b[0m\u001b[0mBytesIO\u001b[0m\u001b[0;34m(\u001b[0m\u001b[0mfilepath_or_buffer\u001b[0m\u001b[0;34m)\u001b[0m\u001b[0;34m)\u001b[0m\u001b[0;34m\u001b[0m\u001b[0;34m\u001b[0m\u001b[0m\n",
      "\u001b[0;32m~/.pyenv/versions/3.8.0/lib/python3.8/site-packages/pandas/io/excel/_openpyxl.py\u001b[0m in \u001b[0;36mload_workbook\u001b[0;34m(self, filepath_or_buffer)\u001b[0m\n\u001b[1;32m    489\u001b[0m         \u001b[0;32mfrom\u001b[0m \u001b[0mopenpyxl\u001b[0m \u001b[0;32mimport\u001b[0m \u001b[0mload_workbook\u001b[0m\u001b[0;34m\u001b[0m\u001b[0;34m\u001b[0m\u001b[0m\n\u001b[1;32m    490\u001b[0m \u001b[0;34m\u001b[0m\u001b[0m\n\u001b[0;32m--> 491\u001b[0;31m         return load_workbook(\n\u001b[0m\u001b[1;32m    492\u001b[0m             \u001b[0mfilepath_or_buffer\u001b[0m\u001b[0;34m,\u001b[0m \u001b[0mread_only\u001b[0m\u001b[0;34m=\u001b[0m\u001b[0;32mTrue\u001b[0m\u001b[0;34m,\u001b[0m \u001b[0mdata_only\u001b[0m\u001b[0;34m=\u001b[0m\u001b[0;32mTrue\u001b[0m\u001b[0;34m,\u001b[0m \u001b[0mkeep_links\u001b[0m\u001b[0;34m=\u001b[0m\u001b[0;32mFalse\u001b[0m\u001b[0;34m\u001b[0m\u001b[0;34m\u001b[0m\u001b[0m\n\u001b[1;32m    493\u001b[0m         )\n",
      "\u001b[0;32m~/.pyenv/versions/3.8.0/lib/python3.8/site-packages/openpyxl/reader/excel.py\u001b[0m in \u001b[0;36mload_workbook\u001b[0;34m(filename, read_only, keep_vba, data_only, keep_links)\u001b[0m\n\u001b[1;32m    313\u001b[0m \u001b[0;34m\u001b[0m\u001b[0m\n\u001b[1;32m    314\u001b[0m     \"\"\"\n\u001b[0;32m--> 315\u001b[0;31m     reader = ExcelReader(filename, read_only, keep_vba,\n\u001b[0m\u001b[1;32m    316\u001b[0m                         data_only, keep_links)\n\u001b[1;32m    317\u001b[0m     \u001b[0mreader\u001b[0m\u001b[0;34m.\u001b[0m\u001b[0mread\u001b[0m\u001b[0;34m(\u001b[0m\u001b[0;34m)\u001b[0m\u001b[0;34m\u001b[0m\u001b[0;34m\u001b[0m\u001b[0m\n",
      "\u001b[0;32m~/.pyenv/versions/3.8.0/lib/python3.8/site-packages/openpyxl/reader/excel.py\u001b[0m in \u001b[0;36m__init__\u001b[0;34m(self, fn, read_only, keep_vba, data_only, keep_links)\u001b[0m\n\u001b[1;32m    122\u001b[0m     def __init__(self,  fn, read_only=False, keep_vba=KEEP_VBA,\n\u001b[1;32m    123\u001b[0m                   data_only=False, keep_links=True):\n\u001b[0;32m--> 124\u001b[0;31m         \u001b[0mself\u001b[0m\u001b[0;34m.\u001b[0m\u001b[0marchive\u001b[0m \u001b[0;34m=\u001b[0m \u001b[0m_validate_archive\u001b[0m\u001b[0;34m(\u001b[0m\u001b[0mfn\u001b[0m\u001b[0;34m)\u001b[0m\u001b[0;34m\u001b[0m\u001b[0;34m\u001b[0m\u001b[0m\n\u001b[0m\u001b[1;32m    125\u001b[0m         \u001b[0mself\u001b[0m\u001b[0;34m.\u001b[0m\u001b[0mvalid_files\u001b[0m \u001b[0;34m=\u001b[0m \u001b[0mself\u001b[0m\u001b[0;34m.\u001b[0m\u001b[0marchive\u001b[0m\u001b[0;34m.\u001b[0m\u001b[0mnamelist\u001b[0m\u001b[0;34m(\u001b[0m\u001b[0;34m)\u001b[0m\u001b[0;34m\u001b[0m\u001b[0;34m\u001b[0m\u001b[0m\n\u001b[1;32m    126\u001b[0m         \u001b[0mself\u001b[0m\u001b[0;34m.\u001b[0m\u001b[0mread_only\u001b[0m \u001b[0;34m=\u001b[0m \u001b[0mread_only\u001b[0m\u001b[0;34m\u001b[0m\u001b[0;34m\u001b[0m\u001b[0m\n",
      "\u001b[0;32m~/.pyenv/versions/3.8.0/lib/python3.8/site-packages/openpyxl/reader/excel.py\u001b[0m in \u001b[0;36m_validate_archive\u001b[0;34m(filename)\u001b[0m\n\u001b[1;32m     94\u001b[0m             \u001b[0;32mraise\u001b[0m \u001b[0mInvalidFileException\u001b[0m\u001b[0;34m(\u001b[0m\u001b[0mmsg\u001b[0m\u001b[0;34m)\u001b[0m\u001b[0;34m\u001b[0m\u001b[0;34m\u001b[0m\u001b[0m\n\u001b[1;32m     95\u001b[0m \u001b[0;34m\u001b[0m\u001b[0m\n\u001b[0;32m---> 96\u001b[0;31m     \u001b[0marchive\u001b[0m \u001b[0;34m=\u001b[0m \u001b[0mZipFile\u001b[0m\u001b[0;34m(\u001b[0m\u001b[0mfilename\u001b[0m\u001b[0;34m,\u001b[0m \u001b[0;34m'r'\u001b[0m\u001b[0;34m)\u001b[0m\u001b[0;34m\u001b[0m\u001b[0;34m\u001b[0m\u001b[0m\n\u001b[0m\u001b[1;32m     97\u001b[0m     \u001b[0;32mreturn\u001b[0m \u001b[0marchive\u001b[0m\u001b[0;34m\u001b[0m\u001b[0;34m\u001b[0m\u001b[0m\n\u001b[1;32m     98\u001b[0m \u001b[0;34m\u001b[0m\u001b[0m\n",
      "\u001b[0;32m~/.pyenv/versions/3.8.0/lib/python3.8/zipfile.py\u001b[0m in \u001b[0;36m__init__\u001b[0;34m(self, file, mode, compression, allowZip64, compresslevel, strict_timestamps)\u001b[0m\n\u001b[1;32m   1214\u001b[0m             \u001b[0;32mwhile\u001b[0m \u001b[0;32mTrue\u001b[0m\u001b[0;34m:\u001b[0m\u001b[0;34m\u001b[0m\u001b[0;34m\u001b[0m\u001b[0m\n\u001b[1;32m   1215\u001b[0m                 \u001b[0;32mtry\u001b[0m\u001b[0;34m:\u001b[0m\u001b[0;34m\u001b[0m\u001b[0;34m\u001b[0m\u001b[0m\n\u001b[0;32m-> 1216\u001b[0;31m                     \u001b[0mself\u001b[0m\u001b[0;34m.\u001b[0m\u001b[0mfp\u001b[0m \u001b[0;34m=\u001b[0m \u001b[0mio\u001b[0m\u001b[0;34m.\u001b[0m\u001b[0mopen\u001b[0m\u001b[0;34m(\u001b[0m\u001b[0mfile\u001b[0m\u001b[0;34m,\u001b[0m \u001b[0mfilemode\u001b[0m\u001b[0;34m)\u001b[0m\u001b[0;34m\u001b[0m\u001b[0;34m\u001b[0m\u001b[0m\n\u001b[0m\u001b[1;32m   1217\u001b[0m                 \u001b[0;32mexcept\u001b[0m \u001b[0mOSError\u001b[0m\u001b[0;34m:\u001b[0m\u001b[0;34m\u001b[0m\u001b[0;34m\u001b[0m\u001b[0m\n\u001b[1;32m   1218\u001b[0m                     \u001b[0;32mif\u001b[0m \u001b[0mfilemode\u001b[0m \u001b[0;32min\u001b[0m \u001b[0mmodeDict\u001b[0m\u001b[0;34m:\u001b[0m\u001b[0;34m\u001b[0m\u001b[0;34m\u001b[0m\u001b[0m\n",
      "\u001b[0;31mPermissionError\u001b[0m: [Errno 1] Operation not permitted: './00_data_raw/orderlines.xlsx'"
     ]
    }
   ],
   "source": [
    "bikes_df = pd.read_excel(\"./00_data_raw/bikes.xlsx\", engine='openpyxl')\n",
    "bikeshops_df = pd.read_excel(\"./00_data_raw/bikeshops.xlsx\", engine='openpyxl')\n",
    "orderlines_df = pd.read_excel(\n",
    "    io = \"./00_data_raw/orderlines.xlsx\",\n",
    "    engine='openpyxl',\n",
    "    converters={'order.date': str}\n",
    ")"
   ]
  },
  {
   "source": [
    "# 3. Examining Data"
   ],
   "cell_type": "markdown",
   "metadata": {}
  },
  {
   "source": [
    "## 3.1 看一下三張資料表"
   ],
   "cell_type": "markdown",
   "metadata": {}
  },
  {
   "source": [
    "* 首先來看看 `bikes_df` 這個資料集"
   ],
   "cell_type": "markdown",
   "metadata": {}
  },
  {
   "cell_type": "code",
   "execution_count": 3,
   "metadata": {},
   "outputs": [
    {
     "output_type": "execute_result",
     "data": {
      "text/html": "<div>\n<style scoped>\n    .dataframe tbody tr th:only-of-type {\n        vertical-align: middle;\n    }\n\n    .dataframe tbody tr th {\n        vertical-align: top;\n    }\n\n    .dataframe thead th {\n        text-align: right;\n    }\n</style>\n<table border=\"1\" class=\"dataframe\">\n  <thead>\n    <tr style=\"text-align: right;\">\n      <th></th>\n      <th>bike.id</th>\n      <th>model</th>\n      <th>description</th>\n      <th>price</th>\n    </tr>\n  </thead>\n  <tbody>\n    <tr>\n      <th>0</th>\n      <td>1</td>\n      <td>Supersix Evo Black Inc.</td>\n      <td>Road - Elite Road - Carbon</td>\n      <td>12790</td>\n    </tr>\n    <tr>\n      <th>1</th>\n      <td>2</td>\n      <td>Supersix Evo Hi-Mod Team</td>\n      <td>Road - Elite Road - Carbon</td>\n      <td>10660</td>\n    </tr>\n    <tr>\n      <th>2</th>\n      <td>3</td>\n      <td>Supersix Evo Hi-Mod Dura Ace 1</td>\n      <td>Road - Elite Road - Carbon</td>\n      <td>7990</td>\n    </tr>\n    <tr>\n      <th>3</th>\n      <td>4</td>\n      <td>Supersix Evo Hi-Mod Dura Ace 2</td>\n      <td>Road - Elite Road - Carbon</td>\n      <td>5330</td>\n    </tr>\n    <tr>\n      <th>4</th>\n      <td>5</td>\n      <td>Supersix Evo Hi-Mod Utegra</td>\n      <td>Road - Elite Road - Carbon</td>\n      <td>4260</td>\n    </tr>\n  </tbody>\n</table>\n</div>"
     },
     "metadata": {},
     "execution_count": 3
    }
   ],
   "source": [
    "bikes_df.head(5)"
   ]
  },
  {
   "source": [
    "* 可以看到，每一個 row 就是一台腳踏車，後續的欄位就是描述這台腳踏車的 機型(model), 介紹(description), 和價錢(price)"
   ],
   "cell_type": "markdown",
   "metadata": {}
  },
  {
   "source": [
    "* 再來看看 `bikeshops_df` 這個資料集"
   ],
   "cell_type": "markdown",
   "metadata": {}
  },
  {
   "cell_type": "code",
   "execution_count": 4,
   "metadata": {},
   "outputs": [
    {
     "output_type": "execute_result",
     "data": {
      "text/html": "<div>\n<style scoped>\n    .dataframe tbody tr th:only-of-type {\n        vertical-align: middle;\n    }\n\n    .dataframe tbody tr th {\n        vertical-align: top;\n    }\n\n    .dataframe thead th {\n        text-align: right;\n    }\n</style>\n<table border=\"1\" class=\"dataframe\">\n  <thead>\n    <tr style=\"text-align: right;\">\n      <th></th>\n      <th>bikeshop.id</th>\n      <th>bikeshop.name</th>\n      <th>location</th>\n    </tr>\n  </thead>\n  <tbody>\n    <tr>\n      <th>0</th>\n      <td>1</td>\n      <td>Pittsburgh Mountain Machines</td>\n      <td>Pittsburgh, PA</td>\n    </tr>\n    <tr>\n      <th>1</th>\n      <td>2</td>\n      <td>Ithaca Mountain Climbers</td>\n      <td>Ithaca, NY</td>\n    </tr>\n    <tr>\n      <th>2</th>\n      <td>3</td>\n      <td>Columbus Race Equipment</td>\n      <td>Columbus, OH</td>\n    </tr>\n    <tr>\n      <th>3</th>\n      <td>4</td>\n      <td>Detroit Cycles</td>\n      <td>Detroit, MI</td>\n    </tr>\n    <tr>\n      <th>4</th>\n      <td>5</td>\n      <td>Cincinnati Speed</td>\n      <td>Cincinnati, OH</td>\n    </tr>\n  </tbody>\n</table>\n</div>"
     },
     "metadata": {},
     "execution_count": 4
    }
   ],
   "source": [
    "bikeshops_df.head(5)"
   ]
  },
  {
   "source": [
    "* 可以看到，每一個 row 是一個腳踏車店，裡面有他的 id, 店名, 和 地址(location)"
   ],
   "cell_type": "markdown",
   "metadata": {}
  },
  {
   "source": [
    "* 最後，來看看 `orderlines_df`"
   ],
   "cell_type": "markdown",
   "metadata": {}
  },
  {
   "cell_type": "code",
   "execution_count": 5,
   "metadata": {},
   "outputs": [
    {
     "output_type": "execute_result",
     "data": {
      "text/html": "<div>\n<style scoped>\n    .dataframe tbody tr th:only-of-type {\n        vertical-align: middle;\n    }\n\n    .dataframe tbody tr th {\n        vertical-align: top;\n    }\n\n    .dataframe thead th {\n        text-align: right;\n    }\n</style>\n<table border=\"1\" class=\"dataframe\">\n  <thead>\n    <tr style=\"text-align: right;\">\n      <th></th>\n      <th>order.id</th>\n      <th>order.line</th>\n      <th>order.date</th>\n      <th>customer.id</th>\n      <th>product.id</th>\n      <th>quantity</th>\n    </tr>\n  </thead>\n  <tbody>\n    <tr>\n      <th>0</th>\n      <td>1</td>\n      <td>1</td>\n      <td>2011-01-07 00:00:00</td>\n      <td>2</td>\n      <td>48</td>\n      <td>1</td>\n    </tr>\n    <tr>\n      <th>1</th>\n      <td>1</td>\n      <td>2</td>\n      <td>2011-01-07 00:00:00</td>\n      <td>2</td>\n      <td>52</td>\n      <td>1</td>\n    </tr>\n    <tr>\n      <th>2</th>\n      <td>2</td>\n      <td>1</td>\n      <td>2011-01-10 00:00:00</td>\n      <td>10</td>\n      <td>76</td>\n      <td>1</td>\n    </tr>\n    <tr>\n      <th>3</th>\n      <td>2</td>\n      <td>2</td>\n      <td>2011-01-10 00:00:00</td>\n      <td>10</td>\n      <td>52</td>\n      <td>1</td>\n    </tr>\n    <tr>\n      <th>4</th>\n      <td>3</td>\n      <td>1</td>\n      <td>2011-01-10 00:00:00</td>\n      <td>6</td>\n      <td>2</td>\n      <td>1</td>\n    </tr>\n    <tr>\n      <th>5</th>\n      <td>3</td>\n      <td>2</td>\n      <td>2011-01-10 00:00:00</td>\n      <td>6</td>\n      <td>50</td>\n      <td>1</td>\n    </tr>\n    <tr>\n      <th>6</th>\n      <td>3</td>\n      <td>3</td>\n      <td>2011-01-10 00:00:00</td>\n      <td>6</td>\n      <td>1</td>\n      <td>1</td>\n    </tr>\n    <tr>\n      <th>7</th>\n      <td>3</td>\n      <td>4</td>\n      <td>2011-01-10 00:00:00</td>\n      <td>6</td>\n      <td>4</td>\n      <td>1</td>\n    </tr>\n    <tr>\n      <th>8</th>\n      <td>3</td>\n      <td>5</td>\n      <td>2011-01-10 00:00:00</td>\n      <td>6</td>\n      <td>34</td>\n      <td>1</td>\n    </tr>\n    <tr>\n      <th>9</th>\n      <td>4</td>\n      <td>1</td>\n      <td>2011-01-11 00:00:00</td>\n      <td>22</td>\n      <td>26</td>\n      <td>1</td>\n    </tr>\n  </tbody>\n</table>\n</div>"
     },
     "metadata": {},
     "execution_count": 5
    }
   ],
   "source": [
    "orderlines_df.head(10)"
   ]
  },
  {
   "source": [
    "* 這是在講腳踏車的下單狀況。\n",
    "* 倒數第二個column的 `product.id`對應到 `bikes_df` 這個資料表的 `bike.id`，所以是在講某一台腳踏車。  \n",
    "* 倒數第三個column的 `customer.id` 對應到 `bikeshops_df` 這個資料表的 `bikeshop.id`，所以是在哪一家腳踏車店做的訂購  \n",
    "* 所以合起來看，就是在某個時間(order.date)，我們賣給某家腳踏車行(customer.id)某個腳踏車(product.id)共多少台車(quantity)的資料"
   ],
   "cell_type": "markdown",
   "metadata": {}
  },
  {
   "source": [
    "## 3.2 Exploration"
   ],
   "cell_type": "markdown",
   "metadata": {}
  },
  {
   "source": [
    "### 3.2.1 最常出現的 5 種 description"
   ],
   "cell_type": "markdown",
   "metadata": {}
  },
  {
   "source": [
    "* 剛剛在 `bikes_df` 資料表中，每一台腳踏車，都有他的 description\n",
    "* 但我們也發現，不同腳踏車，常常會 share 同一個 description (例如前五台腳踏車，description都是 `Road - Elite Road - Carbon`) \n",
    "* 所以，對我來說，description 可能就是在幫腳踏車分群，告訴我們這是哪一種類型的腳踏車這樣  \n",
    "* 那我現在想來看看，最常出現的 5 種 description 是哪些 \n",
    "* 在 pandas 中會這樣做："
   ],
   "cell_type": "markdown",
   "metadata": {}
  },
  {
   "cell_type": "code",
   "execution_count": 6,
   "metadata": {},
   "outputs": [
    {
     "output_type": "stream",
     "name": "stdout",
     "text": [
      "0      Road - Elite Road - Carbon\n1      Road - Elite Road - Carbon\n2      Road - Elite Road - Carbon\n3      Road - Elite Road - Carbon\n4      Road - Elite Road - Carbon\n                 ...             \n92    Mountain - Sport - Aluminum\n93    Mountain - Sport - Aluminum\n94    Mountain - Sport - Aluminum\n95    Mountain - Sport - Aluminum\n96    Mountain - Sport - Aluminum\nName: description, Length: 97, dtype: object\n"
     ]
    }
   ],
   "source": [
    "# 先取出那一個 column (在 pandas 中，這時的資料格式叫 series，不是 data.frame)\n",
    "s = bikes_df[\"description\"]\n",
    "print(s)"
   ]
  },
  {
   "cell_type": "code",
   "execution_count": 7,
   "metadata": {},
   "outputs": [
    {
     "output_type": "stream",
     "name": "stdout",
     "text": [
      "Mountain - Cross Country Race - Carbon      14\nRoad - Endurance Road - Carbon              11\nRoad - Elite Road - Aluminum                11\nRoad - Elite Road - Carbon                  10\nMountain - Sport - Aluminum                  9\nMountain - Over Mountain - Carbon            8\nMountain - Trail - Aluminum                  8\nRoad - Endurance Road - Aluminum             5\nMountain - Cross Country Race - Aluminum     5\nRoad - Triathalon - Carbon                   5\nMountain - Trail - Carbon                    5\nRoad - Cyclocross - Carbon                   4\nMountain - Fat Bike - Aluminum               2\nName: description, dtype: int64\n"
     ]
    }
   ],
   "source": [
    "# 再對這個 object 做 `.value_counts()` 這個 method，可以得到次數分配表\n",
    "freq_count_series = s.value_counts()\n",
    "print(freq_count_series)"
   ]
  },
  {
   "cell_type": "code",
   "execution_count": 8,
   "metadata": {},
   "outputs": [
    {
     "output_type": "stream",
     "name": "stdout",
     "text": [
      "Mountain - Cross Country Race - Carbon    14\nRoad - Endurance Road - Carbon            11\nRoad - Elite Road - Aluminum              11\nRoad - Elite Road - Carbon                10\nMountain - Sport - Aluminum                9\nName: description, dtype: int64\n"
     ]
    }
   ],
   "source": [
    "# 最後用 `.nlargest(5)`，篩選出前五名\n",
    "print(freq_count_series.nlargest(5))"
   ]
  },
  {
   "cell_type": "code",
   "execution_count": 9,
   "metadata": {},
   "outputs": [
    {
     "output_type": "stream",
     "name": "stdout",
     "text": [
      "Mountain - Cross Country Race - Carbon    14\nRoad - Endurance Road - Carbon            11\nRoad - Elite Road - Aluminum              11\nRoad - Elite Road - Carbon                10\nMountain - Sport - Aluminum                9\nName: description, dtype: int64\n"
     ]
    }
   ],
   "source": [
    "# 那整個過程，可以用 `method chaining`把他串起來，也就是用一堆 \".\" 串起來\n",
    "top5_bikes_series = bikes_df['description'].value_counts().nlargest(5)\n",
    "print(top5_bikes_series)"
   ]
  },
  {
   "cell_type": "code",
   "execution_count": 10,
   "metadata": {},
   "outputs": [
    {
     "output_type": "stream",
     "name": "stdout",
     "text": [
      "Mountain - Cross Country Race - Carbon    14\nRoad - Endurance Road - Carbon            11\nRoad - Elite Road - Aluminum              11\nRoad - Elite Road - Carbon                10\nMountain - Sport - Aluminum                9\nName: description, dtype: int64\n"
     ]
    }
   ],
   "source": [
    "# 也可以用 \"\\\" 加 enter 換行，製造出 pipeline 的效果\n",
    "top5_bikes_series = bikes_df['description'] \\\n",
    "    .value_counts() \\\n",
    "        .nlargest(5)\n",
    "print(top5_bikes_series)"
   ]
  },
  {
   "source": [
    "### 3.2.2 畫出最常出現的 5 個 description"
   ],
   "cell_type": "markdown",
   "metadata": {}
  },
  {
   "source": [
    "* 先查一下畫圖怎麼畫： `?pd.Series.plot()`  "
   ],
   "cell_type": "markdown",
   "metadata": {}
  },
  {
   "cell_type": "code",
   "execution_count": 11,
   "metadata": {},
   "outputs": [
    {
     "output_type": "stream",
     "text": [
      "\u001b[0;31mInit signature:\u001b[0m \u001b[0mpd\u001b[0m\u001b[0;34m.\u001b[0m\u001b[0mSeries\u001b[0m\u001b[0;34m.\u001b[0m\u001b[0mplot\u001b[0m\u001b[0;34m(\u001b[0m\u001b[0mdata\u001b[0m\u001b[0;34m)\u001b[0m\u001b[0;34m\u001b[0m\u001b[0;34m\u001b[0m\u001b[0m\n",
      "\u001b[0;31mDocstring:\u001b[0m     \n",
      "Make plots of Series or DataFrame.\n",
      "\n",
      "Uses the backend specified by the\n",
      "option ``plotting.backend``. By default, matplotlib is used.\n",
      "\n",
      "Parameters\n",
      "----------\n",
      "data : Series or DataFrame\n",
      "    The object for which the method is called.\n",
      "x : label or position, default None\n",
      "    Only used if data is a DataFrame.\n",
      "y : label, position or list of label, positions, default None\n",
      "    Allows plotting of one column versus another. Only used if data is a\n",
      "    DataFrame.\n",
      "kind : str\n",
      "    The kind of plot to produce:\n",
      "\n",
      "    - 'line' : line plot (default)\n",
      "    - 'bar' : vertical bar plot\n",
      "    - 'barh' : horizontal bar plot\n",
      "    - 'hist' : histogram\n",
      "    - 'box' : boxplot\n",
      "    - 'kde' : Kernel Density Estimation plot\n",
      "    - 'density' : same as 'kde'\n",
      "    - 'area' : area plot\n",
      "    - 'pie' : pie plot\n",
      "    - 'scatter' : scatter plot\n",
      "    - 'hexbin' : hexbin plot.\n",
      "ax : matplotlib axes object, default None\n",
      "    An axes of the current figure.\n",
      "subplots : bool, default False\n",
      "    Make separate subplots for each column.\n",
      "sharex : bool, default True if ax is None else False\n",
      "    In case ``subplots=True``, share x axis and set some x axis labels\n",
      "    to invisible; defaults to True if ax is None otherwise False if\n",
      "    an ax is passed in; Be aware, that passing in both an ax and\n",
      "    ``sharex=True`` will alter all x axis labels for all axis in a figure.\n",
      "sharey : bool, default False\n",
      "    In case ``subplots=True``, share y axis and set some y axis labels to invisible.\n",
      "layout : tuple, optional\n",
      "    (rows, columns) for the layout of subplots.\n",
      "figsize : a tuple (width, height) in inches\n",
      "    Size of a figure object.\n",
      "use_index : bool, default True\n",
      "    Use index as ticks for x axis.\n",
      "title : str or list\n",
      "    Title to use for the plot. If a string is passed, print the string\n",
      "    at the top of the figure. If a list is passed and `subplots` is\n",
      "    True, print each item in the list above the corresponding subplot.\n",
      "grid : bool, default None (matlab style default)\n",
      "    Axis grid lines.\n",
      "legend : bool or {'reverse'}\n",
      "    Place legend on axis subplots.\n",
      "style : list or dict\n",
      "    The matplotlib line style per column.\n",
      "logx : bool or 'sym', default False\n",
      "    Use log scaling or symlog scaling on x axis.\n",
      "    .. versionchanged:: 0.25.0\n",
      "\n",
      "logy : bool or 'sym' default False\n",
      "    Use log scaling or symlog scaling on y axis.\n",
      "    .. versionchanged:: 0.25.0\n",
      "\n",
      "loglog : bool or 'sym', default False\n",
      "    Use log scaling or symlog scaling on both x and y axes.\n",
      "    .. versionchanged:: 0.25.0\n",
      "\n",
      "xticks : sequence\n",
      "    Values to use for the xticks.\n",
      "yticks : sequence\n",
      "    Values to use for the yticks.\n",
      "xlim : 2-tuple/list\n",
      "    Set the x limits of the current axes.\n",
      "ylim : 2-tuple/list\n",
      "    Set the y limits of the current axes.\n",
      "xlabel : label, optional\n",
      "    Name to use for the xlabel on x-axis. Default uses index name as xlabel.\n",
      "\n",
      "    .. versionadded:: 1.1.0\n",
      "\n",
      "ylabel : label, optional\n",
      "    Name to use for the ylabel on y-axis. Default will show no ylabel.\n",
      "\n",
      "    .. versionadded:: 1.1.0\n",
      "\n",
      "rot : int, default None\n",
      "    Rotation for ticks (xticks for vertical, yticks for horizontal\n",
      "    plots).\n",
      "fontsize : int, default None\n",
      "    Font size for xticks and yticks.\n",
      "colormap : str or matplotlib colormap object, default None\n",
      "    Colormap to select colors from. If string, load colormap with that\n",
      "    name from matplotlib.\n",
      "colorbar : bool, optional\n",
      "    If True, plot colorbar (only relevant for 'scatter' and 'hexbin'\n",
      "    plots).\n",
      "position : float\n",
      "    Specify relative alignments for bar plot layout.\n",
      "    From 0 (left/bottom-end) to 1 (right/top-end). Default is 0.5\n",
      "    (center).\n",
      "table : bool, Series or DataFrame, default False\n",
      "    If True, draw a table using the data in the DataFrame and the data\n",
      "    will be transposed to meet matplotlib's default layout.\n",
      "    If a Series or DataFrame is passed, use passed data to draw a\n",
      "    table.\n",
      "yerr : DataFrame, Series, array-like, dict and str\n",
      "    See :ref:`Plotting with Error Bars <visualization.errorbars>` for\n",
      "    detail.\n",
      "xerr : DataFrame, Series, array-like, dict and str\n",
      "    Equivalent to yerr.\n",
      "stacked : bool, default False in line and bar plots, and True in area plot\n",
      "    If True, create stacked plot.\n",
      "sort_columns : bool, default False\n",
      "    Sort column names to determine plot ordering.\n",
      "secondary_y : bool or sequence, default False\n",
      "    Whether to plot on the secondary y-axis if a list/tuple, which\n",
      "    columns to plot on secondary y-axis.\n",
      "mark_right : bool, default True\n",
      "    When using a secondary_y axis, automatically mark the column\n",
      "    labels with \"(right)\" in the legend.\n",
      "include_bool : bool, default is False\n",
      "    If True, boolean values can be plotted.\n",
      "backend : str, default None\n",
      "    Backend to use instead of the backend specified in the option\n",
      "    ``plotting.backend``. For instance, 'matplotlib'. Alternatively, to\n",
      "    specify the ``plotting.backend`` for the whole session, set\n",
      "    ``pd.options.plotting.backend``.\n",
      "\n",
      "    .. versionadded:: 1.0.0\n",
      "\n",
      "**kwargs\n",
      "    Options to pass to matplotlib plotting method.\n",
      "\n",
      "Returns\n",
      "-------\n",
      ":class:`matplotlib.axes.Axes` or numpy.ndarray of them\n",
      "    If the backend is not the default matplotlib one, the return value\n",
      "    will be the object returned by the backend.\n",
      "\n",
      "Notes\n",
      "-----\n",
      "- See matplotlib documentation online for more on this subject\n",
      "- If `kind` = 'bar' or 'barh', you can specify relative alignments\n",
      "  for bar plot layout by `position` keyword.\n",
      "  From 0 (left/bottom-end) to 1 (right/top-end). Default is 0.5\n",
      "  (center)\n",
      "\u001b[0;31mFile:\u001b[0m           ~/.pyenv/versions/3.8.0/lib/python3.8/site-packages/pandas/plotting/_core.py\n",
      "\u001b[0;31mType:\u001b[0m           type\n",
      "\u001b[0;31mSubclasses:\u001b[0m     \n"
     ],
     "name": "stdout"
    }
   ],
   "source": [
    "?pd.Series.plot"
   ]
  },
  {
   "cell_type": "code",
   "execution_count": 12,
   "metadata": {},
   "outputs": [
    {
     "output_type": "display_data",
     "data": {
      "text/plain": "\u001b[1m<\u001b[0m\u001b[1;95mAxesSubplot:\u001b[0m\u001b[1m>\u001b[0m\n",
      "text/html": "<pre style=\"white-space:pre;overflow-x:auto;line-height:normal;font-family:Menlo,'DejaVu Sans Mono',consolas,'Courier New',monospace\"><span style=\"font-weight: bold\">&lt;</span><span style=\"color: #ff00ff; text-decoration-color: #ff00ff; font-weight: bold\">AxesSubplot:</span><span style=\"font-weight: bold\">&gt;</span>\n</pre>\n"
     },
     "metadata": {}
    },
    {
     "output_type": "display_data",
     "data": {
      "image/svg+xml": "<?xml version=\"1.0\" encoding=\"utf-8\" standalone=\"no\"?>\n<!DOCTYPE svg PUBLIC \"-//W3C//DTD SVG 1.1//EN\"\n  \"http://www.w3.org/Graphics/SVG/1.1/DTD/svg11.dtd\">\n<!-- Created with matplotlib (https://matplotlib.org/) -->\n<svg height=\"248.518125pt\" version=\"1.1\" viewBox=\"0 0 556.732812 248.518125\" width=\"556.732812pt\" xmlns=\"http://www.w3.org/2000/svg\" xmlns:xlink=\"http://www.w3.org/1999/xlink\">\n <metadata>\n  <rdf:RDF xmlns:cc=\"http://creativecommons.org/ns#\" xmlns:dc=\"http://purl.org/dc/elements/1.1/\" xmlns:rdf=\"http://www.w3.org/1999/02/22-rdf-syntax-ns#\">\n   <cc:Work>\n    <dc:type rdf:resource=\"http://purl.org/dc/dcmitype/StillImage\"/>\n    <dc:date>2021-10-09T20:31:09.005707</dc:date>\n    <dc:format>image/svg+xml</dc:format>\n    <dc:creator>\n     <cc:Agent>\n      <dc:title>Matplotlib v3.3.2, https://matplotlib.org/</dc:title>\n     </cc:Agent>\n    </dc:creator>\n   </cc:Work>\n  </rdf:RDF>\n </metadata>\n <defs>\n  <style type=\"text/css\">*{stroke-linecap:butt;stroke-linejoin:round;}</style>\n </defs>\n <g id=\"figure_1\">\n  <g id=\"patch_1\">\n   <path d=\"M 0 248.518125 \nL 556.732812 248.518125 \nL 556.732812 0 \nL 0 0 \nz\n\" style=\"fill:none;\"/>\n  </g>\n  <g id=\"axes_1\">\n   <g id=\"patch_2\">\n    <path d=\"M 214.732812 224.64 \nL 549.532812 224.64 \nL 549.532812 7.2 \nL 214.732812 7.2 \nz\n\" style=\"fill:#ffffff;\"/>\n   </g>\n   <g id=\"patch_3\">\n    <path clip-path=\"url(#p46af26c755)\" d=\"M 214.732812 213.768 \nL 533.589955 213.768 \nL 533.589955 192.024 \nL 214.732812 192.024 \nz\n\" style=\"fill:#1f77b4;\"/>\n   </g>\n   <g id=\"patch_4\">\n    <path clip-path=\"url(#p46af26c755)\" d=\"M 214.732812 170.28 \nL 465.263425 170.28 \nL 465.263425 148.536 \nL 214.732812 148.536 \nz\n\" style=\"fill:#1f77b4;\"/>\n   </g>\n   <g id=\"patch_5\">\n    <path clip-path=\"url(#p46af26c755)\" d=\"M 214.732812 126.792 \nL 465.263425 126.792 \nL 465.263425 105.048 \nL 214.732812 105.048 \nz\n\" style=\"fill:#1f77b4;\"/>\n   </g>\n   <g id=\"patch_6\">\n    <path clip-path=\"url(#p46af26c755)\" d=\"M 214.732812 83.304 \nL 442.487915 83.304 \nL 442.487915 61.56 \nL 214.732812 61.56 \nz\n\" style=\"fill:#1f77b4;\"/>\n   </g>\n   <g id=\"patch_7\">\n    <path clip-path=\"url(#p46af26c755)\" d=\"M 214.732812 39.816 \nL 419.712404 39.816 \nL 419.712404 18.072 \nL 214.732812 18.072 \nz\n\" style=\"fill:#1f77b4;\"/>\n   </g>\n   <g id=\"matplotlib.axis_1\">\n    <g id=\"xtick_1\">\n     <g id=\"line2d_1\">\n      <defs>\n       <path d=\"M 0 0 \nL 0 3.5 \n\" id=\"mcc8f3d423f\" style=\"stroke:#000000;stroke-width:0.8;\"/>\n      </defs>\n      <g>\n       <use style=\"stroke:#000000;stroke-width:0.8;\" x=\"214.732812\" xlink:href=\"#mcc8f3d423f\" y=\"224.64\"/>\n      </g>\n     </g>\n     <g id=\"text_1\">\n      <!-- 0 -->\n      <g transform=\"translate(211.551562 239.238437)scale(0.1 -0.1)\">\n       <defs>\n        <path d=\"M 31.78125 66.40625 \nQ 24.171875 66.40625 20.328125 58.90625 \nQ 16.5 51.421875 16.5 36.375 \nQ 16.5 21.390625 20.328125 13.890625 \nQ 24.171875 6.390625 31.78125 6.390625 \nQ 39.453125 6.390625 43.28125 13.890625 \nQ 47.125 21.390625 47.125 36.375 \nQ 47.125 51.421875 43.28125 58.90625 \nQ 39.453125 66.40625 31.78125 66.40625 \nz\nM 31.78125 74.21875 \nQ 44.046875 74.21875 50.515625 64.515625 \nQ 56.984375 54.828125 56.984375 36.375 \nQ 56.984375 17.96875 50.515625 8.265625 \nQ 44.046875 -1.421875 31.78125 -1.421875 \nQ 19.53125 -1.421875 13.0625 8.265625 \nQ 6.59375 17.96875 6.59375 36.375 \nQ 6.59375 54.828125 13.0625 64.515625 \nQ 19.53125 74.21875 31.78125 74.21875 \nz\n\" id=\"DejaVuSans-48\"/>\n       </defs>\n       <use xlink:href=\"#DejaVuSans-48\"/>\n      </g>\n     </g>\n    </g>\n    <g id=\"xtick_2\">\n     <g id=\"line2d_2\">\n      <g>\n       <use style=\"stroke:#000000;stroke-width:0.8;\" x=\"260.283833\" xlink:href=\"#mcc8f3d423f\" y=\"224.64\"/>\n      </g>\n     </g>\n     <g id=\"text_2\">\n      <!-- 2 -->\n      <g transform=\"translate(257.102583 239.238437)scale(0.1 -0.1)\">\n       <defs>\n        <path d=\"M 19.1875 8.296875 \nL 53.609375 8.296875 \nL 53.609375 0 \nL 7.328125 0 \nL 7.328125 8.296875 \nQ 12.9375 14.109375 22.625 23.890625 \nQ 32.328125 33.6875 34.8125 36.53125 \nQ 39.546875 41.84375 41.421875 45.53125 \nQ 43.3125 49.21875 43.3125 52.78125 \nQ 43.3125 58.59375 39.234375 62.25 \nQ 35.15625 65.921875 28.609375 65.921875 \nQ 23.96875 65.921875 18.8125 64.3125 \nQ 13.671875 62.703125 7.8125 59.421875 \nL 7.8125 69.390625 \nQ 13.765625 71.78125 18.9375 73 \nQ 24.125 74.21875 28.421875 74.21875 \nQ 39.75 74.21875 46.484375 68.546875 \nQ 53.21875 62.890625 53.21875 53.421875 \nQ 53.21875 48.921875 51.53125 44.890625 \nQ 49.859375 40.875 45.40625 35.40625 \nQ 44.1875 33.984375 37.640625 27.21875 \nQ 31.109375 20.453125 19.1875 8.296875 \nz\n\" id=\"DejaVuSans-50\"/>\n       </defs>\n       <use xlink:href=\"#DejaVuSans-50\"/>\n      </g>\n     </g>\n    </g>\n    <g id=\"xtick_3\">\n     <g id=\"line2d_3\">\n      <g>\n       <use style=\"stroke:#000000;stroke-width:0.8;\" x=\"305.834853\" xlink:href=\"#mcc8f3d423f\" y=\"224.64\"/>\n      </g>\n     </g>\n     <g id=\"text_3\">\n      <!-- 4 -->\n      <g transform=\"translate(302.653603 239.238437)scale(0.1 -0.1)\">\n       <defs>\n        <path d=\"M 37.796875 64.3125 \nL 12.890625 25.390625 \nL 37.796875 25.390625 \nz\nM 35.203125 72.90625 \nL 47.609375 72.90625 \nL 47.609375 25.390625 \nL 58.015625 25.390625 \nL 58.015625 17.1875 \nL 47.609375 17.1875 \nL 47.609375 0 \nL 37.796875 0 \nL 37.796875 17.1875 \nL 4.890625 17.1875 \nL 4.890625 26.703125 \nz\n\" id=\"DejaVuSans-52\"/>\n       </defs>\n       <use xlink:href=\"#DejaVuSans-52\"/>\n      </g>\n     </g>\n    </g>\n    <g id=\"xtick_4\">\n     <g id=\"line2d_4\">\n      <g>\n       <use style=\"stroke:#000000;stroke-width:0.8;\" x=\"351.385874\" xlink:href=\"#mcc8f3d423f\" y=\"224.64\"/>\n      </g>\n     </g>\n     <g id=\"text_4\">\n      <!-- 6 -->\n      <g transform=\"translate(348.204624 239.238437)scale(0.1 -0.1)\">\n       <defs>\n        <path d=\"M 33.015625 40.375 \nQ 26.375 40.375 22.484375 35.828125 \nQ 18.609375 31.296875 18.609375 23.390625 \nQ 18.609375 15.53125 22.484375 10.953125 \nQ 26.375 6.390625 33.015625 6.390625 \nQ 39.65625 6.390625 43.53125 10.953125 \nQ 47.40625 15.53125 47.40625 23.390625 \nQ 47.40625 31.296875 43.53125 35.828125 \nQ 39.65625 40.375 33.015625 40.375 \nz\nM 52.59375 71.296875 \nL 52.59375 62.3125 \nQ 48.875 64.0625 45.09375 64.984375 \nQ 41.3125 65.921875 37.59375 65.921875 \nQ 27.828125 65.921875 22.671875 59.328125 \nQ 17.53125 52.734375 16.796875 39.40625 \nQ 19.671875 43.65625 24.015625 45.921875 \nQ 28.375 48.1875 33.59375 48.1875 \nQ 44.578125 48.1875 50.953125 41.515625 \nQ 57.328125 34.859375 57.328125 23.390625 \nQ 57.328125 12.15625 50.6875 5.359375 \nQ 44.046875 -1.421875 33.015625 -1.421875 \nQ 20.359375 -1.421875 13.671875 8.265625 \nQ 6.984375 17.96875 6.984375 36.375 \nQ 6.984375 53.65625 15.1875 63.9375 \nQ 23.390625 74.21875 37.203125 74.21875 \nQ 40.921875 74.21875 44.703125 73.484375 \nQ 48.484375 72.75 52.59375 71.296875 \nz\n\" id=\"DejaVuSans-54\"/>\n       </defs>\n       <use xlink:href=\"#DejaVuSans-54\"/>\n      </g>\n     </g>\n    </g>\n    <g id=\"xtick_5\">\n     <g id=\"line2d_5\">\n      <g>\n       <use style=\"stroke:#000000;stroke-width:0.8;\" x=\"396.936894\" xlink:href=\"#mcc8f3d423f\" y=\"224.64\"/>\n      </g>\n     </g>\n     <g id=\"text_5\">\n      <!-- 8 -->\n      <g transform=\"translate(393.755644 239.238437)scale(0.1 -0.1)\">\n       <defs>\n        <path d=\"M 31.78125 34.625 \nQ 24.75 34.625 20.71875 30.859375 \nQ 16.703125 27.09375 16.703125 20.515625 \nQ 16.703125 13.921875 20.71875 10.15625 \nQ 24.75 6.390625 31.78125 6.390625 \nQ 38.8125 6.390625 42.859375 10.171875 \nQ 46.921875 13.96875 46.921875 20.515625 \nQ 46.921875 27.09375 42.890625 30.859375 \nQ 38.875 34.625 31.78125 34.625 \nz\nM 21.921875 38.8125 \nQ 15.578125 40.375 12.03125 44.71875 \nQ 8.5 49.078125 8.5 55.328125 \nQ 8.5 64.0625 14.71875 69.140625 \nQ 20.953125 74.21875 31.78125 74.21875 \nQ 42.671875 74.21875 48.875 69.140625 \nQ 55.078125 64.0625 55.078125 55.328125 \nQ 55.078125 49.078125 51.53125 44.71875 \nQ 48 40.375 41.703125 38.8125 \nQ 48.828125 37.15625 52.796875 32.3125 \nQ 56.78125 27.484375 56.78125 20.515625 \nQ 56.78125 9.90625 50.3125 4.234375 \nQ 43.84375 -1.421875 31.78125 -1.421875 \nQ 19.734375 -1.421875 13.25 4.234375 \nQ 6.78125 9.90625 6.78125 20.515625 \nQ 6.78125 27.484375 10.78125 32.3125 \nQ 14.796875 37.15625 21.921875 38.8125 \nz\nM 18.3125 54.390625 \nQ 18.3125 48.734375 21.84375 45.5625 \nQ 25.390625 42.390625 31.78125 42.390625 \nQ 38.140625 42.390625 41.71875 45.5625 \nQ 45.3125 48.734375 45.3125 54.390625 \nQ 45.3125 60.0625 41.71875 63.234375 \nQ 38.140625 66.40625 31.78125 66.40625 \nQ 25.390625 66.40625 21.84375 63.234375 \nQ 18.3125 60.0625 18.3125 54.390625 \nz\n\" id=\"DejaVuSans-56\"/>\n       </defs>\n       <use xlink:href=\"#DejaVuSans-56\"/>\n      </g>\n     </g>\n    </g>\n    <g id=\"xtick_6\">\n     <g id=\"line2d_6\">\n      <g>\n       <use style=\"stroke:#000000;stroke-width:0.8;\" x=\"442.487915\" xlink:href=\"#mcc8f3d423f\" y=\"224.64\"/>\n      </g>\n     </g>\n     <g id=\"text_6\">\n      <!-- 10 -->\n      <g transform=\"translate(436.125415 239.238437)scale(0.1 -0.1)\">\n       <defs>\n        <path d=\"M 12.40625 8.296875 \nL 28.515625 8.296875 \nL 28.515625 63.921875 \nL 10.984375 60.40625 \nL 10.984375 69.390625 \nL 28.421875 72.90625 \nL 38.28125 72.90625 \nL 38.28125 8.296875 \nL 54.390625 8.296875 \nL 54.390625 0 \nL 12.40625 0 \nz\n\" id=\"DejaVuSans-49\"/>\n       </defs>\n       <use xlink:href=\"#DejaVuSans-49\"/>\n       <use x=\"63.623047\" xlink:href=\"#DejaVuSans-48\"/>\n      </g>\n     </g>\n    </g>\n    <g id=\"xtick_7\">\n     <g id=\"line2d_7\">\n      <g>\n       <use style=\"stroke:#000000;stroke-width:0.8;\" x=\"488.038935\" xlink:href=\"#mcc8f3d423f\" y=\"224.64\"/>\n      </g>\n     </g>\n     <g id=\"text_7\">\n      <!-- 12 -->\n      <g transform=\"translate(481.676435 239.238437)scale(0.1 -0.1)\">\n       <use xlink:href=\"#DejaVuSans-49\"/>\n       <use x=\"63.623047\" xlink:href=\"#DejaVuSans-50\"/>\n      </g>\n     </g>\n    </g>\n    <g id=\"xtick_8\">\n     <g id=\"line2d_8\">\n      <g>\n       <use style=\"stroke:#000000;stroke-width:0.8;\" x=\"533.589955\" xlink:href=\"#mcc8f3d423f\" y=\"224.64\"/>\n      </g>\n     </g>\n     <g id=\"text_8\">\n      <!-- 14 -->\n      <g transform=\"translate(527.227455 239.238437)scale(0.1 -0.1)\">\n       <use xlink:href=\"#DejaVuSans-49\"/>\n       <use x=\"63.623047\" xlink:href=\"#DejaVuSans-52\"/>\n      </g>\n     </g>\n    </g>\n   </g>\n   <g id=\"matplotlib.axis_2\">\n    <g id=\"ytick_1\">\n     <g id=\"line2d_9\">\n      <defs>\n       <path d=\"M 0 0 \nL -3.5 0 \n\" id=\"me7794c2b50\" style=\"stroke:#000000;stroke-width:0.8;\"/>\n      </defs>\n      <g>\n       <use style=\"stroke:#000000;stroke-width:0.8;\" x=\"214.732812\" xlink:href=\"#me7794c2b50\" y=\"202.896\"/>\n      </g>\n     </g>\n     <g id=\"text_9\">\n      <!-- Mountain - Cross Country Race - Carbon -->\n      <g transform=\"translate(7.2 206.695219)scale(0.1 -0.1)\">\n       <defs>\n        <path d=\"M 9.8125 72.90625 \nL 24.515625 72.90625 \nL 43.109375 23.296875 \nL 61.8125 72.90625 \nL 76.515625 72.90625 \nL 76.515625 0 \nL 66.890625 0 \nL 66.890625 64.015625 \nL 48.09375 14.015625 \nL 38.1875 14.015625 \nL 19.390625 64.015625 \nL 19.390625 0 \nL 9.8125 0 \nz\n\" id=\"DejaVuSans-77\"/>\n        <path d=\"M 30.609375 48.390625 \nQ 23.390625 48.390625 19.1875 42.75 \nQ 14.984375 37.109375 14.984375 27.296875 \nQ 14.984375 17.484375 19.15625 11.84375 \nQ 23.34375 6.203125 30.609375 6.203125 \nQ 37.796875 6.203125 41.984375 11.859375 \nQ 46.1875 17.53125 46.1875 27.296875 \nQ 46.1875 37.015625 41.984375 42.703125 \nQ 37.796875 48.390625 30.609375 48.390625 \nz\nM 30.609375 56 \nQ 42.328125 56 49.015625 48.375 \nQ 55.71875 40.765625 55.71875 27.296875 \nQ 55.71875 13.875 49.015625 6.21875 \nQ 42.328125 -1.421875 30.609375 -1.421875 \nQ 18.84375 -1.421875 12.171875 6.21875 \nQ 5.515625 13.875 5.515625 27.296875 \nQ 5.515625 40.765625 12.171875 48.375 \nQ 18.84375 56 30.609375 56 \nz\n\" id=\"DejaVuSans-111\"/>\n        <path d=\"M 8.5 21.578125 \nL 8.5 54.6875 \nL 17.484375 54.6875 \nL 17.484375 21.921875 \nQ 17.484375 14.15625 20.5 10.265625 \nQ 23.53125 6.390625 29.59375 6.390625 \nQ 36.859375 6.390625 41.078125 11.03125 \nQ 45.3125 15.671875 45.3125 23.6875 \nL 45.3125 54.6875 \nL 54.296875 54.6875 \nL 54.296875 0 \nL 45.3125 0 \nL 45.3125 8.40625 \nQ 42.046875 3.421875 37.71875 1 \nQ 33.40625 -1.421875 27.6875 -1.421875 \nQ 18.265625 -1.421875 13.375 4.4375 \nQ 8.5 10.296875 8.5 21.578125 \nz\nM 31.109375 56 \nz\n\" id=\"DejaVuSans-117\"/>\n        <path d=\"M 54.890625 33.015625 \nL 54.890625 0 \nL 45.90625 0 \nL 45.90625 32.71875 \nQ 45.90625 40.484375 42.875 44.328125 \nQ 39.84375 48.1875 33.796875 48.1875 \nQ 26.515625 48.1875 22.3125 43.546875 \nQ 18.109375 38.921875 18.109375 30.90625 \nL 18.109375 0 \nL 9.078125 0 \nL 9.078125 54.6875 \nL 18.109375 54.6875 \nL 18.109375 46.1875 \nQ 21.34375 51.125 25.703125 53.5625 \nQ 30.078125 56 35.796875 56 \nQ 45.21875 56 50.046875 50.171875 \nQ 54.890625 44.34375 54.890625 33.015625 \nz\n\" id=\"DejaVuSans-110\"/>\n        <path d=\"M 18.3125 70.21875 \nL 18.3125 54.6875 \nL 36.8125 54.6875 \nL 36.8125 47.703125 \nL 18.3125 47.703125 \nL 18.3125 18.015625 \nQ 18.3125 11.328125 20.140625 9.421875 \nQ 21.96875 7.515625 27.59375 7.515625 \nL 36.8125 7.515625 \nL 36.8125 0 \nL 27.59375 0 \nQ 17.1875 0 13.234375 3.875 \nQ 9.28125 7.765625 9.28125 18.015625 \nL 9.28125 47.703125 \nL 2.6875 47.703125 \nL 2.6875 54.6875 \nL 9.28125 54.6875 \nL 9.28125 70.21875 \nz\n\" id=\"DejaVuSans-116\"/>\n        <path d=\"M 34.28125 27.484375 \nQ 23.390625 27.484375 19.1875 25 \nQ 14.984375 22.515625 14.984375 16.5 \nQ 14.984375 11.71875 18.140625 8.90625 \nQ 21.296875 6.109375 26.703125 6.109375 \nQ 34.1875 6.109375 38.703125 11.40625 \nQ 43.21875 16.703125 43.21875 25.484375 \nL 43.21875 27.484375 \nz\nM 52.203125 31.203125 \nL 52.203125 0 \nL 43.21875 0 \nL 43.21875 8.296875 \nQ 40.140625 3.328125 35.546875 0.953125 \nQ 30.953125 -1.421875 24.3125 -1.421875 \nQ 15.921875 -1.421875 10.953125 3.296875 \nQ 6 8.015625 6 15.921875 \nQ 6 25.140625 12.171875 29.828125 \nQ 18.359375 34.515625 30.609375 34.515625 \nL 43.21875 34.515625 \nL 43.21875 35.40625 \nQ 43.21875 41.609375 39.140625 45 \nQ 35.0625 48.390625 27.6875 48.390625 \nQ 23 48.390625 18.546875 47.265625 \nQ 14.109375 46.140625 10.015625 43.890625 \nL 10.015625 52.203125 \nQ 14.9375 54.109375 19.578125 55.046875 \nQ 24.21875 56 28.609375 56 \nQ 40.484375 56 46.34375 49.84375 \nQ 52.203125 43.703125 52.203125 31.203125 \nz\n\" id=\"DejaVuSans-97\"/>\n        <path d=\"M 9.421875 54.6875 \nL 18.40625 54.6875 \nL 18.40625 0 \nL 9.421875 0 \nz\nM 9.421875 75.984375 \nL 18.40625 75.984375 \nL 18.40625 64.59375 \nL 9.421875 64.59375 \nz\n\" id=\"DejaVuSans-105\"/>\n        <path id=\"DejaVuSans-32\"/>\n        <path d=\"M 4.890625 31.390625 \nL 31.203125 31.390625 \nL 31.203125 23.390625 \nL 4.890625 23.390625 \nz\n\" id=\"DejaVuSans-45\"/>\n        <path d=\"M 64.40625 67.28125 \nL 64.40625 56.890625 \nQ 59.421875 61.53125 53.78125 63.8125 \nQ 48.140625 66.109375 41.796875 66.109375 \nQ 29.296875 66.109375 22.65625 58.46875 \nQ 16.015625 50.828125 16.015625 36.375 \nQ 16.015625 21.96875 22.65625 14.328125 \nQ 29.296875 6.6875 41.796875 6.6875 \nQ 48.140625 6.6875 53.78125 8.984375 \nQ 59.421875 11.28125 64.40625 15.921875 \nL 64.40625 5.609375 \nQ 59.234375 2.09375 53.4375 0.328125 \nQ 47.65625 -1.421875 41.21875 -1.421875 \nQ 24.65625 -1.421875 15.125 8.703125 \nQ 5.609375 18.84375 5.609375 36.375 \nQ 5.609375 53.953125 15.125 64.078125 \nQ 24.65625 74.21875 41.21875 74.21875 \nQ 47.75 74.21875 53.53125 72.484375 \nQ 59.328125 70.75 64.40625 67.28125 \nz\n\" id=\"DejaVuSans-67\"/>\n        <path d=\"M 41.109375 46.296875 \nQ 39.59375 47.171875 37.8125 47.578125 \nQ 36.03125 48 33.890625 48 \nQ 26.265625 48 22.1875 43.046875 \nQ 18.109375 38.09375 18.109375 28.8125 \nL 18.109375 0 \nL 9.078125 0 \nL 9.078125 54.6875 \nL 18.109375 54.6875 \nL 18.109375 46.1875 \nQ 20.953125 51.171875 25.484375 53.578125 \nQ 30.03125 56 36.53125 56 \nQ 37.453125 56 38.578125 55.875 \nQ 39.703125 55.765625 41.0625 55.515625 \nz\n\" id=\"DejaVuSans-114\"/>\n        <path d=\"M 44.28125 53.078125 \nL 44.28125 44.578125 \nQ 40.484375 46.53125 36.375 47.5 \nQ 32.28125 48.484375 27.875 48.484375 \nQ 21.1875 48.484375 17.84375 46.4375 \nQ 14.5 44.390625 14.5 40.28125 \nQ 14.5 37.15625 16.890625 35.375 \nQ 19.28125 33.59375 26.515625 31.984375 \nL 29.59375 31.296875 \nQ 39.15625 29.25 43.1875 25.515625 \nQ 47.21875 21.78125 47.21875 15.09375 \nQ 47.21875 7.46875 41.1875 3.015625 \nQ 35.15625 -1.421875 24.609375 -1.421875 \nQ 20.21875 -1.421875 15.453125 -0.5625 \nQ 10.6875 0.296875 5.421875 2 \nL 5.421875 11.28125 \nQ 10.40625 8.6875 15.234375 7.390625 \nQ 20.0625 6.109375 24.8125 6.109375 \nQ 31.15625 6.109375 34.5625 8.28125 \nQ 37.984375 10.453125 37.984375 14.40625 \nQ 37.984375 18.0625 35.515625 20.015625 \nQ 33.0625 21.96875 24.703125 23.78125 \nL 21.578125 24.515625 \nQ 13.234375 26.265625 9.515625 29.90625 \nQ 5.8125 33.546875 5.8125 39.890625 \nQ 5.8125 47.609375 11.28125 51.796875 \nQ 16.75 56 26.8125 56 \nQ 31.78125 56 36.171875 55.265625 \nQ 40.578125 54.546875 44.28125 53.078125 \nz\n\" id=\"DejaVuSans-115\"/>\n        <path d=\"M 32.171875 -5.078125 \nQ 28.375 -14.84375 24.75 -17.8125 \nQ 21.140625 -20.796875 15.09375 -20.796875 \nL 7.90625 -20.796875 \nL 7.90625 -13.28125 \nL 13.1875 -13.28125 \nQ 16.890625 -13.28125 18.9375 -11.515625 \nQ 21 -9.765625 23.484375 -3.21875 \nL 25.09375 0.875 \nL 2.984375 54.6875 \nL 12.5 54.6875 \nL 29.59375 11.921875 \nL 46.6875 54.6875 \nL 56.203125 54.6875 \nz\n\" id=\"DejaVuSans-121\"/>\n        <path d=\"M 44.390625 34.1875 \nQ 47.5625 33.109375 50.5625 29.59375 \nQ 53.5625 26.078125 56.59375 19.921875 \nL 66.609375 0 \nL 56 0 \nL 46.6875 18.703125 \nQ 43.0625 26.03125 39.671875 28.421875 \nQ 36.28125 30.8125 30.421875 30.8125 \nL 19.671875 30.8125 \nL 19.671875 0 \nL 9.8125 0 \nL 9.8125 72.90625 \nL 32.078125 72.90625 \nQ 44.578125 72.90625 50.734375 67.671875 \nQ 56.890625 62.453125 56.890625 51.90625 \nQ 56.890625 45.015625 53.6875 40.46875 \nQ 50.484375 35.9375 44.390625 34.1875 \nz\nM 19.671875 64.796875 \nL 19.671875 38.921875 \nL 32.078125 38.921875 \nQ 39.203125 38.921875 42.84375 42.21875 \nQ 46.484375 45.515625 46.484375 51.90625 \nQ 46.484375 58.296875 42.84375 61.546875 \nQ 39.203125 64.796875 32.078125 64.796875 \nz\n\" id=\"DejaVuSans-82\"/>\n        <path d=\"M 48.78125 52.59375 \nL 48.78125 44.1875 \nQ 44.96875 46.296875 41.140625 47.34375 \nQ 37.3125 48.390625 33.40625 48.390625 \nQ 24.65625 48.390625 19.8125 42.84375 \nQ 14.984375 37.3125 14.984375 27.296875 \nQ 14.984375 17.28125 19.8125 11.734375 \nQ 24.65625 6.203125 33.40625 6.203125 \nQ 37.3125 6.203125 41.140625 7.25 \nQ 44.96875 8.296875 48.78125 10.40625 \nL 48.78125 2.09375 \nQ 45.015625 0.34375 40.984375 -0.53125 \nQ 36.96875 -1.421875 32.421875 -1.421875 \nQ 20.0625 -1.421875 12.78125 6.34375 \nQ 5.515625 14.109375 5.515625 27.296875 \nQ 5.515625 40.671875 12.859375 48.328125 \nQ 20.21875 56 33.015625 56 \nQ 37.15625 56 41.109375 55.140625 \nQ 45.0625 54.296875 48.78125 52.59375 \nz\n\" id=\"DejaVuSans-99\"/>\n        <path d=\"M 56.203125 29.59375 \nL 56.203125 25.203125 \nL 14.890625 25.203125 \nQ 15.484375 15.921875 20.484375 11.0625 \nQ 25.484375 6.203125 34.421875 6.203125 \nQ 39.59375 6.203125 44.453125 7.46875 \nQ 49.3125 8.734375 54.109375 11.28125 \nL 54.109375 2.78125 \nQ 49.265625 0.734375 44.1875 -0.34375 \nQ 39.109375 -1.421875 33.890625 -1.421875 \nQ 20.796875 -1.421875 13.15625 6.1875 \nQ 5.515625 13.8125 5.515625 26.8125 \nQ 5.515625 40.234375 12.765625 48.109375 \nQ 20.015625 56 32.328125 56 \nQ 43.359375 56 49.78125 48.890625 \nQ 56.203125 41.796875 56.203125 29.59375 \nz\nM 47.21875 32.234375 \nQ 47.125 39.59375 43.09375 43.984375 \nQ 39.0625 48.390625 32.421875 48.390625 \nQ 24.90625 48.390625 20.390625 44.140625 \nQ 15.875 39.890625 15.1875 32.171875 \nz\n\" id=\"DejaVuSans-101\"/>\n        <path d=\"M 48.6875 27.296875 \nQ 48.6875 37.203125 44.609375 42.84375 \nQ 40.53125 48.484375 33.40625 48.484375 \nQ 26.265625 48.484375 22.1875 42.84375 \nQ 18.109375 37.203125 18.109375 27.296875 \nQ 18.109375 17.390625 22.1875 11.75 \nQ 26.265625 6.109375 33.40625 6.109375 \nQ 40.53125 6.109375 44.609375 11.75 \nQ 48.6875 17.390625 48.6875 27.296875 \nz\nM 18.109375 46.390625 \nQ 20.953125 51.265625 25.265625 53.625 \nQ 29.59375 56 35.59375 56 \nQ 45.5625 56 51.78125 48.09375 \nQ 58.015625 40.1875 58.015625 27.296875 \nQ 58.015625 14.40625 51.78125 6.484375 \nQ 45.5625 -1.421875 35.59375 -1.421875 \nQ 29.59375 -1.421875 25.265625 0.953125 \nQ 20.953125 3.328125 18.109375 8.203125 \nL 18.109375 0 \nL 9.078125 0 \nL 9.078125 75.984375 \nL 18.109375 75.984375 \nz\n\" id=\"DejaVuSans-98\"/>\n       </defs>\n       <use xlink:href=\"#DejaVuSans-77\"/>\n       <use x=\"86.279297\" xlink:href=\"#DejaVuSans-111\"/>\n       <use x=\"147.460938\" xlink:href=\"#DejaVuSans-117\"/>\n       <use x=\"210.839844\" xlink:href=\"#DejaVuSans-110\"/>\n       <use x=\"274.21875\" xlink:href=\"#DejaVuSans-116\"/>\n       <use x=\"313.427734\" xlink:href=\"#DejaVuSans-97\"/>\n       <use x=\"374.707031\" xlink:href=\"#DejaVuSans-105\"/>\n       <use x=\"402.490234\" xlink:href=\"#DejaVuSans-110\"/>\n       <use x=\"465.869141\" xlink:href=\"#DejaVuSans-32\"/>\n       <use x=\"497.65625\" xlink:href=\"#DejaVuSans-45\"/>\n       <use x=\"533.740234\" xlink:href=\"#DejaVuSans-32\"/>\n       <use x=\"565.527344\" xlink:href=\"#DejaVuSans-67\"/>\n       <use x=\"635.351562\" xlink:href=\"#DejaVuSans-114\"/>\n       <use x=\"674.214844\" xlink:href=\"#DejaVuSans-111\"/>\n       <use x=\"735.396484\" xlink:href=\"#DejaVuSans-115\"/>\n       <use x=\"787.496094\" xlink:href=\"#DejaVuSans-115\"/>\n       <use x=\"839.595703\" xlink:href=\"#DejaVuSans-32\"/>\n       <use x=\"871.382812\" xlink:href=\"#DejaVuSans-67\"/>\n       <use x=\"941.207031\" xlink:href=\"#DejaVuSans-111\"/>\n       <use x=\"1002.388672\" xlink:href=\"#DejaVuSans-117\"/>\n       <use x=\"1065.767578\" xlink:href=\"#DejaVuSans-110\"/>\n       <use x=\"1129.146484\" xlink:href=\"#DejaVuSans-116\"/>\n       <use x=\"1168.355469\" xlink:href=\"#DejaVuSans-114\"/>\n       <use x=\"1209.46875\" xlink:href=\"#DejaVuSans-121\"/>\n       <use x=\"1268.648438\" xlink:href=\"#DejaVuSans-32\"/>\n       <use x=\"1300.435547\" xlink:href=\"#DejaVuSans-82\"/>\n       <use x=\"1367.667969\" xlink:href=\"#DejaVuSans-97\"/>\n       <use x=\"1428.947266\" xlink:href=\"#DejaVuSans-99\"/>\n       <use x=\"1483.927734\" xlink:href=\"#DejaVuSans-101\"/>\n       <use x=\"1545.451172\" xlink:href=\"#DejaVuSans-32\"/>\n       <use x=\"1577.238281\" xlink:href=\"#DejaVuSans-45\"/>\n       <use x=\"1613.322266\" xlink:href=\"#DejaVuSans-32\"/>\n       <use x=\"1645.109375\" xlink:href=\"#DejaVuSans-67\"/>\n       <use x=\"1714.933594\" xlink:href=\"#DejaVuSans-97\"/>\n       <use x=\"1776.212891\" xlink:href=\"#DejaVuSans-114\"/>\n       <use x=\"1817.326172\" xlink:href=\"#DejaVuSans-98\"/>\n       <use x=\"1880.802734\" xlink:href=\"#DejaVuSans-111\"/>\n       <use x=\"1941.984375\" xlink:href=\"#DejaVuSans-110\"/>\n      </g>\n     </g>\n    </g>\n    <g id=\"ytick_2\">\n     <g id=\"line2d_10\">\n      <g>\n       <use style=\"stroke:#000000;stroke-width:0.8;\" x=\"214.732812\" xlink:href=\"#me7794c2b50\" y=\"159.408\"/>\n      </g>\n     </g>\n     <g id=\"text_10\">\n      <!-- Road - Endurance Road - Carbon -->\n      <g transform=\"translate(44.842187 163.207219)scale(0.1 -0.1)\">\n       <defs>\n        <path d=\"M 45.40625 46.390625 \nL 45.40625 75.984375 \nL 54.390625 75.984375 \nL 54.390625 0 \nL 45.40625 0 \nL 45.40625 8.203125 \nQ 42.578125 3.328125 38.25 0.953125 \nQ 33.9375 -1.421875 27.875 -1.421875 \nQ 17.96875 -1.421875 11.734375 6.484375 \nQ 5.515625 14.40625 5.515625 27.296875 \nQ 5.515625 40.1875 11.734375 48.09375 \nQ 17.96875 56 27.875 56 \nQ 33.9375 56 38.25 53.625 \nQ 42.578125 51.265625 45.40625 46.390625 \nz\nM 14.796875 27.296875 \nQ 14.796875 17.390625 18.875 11.75 \nQ 22.953125 6.109375 30.078125 6.109375 \nQ 37.203125 6.109375 41.296875 11.75 \nQ 45.40625 17.390625 45.40625 27.296875 \nQ 45.40625 37.203125 41.296875 42.84375 \nQ 37.203125 48.484375 30.078125 48.484375 \nQ 22.953125 48.484375 18.875 42.84375 \nQ 14.796875 37.203125 14.796875 27.296875 \nz\n\" id=\"DejaVuSans-100\"/>\n        <path d=\"M 9.8125 72.90625 \nL 55.90625 72.90625 \nL 55.90625 64.59375 \nL 19.671875 64.59375 \nL 19.671875 43.015625 \nL 54.390625 43.015625 \nL 54.390625 34.71875 \nL 19.671875 34.71875 \nL 19.671875 8.296875 \nL 56.78125 8.296875 \nL 56.78125 0 \nL 9.8125 0 \nz\n\" id=\"DejaVuSans-69\"/>\n       </defs>\n       <use xlink:href=\"#DejaVuSans-82\"/>\n       <use x=\"64.982422\" xlink:href=\"#DejaVuSans-111\"/>\n       <use x=\"126.164062\" xlink:href=\"#DejaVuSans-97\"/>\n       <use x=\"187.443359\" xlink:href=\"#DejaVuSans-100\"/>\n       <use x=\"250.919922\" xlink:href=\"#DejaVuSans-32\"/>\n       <use x=\"282.707031\" xlink:href=\"#DejaVuSans-45\"/>\n       <use x=\"318.791016\" xlink:href=\"#DejaVuSans-32\"/>\n       <use x=\"350.578125\" xlink:href=\"#DejaVuSans-69\"/>\n       <use x=\"413.761719\" xlink:href=\"#DejaVuSans-110\"/>\n       <use x=\"477.140625\" xlink:href=\"#DejaVuSans-100\"/>\n       <use x=\"540.617188\" xlink:href=\"#DejaVuSans-117\"/>\n       <use x=\"603.996094\" xlink:href=\"#DejaVuSans-114\"/>\n       <use x=\"645.109375\" xlink:href=\"#DejaVuSans-97\"/>\n       <use x=\"706.388672\" xlink:href=\"#DejaVuSans-110\"/>\n       <use x=\"769.767578\" xlink:href=\"#DejaVuSans-99\"/>\n       <use x=\"824.748047\" xlink:href=\"#DejaVuSans-101\"/>\n       <use x=\"886.271484\" xlink:href=\"#DejaVuSans-32\"/>\n       <use x=\"918.058594\" xlink:href=\"#DejaVuSans-82\"/>\n       <use x=\"983.041016\" xlink:href=\"#DejaVuSans-111\"/>\n       <use x=\"1044.222656\" xlink:href=\"#DejaVuSans-97\"/>\n       <use x=\"1105.501953\" xlink:href=\"#DejaVuSans-100\"/>\n       <use x=\"1168.978516\" xlink:href=\"#DejaVuSans-32\"/>\n       <use x=\"1200.765625\" xlink:href=\"#DejaVuSans-45\"/>\n       <use x=\"1236.849609\" xlink:href=\"#DejaVuSans-32\"/>\n       <use x=\"1268.636719\" xlink:href=\"#DejaVuSans-67\"/>\n       <use x=\"1338.460938\" xlink:href=\"#DejaVuSans-97\"/>\n       <use x=\"1399.740234\" xlink:href=\"#DejaVuSans-114\"/>\n       <use x=\"1440.853516\" xlink:href=\"#DejaVuSans-98\"/>\n       <use x=\"1504.330078\" xlink:href=\"#DejaVuSans-111\"/>\n       <use x=\"1565.511719\" xlink:href=\"#DejaVuSans-110\"/>\n      </g>\n     </g>\n    </g>\n    <g id=\"ytick_3\">\n     <g id=\"line2d_11\">\n      <g>\n       <use style=\"stroke:#000000;stroke-width:0.8;\" x=\"214.732812\" xlink:href=\"#me7794c2b50\" y=\"115.92\"/>\n      </g>\n     </g>\n     <g id=\"text_11\">\n      <!-- Road - Elite Road - Aluminum -->\n      <g transform=\"translate(61.6 119.719219)scale(0.1 -0.1)\">\n       <defs>\n        <path d=\"M 9.421875 75.984375 \nL 18.40625 75.984375 \nL 18.40625 0 \nL 9.421875 0 \nz\n\" id=\"DejaVuSans-108\"/>\n        <path d=\"M 34.1875 63.1875 \nL 20.796875 26.90625 \nL 47.609375 26.90625 \nz\nM 28.609375 72.90625 \nL 39.796875 72.90625 \nL 67.578125 0 \nL 57.328125 0 \nL 50.6875 18.703125 \nL 17.828125 18.703125 \nL 11.1875 0 \nL 0.78125 0 \nz\n\" id=\"DejaVuSans-65\"/>\n        <path d=\"M 52 44.1875 \nQ 55.375 50.25 60.0625 53.125 \nQ 64.75 56 71.09375 56 \nQ 79.640625 56 84.28125 50.015625 \nQ 88.921875 44.046875 88.921875 33.015625 \nL 88.921875 0 \nL 79.890625 0 \nL 79.890625 32.71875 \nQ 79.890625 40.578125 77.09375 44.375 \nQ 74.3125 48.1875 68.609375 48.1875 \nQ 61.625 48.1875 57.5625 43.546875 \nQ 53.515625 38.921875 53.515625 30.90625 \nL 53.515625 0 \nL 44.484375 0 \nL 44.484375 32.71875 \nQ 44.484375 40.625 41.703125 44.40625 \nQ 38.921875 48.1875 33.109375 48.1875 \nQ 26.21875 48.1875 22.15625 43.53125 \nQ 18.109375 38.875 18.109375 30.90625 \nL 18.109375 0 \nL 9.078125 0 \nL 9.078125 54.6875 \nL 18.109375 54.6875 \nL 18.109375 46.1875 \nQ 21.1875 51.21875 25.484375 53.609375 \nQ 29.78125 56 35.6875 56 \nQ 41.65625 56 45.828125 52.96875 \nQ 50 49.953125 52 44.1875 \nz\n\" id=\"DejaVuSans-109\"/>\n       </defs>\n       <use xlink:href=\"#DejaVuSans-82\"/>\n       <use x=\"64.982422\" xlink:href=\"#DejaVuSans-111\"/>\n       <use x=\"126.164062\" xlink:href=\"#DejaVuSans-97\"/>\n       <use x=\"187.443359\" xlink:href=\"#DejaVuSans-100\"/>\n       <use x=\"250.919922\" xlink:href=\"#DejaVuSans-32\"/>\n       <use x=\"282.707031\" xlink:href=\"#DejaVuSans-45\"/>\n       <use x=\"318.791016\" xlink:href=\"#DejaVuSans-32\"/>\n       <use x=\"350.578125\" xlink:href=\"#DejaVuSans-69\"/>\n       <use x=\"413.761719\" xlink:href=\"#DejaVuSans-108\"/>\n       <use x=\"441.544922\" xlink:href=\"#DejaVuSans-105\"/>\n       <use x=\"469.328125\" xlink:href=\"#DejaVuSans-116\"/>\n       <use x=\"508.537109\" xlink:href=\"#DejaVuSans-101\"/>\n       <use x=\"570.060547\" xlink:href=\"#DejaVuSans-32\"/>\n       <use x=\"601.847656\" xlink:href=\"#DejaVuSans-82\"/>\n       <use x=\"666.830078\" xlink:href=\"#DejaVuSans-111\"/>\n       <use x=\"728.011719\" xlink:href=\"#DejaVuSans-97\"/>\n       <use x=\"789.291016\" xlink:href=\"#DejaVuSans-100\"/>\n       <use x=\"852.767578\" xlink:href=\"#DejaVuSans-32\"/>\n       <use x=\"884.554688\" xlink:href=\"#DejaVuSans-45\"/>\n       <use x=\"920.638672\" xlink:href=\"#DejaVuSans-32\"/>\n       <use x=\"952.425781\" xlink:href=\"#DejaVuSans-65\"/>\n       <use x=\"1020.833984\" xlink:href=\"#DejaVuSans-108\"/>\n       <use x=\"1048.617188\" xlink:href=\"#DejaVuSans-117\"/>\n       <use x=\"1111.996094\" xlink:href=\"#DejaVuSans-109\"/>\n       <use x=\"1209.408203\" xlink:href=\"#DejaVuSans-105\"/>\n       <use x=\"1237.191406\" xlink:href=\"#DejaVuSans-110\"/>\n       <use x=\"1300.570312\" xlink:href=\"#DejaVuSans-117\"/>\n       <use x=\"1363.949219\" xlink:href=\"#DejaVuSans-109\"/>\n      </g>\n     </g>\n    </g>\n    <g id=\"ytick_4\">\n     <g id=\"line2d_12\">\n      <g>\n       <use style=\"stroke:#000000;stroke-width:0.8;\" x=\"214.732812\" xlink:href=\"#me7794c2b50\" y=\"72.432\"/>\n      </g>\n     </g>\n     <g id=\"text_12\">\n      <!-- Road - Elite Road - Carbon -->\n      <g transform=\"translate(76.464062 76.231219)scale(0.1 -0.1)\">\n       <use xlink:href=\"#DejaVuSans-82\"/>\n       <use x=\"64.982422\" xlink:href=\"#DejaVuSans-111\"/>\n       <use x=\"126.164062\" xlink:href=\"#DejaVuSans-97\"/>\n       <use x=\"187.443359\" xlink:href=\"#DejaVuSans-100\"/>\n       <use x=\"250.919922\" xlink:href=\"#DejaVuSans-32\"/>\n       <use x=\"282.707031\" xlink:href=\"#DejaVuSans-45\"/>\n       <use x=\"318.791016\" xlink:href=\"#DejaVuSans-32\"/>\n       <use x=\"350.578125\" xlink:href=\"#DejaVuSans-69\"/>\n       <use x=\"413.761719\" xlink:href=\"#DejaVuSans-108\"/>\n       <use x=\"441.544922\" xlink:href=\"#DejaVuSans-105\"/>\n       <use x=\"469.328125\" xlink:href=\"#DejaVuSans-116\"/>\n       <use x=\"508.537109\" xlink:href=\"#DejaVuSans-101\"/>\n       <use x=\"570.060547\" xlink:href=\"#DejaVuSans-32\"/>\n       <use x=\"601.847656\" xlink:href=\"#DejaVuSans-82\"/>\n       <use x=\"666.830078\" xlink:href=\"#DejaVuSans-111\"/>\n       <use x=\"728.011719\" xlink:href=\"#DejaVuSans-97\"/>\n       <use x=\"789.291016\" xlink:href=\"#DejaVuSans-100\"/>\n       <use x=\"852.767578\" xlink:href=\"#DejaVuSans-32\"/>\n       <use x=\"884.554688\" xlink:href=\"#DejaVuSans-45\"/>\n       <use x=\"920.638672\" xlink:href=\"#DejaVuSans-32\"/>\n       <use x=\"952.425781\" xlink:href=\"#DejaVuSans-67\"/>\n       <use x=\"1022.25\" xlink:href=\"#DejaVuSans-97\"/>\n       <use x=\"1083.529297\" xlink:href=\"#DejaVuSans-114\"/>\n       <use x=\"1124.642578\" xlink:href=\"#DejaVuSans-98\"/>\n       <use x=\"1188.119141\" xlink:href=\"#DejaVuSans-111\"/>\n       <use x=\"1249.300781\" xlink:href=\"#DejaVuSans-110\"/>\n      </g>\n     </g>\n    </g>\n    <g id=\"ytick_5\">\n     <g id=\"line2d_13\">\n      <g>\n       <use style=\"stroke:#000000;stroke-width:0.8;\" x=\"214.732812\" xlink:href=\"#me7794c2b50\" y=\"28.944\"/>\n      </g>\n     </g>\n     <g id=\"text_13\">\n      <!-- Mountain - Sport - Aluminum -->\n      <g transform=\"translate(63.48125 32.743219)scale(0.1 -0.1)\">\n       <defs>\n        <path d=\"M 53.515625 70.515625 \nL 53.515625 60.890625 \nQ 47.90625 63.578125 42.921875 64.890625 \nQ 37.9375 66.21875 33.296875 66.21875 \nQ 25.25 66.21875 20.875 63.09375 \nQ 16.5 59.96875 16.5 54.203125 \nQ 16.5 49.359375 19.40625 46.890625 \nQ 22.3125 44.4375 30.421875 42.921875 \nL 36.375 41.703125 \nQ 47.40625 39.59375 52.65625 34.296875 \nQ 57.90625 29 57.90625 20.125 \nQ 57.90625 9.515625 50.796875 4.046875 \nQ 43.703125 -1.421875 29.984375 -1.421875 \nQ 24.8125 -1.421875 18.96875 -0.25 \nQ 13.140625 0.921875 6.890625 3.21875 \nL 6.890625 13.375 \nQ 12.890625 10.015625 18.65625 8.296875 \nQ 24.421875 6.59375 29.984375 6.59375 \nQ 38.421875 6.59375 43.015625 9.90625 \nQ 47.609375 13.234375 47.609375 19.390625 \nQ 47.609375 24.75 44.3125 27.78125 \nQ 41.015625 30.8125 33.5 32.328125 \nL 27.484375 33.5 \nQ 16.453125 35.6875 11.515625 40.375 \nQ 6.59375 45.0625 6.59375 53.421875 \nQ 6.59375 63.09375 13.40625 68.65625 \nQ 20.21875 74.21875 32.171875 74.21875 \nQ 37.3125 74.21875 42.625 73.28125 \nQ 47.953125 72.359375 53.515625 70.515625 \nz\n\" id=\"DejaVuSans-83\"/>\n        <path d=\"M 18.109375 8.203125 \nL 18.109375 -20.796875 \nL 9.078125 -20.796875 \nL 9.078125 54.6875 \nL 18.109375 54.6875 \nL 18.109375 46.390625 \nQ 20.953125 51.265625 25.265625 53.625 \nQ 29.59375 56 35.59375 56 \nQ 45.5625 56 51.78125 48.09375 \nQ 58.015625 40.1875 58.015625 27.296875 \nQ 58.015625 14.40625 51.78125 6.484375 \nQ 45.5625 -1.421875 35.59375 -1.421875 \nQ 29.59375 -1.421875 25.265625 0.953125 \nQ 20.953125 3.328125 18.109375 8.203125 \nz\nM 48.6875 27.296875 \nQ 48.6875 37.203125 44.609375 42.84375 \nQ 40.53125 48.484375 33.40625 48.484375 \nQ 26.265625 48.484375 22.1875 42.84375 \nQ 18.109375 37.203125 18.109375 27.296875 \nQ 18.109375 17.390625 22.1875 11.75 \nQ 26.265625 6.109375 33.40625 6.109375 \nQ 40.53125 6.109375 44.609375 11.75 \nQ 48.6875 17.390625 48.6875 27.296875 \nz\n\" id=\"DejaVuSans-112\"/>\n       </defs>\n       <use xlink:href=\"#DejaVuSans-77\"/>\n       <use x=\"86.279297\" xlink:href=\"#DejaVuSans-111\"/>\n       <use x=\"147.460938\" xlink:href=\"#DejaVuSans-117\"/>\n       <use x=\"210.839844\" xlink:href=\"#DejaVuSans-110\"/>\n       <use x=\"274.21875\" xlink:href=\"#DejaVuSans-116\"/>\n       <use x=\"313.427734\" xlink:href=\"#DejaVuSans-97\"/>\n       <use x=\"374.707031\" xlink:href=\"#DejaVuSans-105\"/>\n       <use x=\"402.490234\" xlink:href=\"#DejaVuSans-110\"/>\n       <use x=\"465.869141\" xlink:href=\"#DejaVuSans-32\"/>\n       <use x=\"497.65625\" xlink:href=\"#DejaVuSans-45\"/>\n       <use x=\"533.740234\" xlink:href=\"#DejaVuSans-32\"/>\n       <use x=\"565.527344\" xlink:href=\"#DejaVuSans-83\"/>\n       <use x=\"629.003906\" xlink:href=\"#DejaVuSans-112\"/>\n       <use x=\"692.480469\" xlink:href=\"#DejaVuSans-111\"/>\n       <use x=\"753.662109\" xlink:href=\"#DejaVuSans-114\"/>\n       <use x=\"794.775391\" xlink:href=\"#DejaVuSans-116\"/>\n       <use x=\"833.984375\" xlink:href=\"#DejaVuSans-32\"/>\n       <use x=\"865.771484\" xlink:href=\"#DejaVuSans-45\"/>\n       <use x=\"901.855469\" xlink:href=\"#DejaVuSans-32\"/>\n       <use x=\"933.642578\" xlink:href=\"#DejaVuSans-65\"/>\n       <use x=\"1002.050781\" xlink:href=\"#DejaVuSans-108\"/>\n       <use x=\"1029.833984\" xlink:href=\"#DejaVuSans-117\"/>\n       <use x=\"1093.212891\" xlink:href=\"#DejaVuSans-109\"/>\n       <use x=\"1190.625\" xlink:href=\"#DejaVuSans-105\"/>\n       <use x=\"1218.408203\" xlink:href=\"#DejaVuSans-110\"/>\n       <use x=\"1281.787109\" xlink:href=\"#DejaVuSans-117\"/>\n       <use x=\"1345.166016\" xlink:href=\"#DejaVuSans-109\"/>\n      </g>\n     </g>\n    </g>\n   </g>\n   <g id=\"patch_8\">\n    <path d=\"M 214.732812 224.64 \nL 214.732812 7.2 \n\" style=\"fill:none;stroke:#000000;stroke-linecap:square;stroke-linejoin:miter;stroke-width:0.8;\"/>\n   </g>\n   <g id=\"patch_9\">\n    <path d=\"M 549.532812 224.64 \nL 549.532812 7.2 \n\" style=\"fill:none;stroke:#000000;stroke-linecap:square;stroke-linejoin:miter;stroke-width:0.8;\"/>\n   </g>\n   <g id=\"patch_10\">\n    <path d=\"M 214.732812 224.64 \nL 549.532812 224.64 \n\" style=\"fill:none;stroke:#000000;stroke-linecap:square;stroke-linejoin:miter;stroke-width:0.8;\"/>\n   </g>\n   <g id=\"patch_11\">\n    <path d=\"M 214.732812 7.2 \nL 549.532812 7.2 \n\" style=\"fill:none;stroke:#000000;stroke-linecap:square;stroke-linejoin:miter;stroke-width:0.8;\"/>\n   </g>\n  </g>\n </g>\n <defs>\n  <clipPath id=\"p46af26c755\">\n   <rect height=\"217.44\" width=\"334.8\" x=\"214.732812\" y=\"7.2\"/>\n  </clipPath>\n </defs>\n</svg>\n",
      "image/png": "[encoded data removed]"
     },
     "metadata": {
      "needs_background": "light"
     }
    }
   ],
   "source": [
    "fig = top5_bikes_series.plot(kind=\"barh\")\n",
    "fig"
   ]
  },
  {
   "source": [
    "# 4. Joing the excel tables"
   ],
   "cell_type": "markdown",
   "metadata": {}
  },
  {
   "source": [
    "* 剛剛已經知道，`orderlines_df` 這個資料集裡面的 `product.id` 對應到 `bikes_df` 資料集的 `product.id`\n",
    "* 也知道 `orderlines_df` 這個資料集裡面的 `customer.id` 對應到 `bikeshops_df` 資料集裡面的 `bikeshop.id`  \n",
    "* 那我們現在就以 `orderlines_df` 為底，然後把兩份資料 join 過來"
   ],
   "cell_type": "markdown",
   "metadata": {}
  },
  {
   "cell_type": "code",
   "execution_count": 13,
   "metadata": {},
   "outputs": [
    {
     "output_type": "execute_result",
     "data": {
      "text/html": "<div>\n<style scoped>\n    .dataframe tbody tr th:only-of-type {\n        vertical-align: middle;\n    }\n\n    .dataframe tbody tr th {\n        vertical-align: top;\n    }\n\n    .dataframe thead th {\n        text-align: right;\n    }\n</style>\n<table border=\"1\" class=\"dataframe\">\n  <thead>\n    <tr style=\"text-align: right;\">\n      <th></th>\n      <th>order.id</th>\n      <th>order.line</th>\n      <th>order.date</th>\n      <th>customer.id</th>\n      <th>product.id</th>\n      <th>quantity</th>\n      <th>bike.id</th>\n      <th>model</th>\n      <th>description</th>\n      <th>price</th>\n      <th>bikeshop.id</th>\n      <th>bikeshop.name</th>\n      <th>location</th>\n    </tr>\n  </thead>\n  <tbody>\n    <tr>\n      <th>0</th>\n      <td>1</td>\n      <td>1</td>\n      <td>2011-01-07 00:00:00</td>\n      <td>2</td>\n      <td>48</td>\n      <td>1</td>\n      <td>48</td>\n      <td>Jekyll Carbon 2</td>\n      <td>Mountain - Over Mountain - Carbon</td>\n      <td>6070</td>\n      <td>2</td>\n      <td>Ithaca Mountain Climbers</td>\n      <td>Ithaca, NY</td>\n    </tr>\n    <tr>\n      <th>1</th>\n      <td>1</td>\n      <td>2</td>\n      <td>2011-01-07 00:00:00</td>\n      <td>2</td>\n      <td>52</td>\n      <td>1</td>\n      <td>52</td>\n      <td>Trigger Carbon 2</td>\n      <td>Mountain - Over Mountain - Carbon</td>\n      <td>5970</td>\n      <td>2</td>\n      <td>Ithaca Mountain Climbers</td>\n      <td>Ithaca, NY</td>\n    </tr>\n    <tr>\n      <th>2</th>\n      <td>2</td>\n      <td>1</td>\n      <td>2011-01-10 00:00:00</td>\n      <td>10</td>\n      <td>76</td>\n      <td>1</td>\n      <td>76</td>\n      <td>Beast of the East 1</td>\n      <td>Mountain - Trail - Aluminum</td>\n      <td>2770</td>\n      <td>10</td>\n      <td>Kansas City 29ers</td>\n      <td>Kansas City, KS</td>\n    </tr>\n    <tr>\n      <th>3</th>\n      <td>2</td>\n      <td>2</td>\n      <td>2011-01-10 00:00:00</td>\n      <td>10</td>\n      <td>52</td>\n      <td>1</td>\n      <td>52</td>\n      <td>Trigger Carbon 2</td>\n      <td>Mountain - Over Mountain - Carbon</td>\n      <td>5970</td>\n      <td>10</td>\n      <td>Kansas City 29ers</td>\n      <td>Kansas City, KS</td>\n    </tr>\n    <tr>\n      <th>4</th>\n      <td>3</td>\n      <td>1</td>\n      <td>2011-01-10 00:00:00</td>\n      <td>6</td>\n      <td>2</td>\n      <td>1</td>\n      <td>2</td>\n      <td>Supersix Evo Hi-Mod Team</td>\n      <td>Road - Elite Road - Carbon</td>\n      <td>10660</td>\n      <td>6</td>\n      <td>Louisville Race Equipment</td>\n      <td>Louisville, KY</td>\n    </tr>\n    <tr>\n      <th>5</th>\n      <td>3</td>\n      <td>2</td>\n      <td>2011-01-10 00:00:00</td>\n      <td>6</td>\n      <td>50</td>\n      <td>1</td>\n      <td>50</td>\n      <td>Jekyll Carbon 4</td>\n      <td>Mountain - Over Mountain - Carbon</td>\n      <td>3200</td>\n      <td>6</td>\n      <td>Louisville Race Equipment</td>\n      <td>Louisville, KY</td>\n    </tr>\n    <tr>\n      <th>6</th>\n      <td>3</td>\n      <td>3</td>\n      <td>2011-01-10 00:00:00</td>\n      <td>6</td>\n      <td>1</td>\n      <td>1</td>\n      <td>1</td>\n      <td>Supersix Evo Black Inc.</td>\n      <td>Road - Elite Road - Carbon</td>\n      <td>12790</td>\n      <td>6</td>\n      <td>Louisville Race Equipment</td>\n      <td>Louisville, KY</td>\n    </tr>\n    <tr>\n      <th>7</th>\n      <td>3</td>\n      <td>4</td>\n      <td>2011-01-10 00:00:00</td>\n      <td>6</td>\n      <td>4</td>\n      <td>1</td>\n      <td>4</td>\n      <td>Supersix Evo Hi-Mod Dura Ace 2</td>\n      <td>Road - Elite Road - Carbon</td>\n      <td>5330</td>\n      <td>6</td>\n      <td>Louisville Race Equipment</td>\n      <td>Louisville, KY</td>\n    </tr>\n    <tr>\n      <th>8</th>\n      <td>3</td>\n      <td>5</td>\n      <td>2011-01-10 00:00:00</td>\n      <td>6</td>\n      <td>34</td>\n      <td>1</td>\n      <td>34</td>\n      <td>Synapse Disc 105</td>\n      <td>Road - Endurance Road - Aluminum</td>\n      <td>1570</td>\n      <td>6</td>\n      <td>Louisville Race Equipment</td>\n      <td>Louisville, KY</td>\n    </tr>\n    <tr>\n      <th>9</th>\n      <td>4</td>\n      <td>1</td>\n      <td>2011-01-11 00:00:00</td>\n      <td>22</td>\n      <td>26</td>\n      <td>1</td>\n      <td>26</td>\n      <td>Synapse Carbon Disc Ultegra D12</td>\n      <td>Road - Endurance Road - Carbon</td>\n      <td>4800</td>\n      <td>22</td>\n      <td>Ann Arbor Speed</td>\n      <td>Ann Arbor, MI</td>\n    </tr>\n  </tbody>\n</table>\n</div>"
     },
     "metadata": {},
     "execution_count": 13
    }
   ],
   "source": [
    "bike_orderlines_joined_df = orderlines_df \\\n",
    "    .merge(\n",
    "        right = bikes_df,\n",
    "        how = 'left', # left_join 的意思\n",
    "        left_on = 'product.id',\n",
    "        right_on = 'bike.id'\n",
    "    ) \\\n",
    "    .merge(\n",
    "        right = bikeshops_df,\n",
    "        how = 'left',\n",
    "        left_on = 'customer.id',\n",
    "        right_on = 'bikeshop.id'\n",
    "    )\n",
    "bike_orderlines_joined_df.head(10)"
   ]
  },
  {
   "source": [
    "# 5. Wrangling Data"
   ],
   "cell_type": "markdown",
   "metadata": {}
  },
  {
   "source": [
    "* 首先，我們來提醒一下 `.copy` 的用法"
   ],
   "cell_type": "markdown",
   "metadata": {}
  },
  {
   "cell_type": "code",
   "execution_count": 14,
   "metadata": {},
   "outputs": [],
   "source": [
    "df = bike_orderlines_joined_df # 如果 df 變了， bike_orderlines_joined_df 會跟著變，因為他們 reference 到同一個記憶體位置\n",
    "df2 = bike_orderlines_joined_df.copy() # 如果 df2 變了，bike_orderlines_joined_df 不會跟著變，因為你用 copy 時，他會開一個新的記憶體位置給 df2"
   ]
  },
  {
   "source": [
    "## 5.1 Handle Dates"
   ],
   "cell_type": "markdown",
   "metadata": {}
  },
  {
   "source": [
    "* 原本的資料， order.date 這個欄位的類型是 `object` (在這邊理解成 string 就好)，不是我期望的 datetime"
   ],
   "cell_type": "markdown",
   "metadata": {}
  },
  {
   "cell_type": "code",
   "execution_count": 15,
   "metadata": {},
   "outputs": [
    {
     "output_type": "stream",
     "name": "stdout",
     "text": [
      "0        2011-01-07 00:00:00\n1        2011-01-07 00:00:00\n2        2011-01-10 00:00:00\n3        2011-01-10 00:00:00\n4        2011-01-10 00:00:00\n                ...         \n15639    2015-12-25 00:00:00\n15640    2015-12-25 00:00:00\n15641    2015-12-25 00:00:00\n15642    2015-12-25 00:00:00\n15643    2015-12-25 00:00:00\nName: order.date, Length: 15644, dtype: object\n"
     ]
    }
   ],
   "source": [
    "print(bike_orderlines_joined_df['order.date'])"
   ]
  },
  {
   "source": [
    "* 所以，我要對這欄作轉換"
   ],
   "cell_type": "markdown",
   "metadata": {}
  },
  {
   "cell_type": "code",
   "execution_count": 16,
   "metadata": {},
   "outputs": [
    {
     "output_type": "stream",
     "name": "stdout",
     "text": [
      "0       2011-01-07\n1       2011-01-07\n2       2011-01-10\n3       2011-01-10\n4       2011-01-10\n           ...    \n15639   2015-12-25\n15640   2015-12-25\n15641   2015-12-25\n15642   2015-12-25\n15643   2015-12-25\nName: order.date, Length: 15644, dtype: datetime64[ns]\n"
     ]
    }
   ],
   "source": [
    "df2['order.date'] = pd.to_datetime(df2['order.date'])\n",
    "print(df2['order.date'])"
   ]
  },
  {
   "source": [
    "* 轉換後，就變成 `datetime64` 的格式了\n",
    "* 那 datetime 格式的好處是，他就有對應的 method, attribute 可以用，例如，我可以擷取年份資訊："
   ],
   "cell_type": "markdown",
   "metadata": {}
  },
  {
   "cell_type": "code",
   "execution_count": 44,
   "metadata": {},
   "outputs": [
    {
     "output_type": "stream",
     "name": "stdout",
     "text": [
      "0        2011\n1        2011\n2        2011\n3        2011\n4        2011\n         ... \n15639    2015\n15640    2015\n15641    2015\n15642    2015\n15643    2015\nName: order_date, Length: 15644, dtype: int64\n"
     ]
    }
   ],
   "source": [
    "order_date_series = df2['order_date']\n",
    "print(order_date_series.dt.year)"
   ]
  },
  {
   "source": [
    "## 5.2 Splitting text data"
   ],
   "cell_type": "markdown",
   "metadata": {}
  },
  {
   "source": [
    "* 我們原本的資料， `description` 這個欄位，會用 `-` 來間隔三個字串："
   ],
   "cell_type": "markdown",
   "metadata": {}
  },
  {
   "cell_type": "code",
   "execution_count": 17,
   "metadata": {},
   "outputs": [
    {
     "output_type": "stream",
     "name": "stdout",
     "text": [
      "0               Mountain - Over Mountain - Carbon\n1               Mountain - Over Mountain - Carbon\n2                     Mountain - Trail - Aluminum\n3               Mountain - Over Mountain - Carbon\n4                      Road - Elite Road - Carbon\n                           ...                   \n15639                Road - Elite Road - Aluminum\n15640                 Mountain - Sport - Aluminum\n15641                Road - Elite Road - Aluminum\n15642      Mountain - Cross Country Race - Carbon\n15643    Mountain - Cross Country Race - Aluminum\nName: description, Length: 15644, dtype: object\n"
     ]
    }
   ],
   "source": [
    "print(df2.description)"
   ]
  },
  {
   "source": [
    "* 那我現在想把這個字串，拆解成三個欄位，並分別命名成 category_1, category_2, and frame_material"
   ],
   "cell_type": "markdown",
   "metadata": {}
  },
  {
   "source": [
    "* 這邊先介紹一個字串的method: `split()`，例如這樣用："
   ],
   "cell_type": "markdown",
   "metadata": {}
  },
  {
   "cell_type": "code",
   "execution_count": 20,
   "metadata": {},
   "outputs": [
    {
     "output_type": "display_data",
     "data": {
      "text/plain": "\u001b[1m[\u001b[0m\u001b[32m'Moutain'\u001b[0m, \u001b[32m'Over Mountain'\u001b[0m, \u001b[32m'Carbon'\u001b[0m\u001b[1m]\u001b[0m\n",
      "text/html": "<pre style=\"white-space:pre;overflow-x:auto;line-height:normal;font-family:Menlo,'DejaVu Sans Mono',consolas,'Courier New',monospace\"><span style=\"font-weight: bold\">[</span><span style=\"color: #008000; text-decoration-color: #008000\">'Moutain'</span>, <span style=\"color: #008000; text-decoration-color: #008000\">'Over Mountain'</span>, <span style=\"color: #008000; text-decoration-color: #008000\">'Carbon'</span><span style=\"font-weight: bold\">]</span>\n</pre>\n"
     },
     "metadata": {}
    }
   ],
   "source": [
    "\"Moutain - Over Mountain - Carbon\".split(\" - \")"
   ]
  },
  {
   "source": [
    "* 那要用在 pandas 的 dataframe 格式時，就發現如果加個 `.str`，後面就有 string 的那些 method 可以用，所以我可以寫成這樣："
   ],
   "cell_type": "markdown",
   "metadata": {}
  },
  {
   "cell_type": "code",
   "execution_count": 19,
   "metadata": {},
   "outputs": [
    {
     "output_type": "stream",
     "name": "stdout",
     "text": [
      "0               [Mountain, Over Mountain, Carbon]\n1               [Mountain, Over Mountain, Carbon]\n2                     [Mountain, Trail, Aluminum]\n3               [Mountain, Over Mountain, Carbon]\n4                      [Road, Elite Road, Carbon]\n                           ...                   \n15639                [Road, Elite Road, Aluminum]\n15640                 [Mountain, Sport, Aluminum]\n15641                [Road, Elite Road, Aluminum]\n15642      [Mountain, Cross Country Race, Carbon]\n15643    [Mountain, Cross Country Race, Aluminum]\nName: description, Length: 15644, dtype: object\n"
     ]
    }
   ],
   "source": [
    "print(df2['description'].str.split(\" - \"))"
   ]
  },
  {
   "source": [
    "* 還不賴，但不是我要的，因為我要切成三個 column。 那 `split()` 裡面還有個參數叫 `expand = True`，就可以把欄位拆開："
   ],
   "cell_type": "markdown",
   "metadata": {}
  },
  {
   "cell_type": "code",
   "execution_count": 22,
   "metadata": {},
   "outputs": [
    {
     "output_type": "stream",
     "name": "stdout",
     "text": [
      "              0                   1         2\n0      Mountain       Over Mountain    Carbon\n1      Mountain       Over Mountain    Carbon\n2      Mountain               Trail  Aluminum\n3      Mountain       Over Mountain    Carbon\n4          Road          Elite Road    Carbon\n...         ...                 ...       ...\n15639      Road          Elite Road  Aluminum\n15640  Mountain               Sport  Aluminum\n15641      Road          Elite Road  Aluminum\n15642  Mountain  Cross Country Race    Carbon\n15643  Mountain  Cross Country Race  Aluminum\n\n[15644 rows x 3 columns]\n"
     ]
    }
   ],
   "source": [
    "temp_df = df2['description'].str.split(pat = \" - \", expand = True)\n",
    "print(temp_df)"
   ]
  },
  {
   "source": [
    "* nice，拆開來了，但欄位名稱不是我要的，而且，也還沒塞回原本的資料集\n",
    "* 那課程中的做法，我覺得超爛，但現在我也不知道 dplyr 的那種作法在 python 怎麼做，所以只好先用課程中的做法來處理，如下："
   ],
   "cell_type": "markdown",
   "metadata": {}
  },
  {
   "cell_type": "code",
   "execution_count": 23,
   "metadata": {},
   "outputs": [
    {
     "output_type": "execute_result",
     "data": {
      "text/html": "<div>\n<style scoped>\n    .dataframe tbody tr th:only-of-type {\n        vertical-align: middle;\n    }\n\n    .dataframe tbody tr th {\n        vertical-align: top;\n    }\n\n    .dataframe thead th {\n        text-align: right;\n    }\n</style>\n<table border=\"1\" class=\"dataframe\">\n  <thead>\n    <tr style=\"text-align: right;\">\n      <th></th>\n      <th>order.id</th>\n      <th>order.line</th>\n      <th>order.date</th>\n      <th>customer.id</th>\n      <th>product.id</th>\n      <th>quantity</th>\n      <th>bike.id</th>\n      <th>model</th>\n      <th>description</th>\n      <th>price</th>\n      <th>bikeshop.id</th>\n      <th>bikeshop.name</th>\n      <th>location</th>\n      <th>category.1</th>\n      <th>category.2</th>\n      <th>frame.material</th>\n    </tr>\n  </thead>\n  <tbody>\n    <tr>\n      <th>0</th>\n      <td>1</td>\n      <td>1</td>\n      <td>2011-01-07</td>\n      <td>2</td>\n      <td>48</td>\n      <td>1</td>\n      <td>48</td>\n      <td>Jekyll Carbon 2</td>\n      <td>Mountain - Over Mountain - Carbon</td>\n      <td>6070</td>\n      <td>2</td>\n      <td>Ithaca Mountain Climbers</td>\n      <td>Ithaca, NY</td>\n      <td>Mountain</td>\n      <td>Over Mountain</td>\n      <td>Carbon</td>\n    </tr>\n    <tr>\n      <th>1</th>\n      <td>1</td>\n      <td>2</td>\n      <td>2011-01-07</td>\n      <td>2</td>\n      <td>52</td>\n      <td>1</td>\n      <td>52</td>\n      <td>Trigger Carbon 2</td>\n      <td>Mountain - Over Mountain - Carbon</td>\n      <td>5970</td>\n      <td>2</td>\n      <td>Ithaca Mountain Climbers</td>\n      <td>Ithaca, NY</td>\n      <td>Mountain</td>\n      <td>Over Mountain</td>\n      <td>Carbon</td>\n    </tr>\n    <tr>\n      <th>2</th>\n      <td>2</td>\n      <td>1</td>\n      <td>2011-01-10</td>\n      <td>10</td>\n      <td>76</td>\n      <td>1</td>\n      <td>76</td>\n      <td>Beast of the East 1</td>\n      <td>Mountain - Trail - Aluminum</td>\n      <td>2770</td>\n      <td>10</td>\n      <td>Kansas City 29ers</td>\n      <td>Kansas City, KS</td>\n      <td>Mountain</td>\n      <td>Trail</td>\n      <td>Aluminum</td>\n    </tr>\n    <tr>\n      <th>3</th>\n      <td>2</td>\n      <td>2</td>\n      <td>2011-01-10</td>\n      <td>10</td>\n      <td>52</td>\n      <td>1</td>\n      <td>52</td>\n      <td>Trigger Carbon 2</td>\n      <td>Mountain - Over Mountain - Carbon</td>\n      <td>5970</td>\n      <td>10</td>\n      <td>Kansas City 29ers</td>\n      <td>Kansas City, KS</td>\n      <td>Mountain</td>\n      <td>Over Mountain</td>\n      <td>Carbon</td>\n    </tr>\n    <tr>\n      <th>4</th>\n      <td>3</td>\n      <td>1</td>\n      <td>2011-01-10</td>\n      <td>6</td>\n      <td>2</td>\n      <td>1</td>\n      <td>2</td>\n      <td>Supersix Evo Hi-Mod Team</td>\n      <td>Road - Elite Road - Carbon</td>\n      <td>10660</td>\n      <td>6</td>\n      <td>Louisville Race Equipment</td>\n      <td>Louisville, KY</td>\n      <td>Road</td>\n      <td>Elite Road</td>\n      <td>Carbon</td>\n    </tr>\n  </tbody>\n</table>\n</div>"
     },
     "metadata": {},
     "execution_count": 23
    }
   ],
   "source": [
    "df2['category.1'] = temp_df[0]\n",
    "df2['category.2'] = temp_df[1]\n",
    "df2['frame.material'] = temp_df[2]\n",
    "df2.head(5)"
   ]
  },
  {
   "source": [
    "* 打鐵趁熱， `location` 的內容長這樣： \"Austin, TX\"，所以，我想把 location 拆解成 city 和 state 兩個欄位  \n",
    "* 作法一樣： "
   ],
   "cell_type": "markdown",
   "metadata": {}
  },
  {
   "cell_type": "code",
   "execution_count": 25,
   "metadata": {},
   "outputs": [
    {
     "output_type": "execute_result",
     "data": {
      "text/html": "<div>\n<style scoped>\n    .dataframe tbody tr th:only-of-type {\n        vertical-align: middle;\n    }\n\n    .dataframe tbody tr th {\n        vertical-align: top;\n    }\n\n    .dataframe thead th {\n        text-align: right;\n    }\n</style>\n<table border=\"1\" class=\"dataframe\">\n  <thead>\n    <tr style=\"text-align: right;\">\n      <th></th>\n      <th>0</th>\n      <th>1</th>\n    </tr>\n  </thead>\n  <tbody>\n    <tr>\n      <th>0</th>\n      <td>Ithaca</td>\n      <td>NY</td>\n    </tr>\n    <tr>\n      <th>1</th>\n      <td>Ithaca</td>\n      <td>NY</td>\n    </tr>\n    <tr>\n      <th>2</th>\n      <td>Kansas City</td>\n      <td>KS</td>\n    </tr>\n    <tr>\n      <th>3</th>\n      <td>Kansas City</td>\n      <td>KS</td>\n    </tr>\n    <tr>\n      <th>4</th>\n      <td>Louisville</td>\n      <td>KY</td>\n    </tr>\n    <tr>\n      <th>...</th>\n      <td>...</td>\n      <td>...</td>\n    </tr>\n    <tr>\n      <th>15639</th>\n      <td>Austin</td>\n      <td>TX</td>\n    </tr>\n    <tr>\n      <th>15640</th>\n      <td>Austin</td>\n      <td>TX</td>\n    </tr>\n    <tr>\n      <th>15641</th>\n      <td>Austin</td>\n      <td>TX</td>\n    </tr>\n    <tr>\n      <th>15642</th>\n      <td>Austin</td>\n      <td>TX</td>\n    </tr>\n    <tr>\n      <th>15643</th>\n      <td>Austin</td>\n      <td>TX</td>\n    </tr>\n  </tbody>\n</table>\n<p>15644 rows × 2 columns</p>\n</div>"
     },
     "metadata": {},
     "execution_count": 25
    }
   ],
   "source": [
    "temp_df = df2['location'].str.split(', ', expand = True)\n",
    "temp_df"
   ]
  },
  {
   "cell_type": "code",
   "execution_count": 26,
   "metadata": {},
   "outputs": [
    {
     "output_type": "execute_result",
     "data": {
      "text/html": "<div>\n<style scoped>\n    .dataframe tbody tr th:only-of-type {\n        vertical-align: middle;\n    }\n\n    .dataframe tbody tr th {\n        vertical-align: top;\n    }\n\n    .dataframe thead th {\n        text-align: right;\n    }\n</style>\n<table border=\"1\" class=\"dataframe\">\n  <thead>\n    <tr style=\"text-align: right;\">\n      <th></th>\n      <th>order.id</th>\n      <th>order.line</th>\n      <th>order.date</th>\n      <th>customer.id</th>\n      <th>product.id</th>\n      <th>quantity</th>\n      <th>bike.id</th>\n      <th>model</th>\n      <th>description</th>\n      <th>price</th>\n      <th>bikeshop.id</th>\n      <th>bikeshop.name</th>\n      <th>location</th>\n      <th>category.1</th>\n      <th>category.2</th>\n      <th>frame.material</th>\n      <th>city</th>\n      <th>state</th>\n    </tr>\n  </thead>\n  <tbody>\n    <tr>\n      <th>0</th>\n      <td>1</td>\n      <td>1</td>\n      <td>2011-01-07</td>\n      <td>2</td>\n      <td>48</td>\n      <td>1</td>\n      <td>48</td>\n      <td>Jekyll Carbon 2</td>\n      <td>Mountain - Over Mountain - Carbon</td>\n      <td>6070</td>\n      <td>2</td>\n      <td>Ithaca Mountain Climbers</td>\n      <td>Ithaca, NY</td>\n      <td>Mountain</td>\n      <td>Over Mountain</td>\n      <td>Carbon</td>\n      <td>Ithaca</td>\n      <td>NY</td>\n    </tr>\n    <tr>\n      <th>1</th>\n      <td>1</td>\n      <td>2</td>\n      <td>2011-01-07</td>\n      <td>2</td>\n      <td>52</td>\n      <td>1</td>\n      <td>52</td>\n      <td>Trigger Carbon 2</td>\n      <td>Mountain - Over Mountain - Carbon</td>\n      <td>5970</td>\n      <td>2</td>\n      <td>Ithaca Mountain Climbers</td>\n      <td>Ithaca, NY</td>\n      <td>Mountain</td>\n      <td>Over Mountain</td>\n      <td>Carbon</td>\n      <td>Ithaca</td>\n      <td>NY</td>\n    </tr>\n    <tr>\n      <th>2</th>\n      <td>2</td>\n      <td>1</td>\n      <td>2011-01-10</td>\n      <td>10</td>\n      <td>76</td>\n      <td>1</td>\n      <td>76</td>\n      <td>Beast of the East 1</td>\n      <td>Mountain - Trail - Aluminum</td>\n      <td>2770</td>\n      <td>10</td>\n      <td>Kansas City 29ers</td>\n      <td>Kansas City, KS</td>\n      <td>Mountain</td>\n      <td>Trail</td>\n      <td>Aluminum</td>\n      <td>Kansas City</td>\n      <td>KS</td>\n    </tr>\n    <tr>\n      <th>3</th>\n      <td>2</td>\n      <td>2</td>\n      <td>2011-01-10</td>\n      <td>10</td>\n      <td>52</td>\n      <td>1</td>\n      <td>52</td>\n      <td>Trigger Carbon 2</td>\n      <td>Mountain - Over Mountain - Carbon</td>\n      <td>5970</td>\n      <td>10</td>\n      <td>Kansas City 29ers</td>\n      <td>Kansas City, KS</td>\n      <td>Mountain</td>\n      <td>Over Mountain</td>\n      <td>Carbon</td>\n      <td>Kansas City</td>\n      <td>KS</td>\n    </tr>\n    <tr>\n      <th>4</th>\n      <td>3</td>\n      <td>1</td>\n      <td>2011-01-10</td>\n      <td>6</td>\n      <td>2</td>\n      <td>1</td>\n      <td>2</td>\n      <td>Supersix Evo Hi-Mod Team</td>\n      <td>Road - Elite Road - Carbon</td>\n      <td>10660</td>\n      <td>6</td>\n      <td>Louisville Race Equipment</td>\n      <td>Louisville, KY</td>\n      <td>Road</td>\n      <td>Elite Road</td>\n      <td>Carbon</td>\n      <td>Louisville</td>\n      <td>KY</td>\n    </tr>\n    <tr>\n      <th>...</th>\n      <td>...</td>\n      <td>...</td>\n      <td>...</td>\n      <td>...</td>\n      <td>...</td>\n      <td>...</td>\n      <td>...</td>\n      <td>...</td>\n      <td>...</td>\n      <td>...</td>\n      <td>...</td>\n      <td>...</td>\n      <td>...</td>\n      <td>...</td>\n      <td>...</td>\n      <td>...</td>\n      <td>...</td>\n      <td>...</td>\n    </tr>\n    <tr>\n      <th>15639</th>\n      <td>2000</td>\n      <td>4</td>\n      <td>2015-12-25</td>\n      <td>15</td>\n      <td>14</td>\n      <td>1</td>\n      <td>14</td>\n      <td>CAAD Disc Ultegra</td>\n      <td>Road - Elite Road - Aluminum</td>\n      <td>2660</td>\n      <td>15</td>\n      <td>Austin Cruisers</td>\n      <td>Austin, TX</td>\n      <td>Road</td>\n      <td>Elite Road</td>\n      <td>Aluminum</td>\n      <td>Austin</td>\n      <td>TX</td>\n    </tr>\n    <tr>\n      <th>15640</th>\n      <td>2000</td>\n      <td>5</td>\n      <td>2015-12-25</td>\n      <td>15</td>\n      <td>90</td>\n      <td>1</td>\n      <td>90</td>\n      <td>Trail 2</td>\n      <td>Mountain - Sport - Aluminum</td>\n      <td>1350</td>\n      <td>15</td>\n      <td>Austin Cruisers</td>\n      <td>Austin, TX</td>\n      <td>Mountain</td>\n      <td>Sport</td>\n      <td>Aluminum</td>\n      <td>Austin</td>\n      <td>TX</td>\n    </tr>\n    <tr>\n      <th>15641</th>\n      <td>2000</td>\n      <td>6</td>\n      <td>2015-12-25</td>\n      <td>15</td>\n      <td>17</td>\n      <td>1</td>\n      <td>17</td>\n      <td>CAAD12 105</td>\n      <td>Road - Elite Road - Aluminum</td>\n      <td>1680</td>\n      <td>15</td>\n      <td>Austin Cruisers</td>\n      <td>Austin, TX</td>\n      <td>Road</td>\n      <td>Elite Road</td>\n      <td>Aluminum</td>\n      <td>Austin</td>\n      <td>TX</td>\n    </tr>\n    <tr>\n      <th>15642</th>\n      <td>2000</td>\n      <td>7</td>\n      <td>2015-12-25</td>\n      <td>15</td>\n      <td>70</td>\n      <td>1</td>\n      <td>70</td>\n      <td>F-Si Carbon 4</td>\n      <td>Mountain - Cross Country Race - Carbon</td>\n      <td>2880</td>\n      <td>15</td>\n      <td>Austin Cruisers</td>\n      <td>Austin, TX</td>\n      <td>Mountain</td>\n      <td>Cross Country Race</td>\n      <td>Carbon</td>\n      <td>Austin</td>\n      <td>TX</td>\n    </tr>\n    <tr>\n      <th>15643</th>\n      <td>2000</td>\n      <td>8</td>\n      <td>2015-12-25</td>\n      <td>15</td>\n      <td>61</td>\n      <td>1</td>\n      <td>61</td>\n      <td>Scalpel-Si 5</td>\n      <td>Mountain - Cross Country Race - Aluminum</td>\n      <td>3200</td>\n      <td>15</td>\n      <td>Austin Cruisers</td>\n      <td>Austin, TX</td>\n      <td>Mountain</td>\n      <td>Cross Country Race</td>\n      <td>Aluminum</td>\n      <td>Austin</td>\n      <td>TX</td>\n    </tr>\n  </tbody>\n</table>\n<p>15644 rows × 18 columns</p>\n</div>"
     },
     "metadata": {},
     "execution_count": 26
    }
   ],
   "source": [
    "df2['city'] = temp_df[0]\n",
    "df2['state'] = temp_df[1]\n",
    "df2"
   ]
  },
  {
   "source": [
    "## 5.3 mutate出新 column: total.price"
   ],
   "cell_type": "markdown",
   "metadata": {}
  },
  {
   "source": [
    "* 原始資料中，有 `quantity`, 也有 `price` ，所以我想計算出 total.price"
   ],
   "cell_type": "markdown",
   "metadata": {}
  },
  {
   "cell_type": "code",
   "execution_count": 27,
   "metadata": {},
   "outputs": [
    {
     "output_type": "execute_result",
     "data": {
      "text/html": "<div>\n<style scoped>\n    .dataframe tbody tr th:only-of-type {\n        vertical-align: middle;\n    }\n\n    .dataframe tbody tr th {\n        vertical-align: top;\n    }\n\n    .dataframe thead th {\n        text-align: right;\n    }\n</style>\n<table border=\"1\" class=\"dataframe\">\n  <thead>\n    <tr style=\"text-align: right;\">\n      <th></th>\n      <th>order.id</th>\n      <th>order.line</th>\n      <th>order.date</th>\n      <th>customer.id</th>\n      <th>product.id</th>\n      <th>quantity</th>\n      <th>bike.id</th>\n      <th>model</th>\n      <th>description</th>\n      <th>price</th>\n      <th>bikeshop.id</th>\n      <th>bikeshop.name</th>\n      <th>location</th>\n      <th>category.1</th>\n      <th>category.2</th>\n      <th>frame.material</th>\n      <th>city</th>\n      <th>state</th>\n      <th>total.price</th>\n    </tr>\n  </thead>\n  <tbody>\n    <tr>\n      <th>0</th>\n      <td>1</td>\n      <td>1</td>\n      <td>2011-01-07</td>\n      <td>2</td>\n      <td>48</td>\n      <td>1</td>\n      <td>48</td>\n      <td>Jekyll Carbon 2</td>\n      <td>Mountain - Over Mountain - Carbon</td>\n      <td>6070</td>\n      <td>2</td>\n      <td>Ithaca Mountain Climbers</td>\n      <td>Ithaca, NY</td>\n      <td>Mountain</td>\n      <td>Over Mountain</td>\n      <td>Carbon</td>\n      <td>Ithaca</td>\n      <td>NY</td>\n      <td>6070</td>\n    </tr>\n    <tr>\n      <th>1</th>\n      <td>1</td>\n      <td>2</td>\n      <td>2011-01-07</td>\n      <td>2</td>\n      <td>52</td>\n      <td>1</td>\n      <td>52</td>\n      <td>Trigger Carbon 2</td>\n      <td>Mountain - Over Mountain - Carbon</td>\n      <td>5970</td>\n      <td>2</td>\n      <td>Ithaca Mountain Climbers</td>\n      <td>Ithaca, NY</td>\n      <td>Mountain</td>\n      <td>Over Mountain</td>\n      <td>Carbon</td>\n      <td>Ithaca</td>\n      <td>NY</td>\n      <td>5970</td>\n    </tr>\n    <tr>\n      <th>2</th>\n      <td>2</td>\n      <td>1</td>\n      <td>2011-01-10</td>\n      <td>10</td>\n      <td>76</td>\n      <td>1</td>\n      <td>76</td>\n      <td>Beast of the East 1</td>\n      <td>Mountain - Trail - Aluminum</td>\n      <td>2770</td>\n      <td>10</td>\n      <td>Kansas City 29ers</td>\n      <td>Kansas City, KS</td>\n      <td>Mountain</td>\n      <td>Trail</td>\n      <td>Aluminum</td>\n      <td>Kansas City</td>\n      <td>KS</td>\n      <td>2770</td>\n    </tr>\n    <tr>\n      <th>3</th>\n      <td>2</td>\n      <td>2</td>\n      <td>2011-01-10</td>\n      <td>10</td>\n      <td>52</td>\n      <td>1</td>\n      <td>52</td>\n      <td>Trigger Carbon 2</td>\n      <td>Mountain - Over Mountain - Carbon</td>\n      <td>5970</td>\n      <td>10</td>\n      <td>Kansas City 29ers</td>\n      <td>Kansas City, KS</td>\n      <td>Mountain</td>\n      <td>Over Mountain</td>\n      <td>Carbon</td>\n      <td>Kansas City</td>\n      <td>KS</td>\n      <td>5970</td>\n    </tr>\n    <tr>\n      <th>4</th>\n      <td>3</td>\n      <td>1</td>\n      <td>2011-01-10</td>\n      <td>6</td>\n      <td>2</td>\n      <td>1</td>\n      <td>2</td>\n      <td>Supersix Evo Hi-Mod Team</td>\n      <td>Road - Elite Road - Carbon</td>\n      <td>10660</td>\n      <td>6</td>\n      <td>Louisville Race Equipment</td>\n      <td>Louisville, KY</td>\n      <td>Road</td>\n      <td>Elite Road</td>\n      <td>Carbon</td>\n      <td>Louisville</td>\n      <td>KY</td>\n      <td>10660</td>\n    </tr>\n  </tbody>\n</table>\n</div>"
     },
     "metadata": {},
     "execution_count": 27
    }
   ],
   "source": [
    "df2['total.price'] = df2['quantity']*df2['price']\n",
    "df2.head(5)"
   ]
  },
  {
   "source": [
    "## 5.4 重新排列欄位順序"
   ],
   "cell_type": "markdown",
   "metadata": {}
  },
  {
   "source": [
    "* 在 R 裡面，是用 `select(data, var1, var3, var2,...)` 來排順序  \n",
    "* 在 pandas 中，就是用 `data[['var1', 'var3', 'var2']]` 來排順序  \n",
    "* 所以，作法蠻暴力的：  \n",
    "  * 先用 `data.columns` ，在 console 中 print 出所有欄位名稱  \n",
    "  * 剪下貼上到 script 上，自己排順序，排完後存成一個 list  \n",
    "  * 最後用 `data[排好的list物件]` 來完成  \n",
    "* 做做看吧：  "
   ],
   "cell_type": "markdown",
   "metadata": {}
  },
  {
   "cell_type": "code",
   "execution_count": 29,
   "metadata": {},
   "outputs": [
    {
     "output_type": "display_data",
     "data": {
      "text/plain": "\u001b[1;35mIndex\u001b[0m\u001b[1m(\u001b[0m\u001b[1m[\u001b[0m\u001b[32m'order.id'\u001b[0m, \u001b[32m'order.line'\u001b[0m, \u001b[32m'order.date'\u001b[0m, \u001b[32m'customer.id'\u001b[0m, \u001b[32m'product.id'\u001b[0m,\n       \u001b[32m'quantity'\u001b[0m, \u001b[32m'bike.id'\u001b[0m, \u001b[32m'model'\u001b[0m, \u001b[32m'description'\u001b[0m, \u001b[32m'price'\u001b[0m, \u001b[32m'bikeshop.id'\u001b[0m,\n       \u001b[32m'bikeshop.name'\u001b[0m, \u001b[32m'location'\u001b[0m, \u001b[32m'category.1'\u001b[0m, \u001b[32m'category.2'\u001b[0m,\n       \u001b[32m'frame.material'\u001b[0m, \u001b[32m'city'\u001b[0m, \u001b[32m'state'\u001b[0m, \u001b[32m'total.price'\u001b[0m\u001b[1m]\u001b[0m,\n      \u001b[33mdtype\u001b[0m=\u001b[32m'object'\u001b[0m\u001b[1m)\u001b[0m\n",
      "text/html": "<pre style=\"white-space:pre;overflow-x:auto;line-height:normal;font-family:Menlo,'DejaVu Sans Mono',consolas,'Courier New',monospace\"><span style=\"color: #800080; text-decoration-color: #800080; font-weight: bold\">Index</span><span style=\"font-weight: bold\">([</span><span style=\"color: #008000; text-decoration-color: #008000\">'order.id'</span>, <span style=\"color: #008000; text-decoration-color: #008000\">'order.line'</span>, <span style=\"color: #008000; text-decoration-color: #008000\">'order.date'</span>, <span style=\"color: #008000; text-decoration-color: #008000\">'customer.id'</span>, <span style=\"color: #008000; text-decoration-color: #008000\">'product.id'</span>,\n       <span style=\"color: #008000; text-decoration-color: #008000\">'quantity'</span>, <span style=\"color: #008000; text-decoration-color: #008000\">'bike.id'</span>, <span style=\"color: #008000; text-decoration-color: #008000\">'model'</span>, <span style=\"color: #008000; text-decoration-color: #008000\">'description'</span>, <span style=\"color: #008000; text-decoration-color: #008000\">'price'</span>, <span style=\"color: #008000; text-decoration-color: #008000\">'bikeshop.id'</span>,\n       <span style=\"color: #008000; text-decoration-color: #008000\">'bikeshop.name'</span>, <span style=\"color: #008000; text-decoration-color: #008000\">'location'</span>, <span style=\"color: #008000; text-decoration-color: #008000\">'category.1'</span>, <span style=\"color: #008000; text-decoration-color: #008000\">'category.2'</span>,\n       <span style=\"color: #008000; text-decoration-color: #008000\">'frame.material'</span>, <span style=\"color: #008000; text-decoration-color: #008000\">'city'</span>, <span style=\"color: #008000; text-decoration-color: #008000\">'state'</span>, <span style=\"color: #008000; text-decoration-color: #008000\">'total.price'</span><span style=\"font-weight: bold\">]</span>,\n      <span style=\"color: #808000; text-decoration-color: #808000\">dtype</span>=<span style=\"color: #008000; text-decoration-color: #008000\">'object'</span><span style=\"font-weight: bold\">)</span>\n</pre>\n"
     },
     "metadata": {}
    }
   ],
   "source": [
    "df2.columns"
   ]
  },
  {
   "cell_type": "code",
   "execution_count": 31,
   "metadata": {},
   "outputs": [
    {
     "output_type": "execute_result",
     "data": {
      "text/html": "<div>\n<style scoped>\n    .dataframe tbody tr th:only-of-type {\n        vertical-align: middle;\n    }\n\n    .dataframe tbody tr th {\n        vertical-align: top;\n    }\n\n    .dataframe thead th {\n        text-align: right;\n    }\n</style>\n<table border=\"1\" class=\"dataframe\">\n  <thead>\n    <tr style=\"text-align: right;\">\n      <th></th>\n      <th>order.id</th>\n      <th>order.line</th>\n      <th>order.date</th>\n      <th>model</th>\n      <th>price</th>\n      <th>total.price</th>\n      <th>bikeshop.name</th>\n      <th>location</th>\n      <th>category.1</th>\n      <th>category.2</th>\n      <th>frame.material</th>\n      <th>city</th>\n      <th>state</th>\n    </tr>\n  </thead>\n  <tbody>\n    <tr>\n      <th>0</th>\n      <td>1</td>\n      <td>1</td>\n      <td>2011-01-07</td>\n      <td>Jekyll Carbon 2</td>\n      <td>6070</td>\n      <td>6070</td>\n      <td>Ithaca Mountain Climbers</td>\n      <td>Ithaca, NY</td>\n      <td>Mountain</td>\n      <td>Over Mountain</td>\n      <td>Carbon</td>\n      <td>Ithaca</td>\n      <td>NY</td>\n    </tr>\n    <tr>\n      <th>1</th>\n      <td>1</td>\n      <td>2</td>\n      <td>2011-01-07</td>\n      <td>Trigger Carbon 2</td>\n      <td>5970</td>\n      <td>5970</td>\n      <td>Ithaca Mountain Climbers</td>\n      <td>Ithaca, NY</td>\n      <td>Mountain</td>\n      <td>Over Mountain</td>\n      <td>Carbon</td>\n      <td>Ithaca</td>\n      <td>NY</td>\n    </tr>\n    <tr>\n      <th>2</th>\n      <td>2</td>\n      <td>1</td>\n      <td>2011-01-10</td>\n      <td>Beast of the East 1</td>\n      <td>2770</td>\n      <td>2770</td>\n      <td>Kansas City 29ers</td>\n      <td>Kansas City, KS</td>\n      <td>Mountain</td>\n      <td>Trail</td>\n      <td>Aluminum</td>\n      <td>Kansas City</td>\n      <td>KS</td>\n    </tr>\n    <tr>\n      <th>3</th>\n      <td>2</td>\n      <td>2</td>\n      <td>2011-01-10</td>\n      <td>Trigger Carbon 2</td>\n      <td>5970</td>\n      <td>5970</td>\n      <td>Kansas City 29ers</td>\n      <td>Kansas City, KS</td>\n      <td>Mountain</td>\n      <td>Over Mountain</td>\n      <td>Carbon</td>\n      <td>Kansas City</td>\n      <td>KS</td>\n    </tr>\n    <tr>\n      <th>4</th>\n      <td>3</td>\n      <td>1</td>\n      <td>2011-01-10</td>\n      <td>Supersix Evo Hi-Mod Team</td>\n      <td>10660</td>\n      <td>10660</td>\n      <td>Louisville Race Equipment</td>\n      <td>Louisville, KY</td>\n      <td>Road</td>\n      <td>Elite Road</td>\n      <td>Carbon</td>\n      <td>Louisville</td>\n      <td>KY</td>\n    </tr>\n  </tbody>\n</table>\n</div>"
     },
     "metadata": {},
     "execution_count": 31
    }
   ],
   "source": [
    "cols_to_keep_list = [\n",
    "    'order.id', \n",
    "    'order.line', \n",
    "    'order.date', \n",
    "    # 'customer.id', \n",
    "    # 'product.id',\n",
    "    # 'quantity', \n",
    "    # 'bike.id', \n",
    "    'model', \n",
    "    # 'description', \n",
    "    'price', \n",
    "    'total.price',\n",
    "    # 'bikeshop.id',\n",
    "    'bikeshop.name', \n",
    "    'location', \n",
    "    'category.1', \n",
    "    'category.2',\n",
    "    'frame.material', \n",
    "    'city', \n",
    "    'state'\n",
    "]\n",
    "df2[cols_to_keep_list].head(5)"
   ]
  },
  {
   "source": [
    "## 5.5 Renaming columns"
   ],
   "cell_type": "markdown",
   "metadata": {}
  },
  {
   "source": [
    "* 我們其實很不喜歡 column name 中有 '.'，例如 `order.date`  \n",
    "* 因為這樣在物件導向中，會以為你要用 attribute/method  \n",
    "* 所以，我想把所有的 '.' 都換成 '_'  \n",
    "* 在字串中，我們可以用 `.replace()` 來處理，例如："
   ],
   "cell_type": "markdown",
   "metadata": {}
  },
  {
   "cell_type": "code",
   "execution_count": 33,
   "metadata": {},
   "outputs": [
    {
     "output_type": "display_data",
     "data": {
      "text/plain": "\u001b[32m'order_id'\u001b[0m\n",
      "text/html": "<pre style=\"white-space:pre;overflow-x:auto;line-height:normal;font-family:Menlo,'DejaVu Sans Mono',consolas,'Courier New',monospace\"><span style=\"color: #008000; text-decoration-color: #008000\">'order_id'</span>\n</pre>\n"
     },
     "metadata": {}
    }
   ],
   "source": [
    "\"order.id\".replace(\".\",\"_\")"
   ]
  },
  {
   "source": [
    "* 那要用在 pandas dataframe 上，就一樣，先給他 `.str` ，表示進入到 string 的 attribute 中，接著再用 `.replace()` 就好"
   ],
   "cell_type": "markdown",
   "metadata": {}
  },
  {
   "cell_type": "code",
   "execution_count": 34,
   "metadata": {},
   "outputs": [
    {
     "output_type": "stream",
     "name": "stdout",
     "text": [
      "Index(['order.id', 'order.line', 'order.date', 'customer.id', 'product.id',\n       'quantity', 'bike.id', 'model', 'description', 'price', 'bikeshop.id',\n       'bikeshop.name', 'location', 'category.1', 'category.2',\n       'frame.material', 'city', 'state', 'total.price'],\n      dtype='object')\nIndex(['order_id', 'order_line', 'order_date', 'customer_id', 'product_id',\n       'quantity', 'bike_id', 'model', 'description', 'price', 'bikeshop_id',\n       'bikeshop_name', 'location', 'category_1', 'category_2',\n       'frame_material', 'city', 'state', 'total_price'],\n      dtype='object')\n"
     ]
    }
   ],
   "source": [
    "print(df2.columns) # 原本的名稱\n",
    "print(df2.columns.str.replace(\".\",\"_\")) # 轉換後名稱"
   ]
  },
  {
   "source": [
    "* 最後，就把這個名稱塞回去原本的 df 就好："
   ],
   "cell_type": "markdown",
   "metadata": {}
  },
  {
   "cell_type": "code",
   "execution_count": 9,
   "metadata": {},
   "outputs": [
    {
     "output_type": "error",
     "ename": "NameError",
     "evalue": "name 'df2' is not defined",
     "traceback": [
      "\u001b[0;31m---------------------------------------------------------------------------\u001b[0m",
      "\u001b[0;31mNameError\u001b[0m                                 Traceback (most recent call last)",
      "\u001b[0;32m<ipython-input-9-2068723f1203>\u001b[0m in \u001b[0;36m<module>\u001b[0;34m\u001b[0m\n\u001b[0;32m----> 1\u001b[0;31m \u001b[0mdf2\u001b[0m\u001b[0;34m\u001b[0m\u001b[0;34m\u001b[0m\u001b[0m\n\u001b[0m",
      "\u001b[0;31mNameError\u001b[0m: name 'df2' is not defined"
     ]
    }
   ],
   "source": [
    "df2"
   ]
  },
  {
   "cell_type": "code",
   "execution_count": 8,
   "metadata": {},
   "outputs": [
    {
     "output_type": "error",
     "ename": "NameError",
     "evalue": "name 'df2' is not defined",
     "traceback": [
      "\u001b[0;31m---------------------------------------------------------------------------\u001b[0m",
      "\u001b[0;31mNameError\u001b[0m                                 Traceback (most recent call last)",
      "\u001b[0;32m<ipython-input-8-282dc6529cb4>\u001b[0m in \u001b[0;36m<module>\u001b[0;34m\u001b[0m\n\u001b[0;32m----> 1\u001b[0;31m \u001b[0mdf2\u001b[0m\u001b[0;34m.\u001b[0m\u001b[0mcolumns\u001b[0m \u001b[0;34m=\u001b[0m \u001b[0mdf2\u001b[0m\u001b[0;34m.\u001b[0m\u001b[0mcolumns\u001b[0m\u001b[0;34m.\u001b[0m\u001b[0mstr\u001b[0m\u001b[0;34m.\u001b[0m\u001b[0mreplace\u001b[0m\u001b[0;34m(\u001b[0m\u001b[0;34m\".\"\u001b[0m\u001b[0;34m,\u001b[0m\u001b[0;34m\"_\"\u001b[0m\u001b[0;34m)\u001b[0m\u001b[0;34m\u001b[0m\u001b[0;34m\u001b[0m\u001b[0m\n\u001b[0m\u001b[1;32m      2\u001b[0m \u001b[0mprint\u001b[0m\u001b[0;34m(\u001b[0m\u001b[0mdf2\u001b[0m\u001b[0;34m.\u001b[0m\u001b[0mcolumns\u001b[0m\u001b[0;34m)\u001b[0m\u001b[0;34m\u001b[0m\u001b[0;34m\u001b[0m\u001b[0m\n",
      "\u001b[0;31mNameError\u001b[0m: name 'df2' is not defined"
     ]
    }
   ],
   "source": [
    "df2.columns = df2.columns.str.replace(\".\",\"_\")\n",
    "print(df2.columns)"
   ]
  },
  {
   "source": [
    "# 6. Save your work: pickle it!!"
   ],
   "cell_type": "markdown",
   "metadata": {}
  },
  {
   "source": [
    "* 剛剛辛苦的整理完資料了，那習慣上就會把這筆資料存起來，之後就可以直接從乾淨的資料開始分析和畫圖  "
   ],
   "cell_type": "markdown",
   "metadata": {}
  },
  {
   "cell_type": "code",
   "execution_count": 5,
   "metadata": {},
   "outputs": [
    {
     "output_type": "error",
     "ename": "NameError",
     "evalue": "name 'df2' is not defined",
     "traceback": [
      "\u001b[0;31m---------------------------------------------------------------------------\u001b[0m",
      "\u001b[0;31mNameError\u001b[0m                                 Traceback (most recent call last)",
      "\u001b[0;32m<ipython-input-5-d2b8af5b7d5d>\u001b[0m in \u001b[0;36m<module>\u001b[0;34m\u001b[0m\n\u001b[0;32m----> 1\u001b[0;31m \u001b[0mbike_orderlines_wrangle_df\u001b[0m \u001b[0;34m=\u001b[0m \u001b[0mdf2\u001b[0m\u001b[0;34m\u001b[0m\u001b[0;34m\u001b[0m\u001b[0m\n\u001b[0m",
      "\u001b[0;31mNameError\u001b[0m: name 'df2' is not defined"
     ]
    }
   ],
   "source": [
    "bike_orderlines_wrangle_df = df2\n",
    "# bike_orderlines_wrangle_df.save_pickle(\"00_data_wrangled/bike_orderlines_wrangled_df.pkl\")"
   ]
  },
  {
   "cell_type": "code",
   "execution_count": 3,
   "metadata": {},
   "outputs": [
    {
     "output_type": "display_data",
     "data": {
      "text/plain": "\u001b[32m'/Volumes/GoogleDrive/我的雲端硬碟/0. codepool_python/DS4B_101P_Course'\u001b[0m\n",
      "text/html": "<pre style=\"white-space:pre;overflow-x:auto;line-height:normal;font-family:Menlo,'DejaVu Sans Mono',consolas,'Courier New',monospace\"><span style=\"color: #008000; text-decoration-color: #008000\">'/Volumes/GoogleDrive/我的雲端硬碟/0. codepool_python/DS4B_101P_Course'</span>\n</pre>\n"
     },
     "metadata": {}
    }
   ],
   "source": [
    "getcwd()"
   ]
  },
  {
   "source": [
    "# 7. Sales Analysis "
   ],
   "cell_type": "markdown",
   "metadata": {}
  },
  {
   "cell_type": "code",
   "execution_count": 4,
   "metadata": {},
   "outputs": [],
   "source": [
    "df = pd.read_pickle(\"00_data_wrangled/bike_orderlines_wrangled_df.pkl\")"
   ]
  },
  {
   "cell_type": "code",
   "execution_count": null,
   "metadata": {},
   "outputs": [],
   "source": []
  }
 ]
}