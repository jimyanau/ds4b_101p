{
 "cells": [
  {
   "cell_type": "code",
   "execution_count": null,
   "metadata": {},
   "outputs": [],
   "source": []
  },
  {
   "cell_type": "markdown",
   "metadata": {},
   "source": [
    "# 1. Load Libraries  "
   ]
  },
  {
   "cell_type": "code",
   "execution_count": 95,
   "metadata": {},
   "outputs": [
    {
     "data": {
      "text/html": [
       "<pre style=\"white-space:pre;overflow-x:auto;line-height:normal;font-family:Menlo,'DejaVu Sans Mono',consolas,'Courier New',monospace\"><span style=\"color: #008080; text-decoration-color: #008080; font-weight: bold\">6</span>\n",
       "</pre>\n"
      ],
      "text/plain": [
       "\u001b[1;36m6\u001b[0m\n"
      ]
     },
     "metadata": {},
     "output_type": "display_data"
    }
   ],
   "source": [
    "\n",
    "# Core Python Data Analysis\n",
    "import pandas as pd\n",
    "import numpy as np\n",
    "import matplotlib.pyplot as plt\n",
    "\n",
    "# Plotting\n",
    "from plotnine import (  # python很常只import你要的function，不會import整個package\n",
    "    ggplot, aes, geom_col,\n",
    "    geom_col, geom_line, geom_smooth,\n",
    "    facet_wrap,\n",
    "    scale_y_continuous,\n",
    "    scale_x_datetime,\n",
    "    labs,\n",
    "    expand_limits,\n",
    "    element_text,\n",
    "    theme, theme_minimal, theme_matplotlib\n",
    ")\n",
    "from mizani.breaks import date_breaks\n",
    "from mizani.formatters import date_format, currency_format\n",
    "\n",
    "# Misc\n",
    "from os import mkdir, getcwd  # mkder是os的一個function(意思是，我不能再用mkdir.xxx)\n",
    "# pretty 是 rich 下的一個 module。他叫module不叫function，因為他還可以用 pretty.xxx\n",
    "from rich import pretty\n",
    "pretty.install()  # 這只會影響目前 python console 的結果，他沒有真的安裝什麼東西\n",
    "# rich這個package是用來做terminal formatting用的，讓terminal變漂亮一點\n",
    "# 例如我現在重新執行 numpy 的計算，會發現結果的顏色變藍色，比較能區分 code 和 result 了\n",
    "np.sum([1, 2, 3])"
   ]
  },
  {
   "cell_type": "markdown",
   "metadata": {},
   "source": [
    "# 2. Importing Data Files"
   ]
  },
  {
   "cell_type": "code",
   "execution_count": 2,
   "metadata": {},
   "outputs": [],
   "source": [
    "bikes_df = pd.read_excel(\"./00_data_raw/bikes.xlsx\", engine='openpyxl')\n",
    "bikeshops_df = pd.read_excel(\"./00_data_raw/bikeshops.xlsx\", engine='openpyxl')\n",
    "orderlines_df = pd.read_excel(\n",
    "    io = \"./00_data_raw/orderlines2.xlsx\",\n",
    "    engine='openpyxl',\n",
    "    converters={'order.date': str}\n",
    ")"
   ]
  },
  {
   "cell_type": "markdown",
   "metadata": {},
   "source": [
    "# 3. Examining Data"
   ]
  },
  {
   "cell_type": "markdown",
   "metadata": {},
   "source": [
    "## 3.1 看一下三張資料表"
   ]
  },
  {
   "cell_type": "markdown",
   "metadata": {},
   "source": [
    "* 首先來看看 `bikes_df` 這個資料集"
   ]
  },
  {
   "cell_type": "code",
   "execution_count": 3,
   "metadata": {},
   "outputs": [
    {
     "data": {
      "text/html": [
       "<div>\n",
       "<style scoped>\n",
       "    .dataframe tbody tr th:only-of-type {\n",
       "        vertical-align: middle;\n",
       "    }\n",
       "\n",
       "    .dataframe tbody tr th {\n",
       "        vertical-align: top;\n",
       "    }\n",
       "\n",
       "    .dataframe thead th {\n",
       "        text-align: right;\n",
       "    }\n",
       "</style>\n",
       "<table border=\"1\" class=\"dataframe\">\n",
       "  <thead>\n",
       "    <tr style=\"text-align: right;\">\n",
       "      <th></th>\n",
       "      <th>bike.id</th>\n",
       "      <th>model</th>\n",
       "      <th>description</th>\n",
       "      <th>price</th>\n",
       "    </tr>\n",
       "  </thead>\n",
       "  <tbody>\n",
       "    <tr>\n",
       "      <th>0</th>\n",
       "      <td>1</td>\n",
       "      <td>Supersix Evo Black Inc.</td>\n",
       "      <td>Road - Elite Road - Carbon</td>\n",
       "      <td>12790</td>\n",
       "    </tr>\n",
       "    <tr>\n",
       "      <th>1</th>\n",
       "      <td>2</td>\n",
       "      <td>Supersix Evo Hi-Mod Team</td>\n",
       "      <td>Road - Elite Road - Carbon</td>\n",
       "      <td>10660</td>\n",
       "    </tr>\n",
       "    <tr>\n",
       "      <th>2</th>\n",
       "      <td>3</td>\n",
       "      <td>Supersix Evo Hi-Mod Dura Ace 1</td>\n",
       "      <td>Road - Elite Road - Carbon</td>\n",
       "      <td>7990</td>\n",
       "    </tr>\n",
       "    <tr>\n",
       "      <th>3</th>\n",
       "      <td>4</td>\n",
       "      <td>Supersix Evo Hi-Mod Dura Ace 2</td>\n",
       "      <td>Road - Elite Road - Carbon</td>\n",
       "      <td>5330</td>\n",
       "    </tr>\n",
       "    <tr>\n",
       "      <th>4</th>\n",
       "      <td>5</td>\n",
       "      <td>Supersix Evo Hi-Mod Utegra</td>\n",
       "      <td>Road - Elite Road - Carbon</td>\n",
       "      <td>4260</td>\n",
       "    </tr>\n",
       "  </tbody>\n",
       "</table>\n",
       "</div>"
      ]
     },
     "execution_count": 3,
     "metadata": {},
     "output_type": "execute_result"
    }
   ],
   "source": [
    "bikes_df.head(5)"
   ]
  },
  {
   "cell_type": "markdown",
   "metadata": {},
   "source": [
    "* 可以看到，每一個 row 就是一台腳踏車，後續的欄位就是描述這台腳踏車的 機型(model), 介紹(description), 和價錢(price)"
   ]
  },
  {
   "cell_type": "markdown",
   "metadata": {},
   "source": [
    "* 再來看看 `bikeshops_df` 這個資料集"
   ]
  },
  {
   "cell_type": "code",
   "execution_count": 4,
   "metadata": {},
   "outputs": [
    {
     "data": {
      "text/html": [
       "<div>\n",
       "<style scoped>\n",
       "    .dataframe tbody tr th:only-of-type {\n",
       "        vertical-align: middle;\n",
       "    }\n",
       "\n",
       "    .dataframe tbody tr th {\n",
       "        vertical-align: top;\n",
       "    }\n",
       "\n",
       "    .dataframe thead th {\n",
       "        text-align: right;\n",
       "    }\n",
       "</style>\n",
       "<table border=\"1\" class=\"dataframe\">\n",
       "  <thead>\n",
       "    <tr style=\"text-align: right;\">\n",
       "      <th></th>\n",
       "      <th>bikeshop.id</th>\n",
       "      <th>bikeshop.name</th>\n",
       "      <th>location</th>\n",
       "    </tr>\n",
       "  </thead>\n",
       "  <tbody>\n",
       "    <tr>\n",
       "      <th>0</th>\n",
       "      <td>1</td>\n",
       "      <td>Pittsburgh Mountain Machines</td>\n",
       "      <td>Pittsburgh, PA</td>\n",
       "    </tr>\n",
       "    <tr>\n",
       "      <th>1</th>\n",
       "      <td>2</td>\n",
       "      <td>Ithaca Mountain Climbers</td>\n",
       "      <td>Ithaca, NY</td>\n",
       "    </tr>\n",
       "    <tr>\n",
       "      <th>2</th>\n",
       "      <td>3</td>\n",
       "      <td>Columbus Race Equipment</td>\n",
       "      <td>Columbus, OH</td>\n",
       "    </tr>\n",
       "    <tr>\n",
       "      <th>3</th>\n",
       "      <td>4</td>\n",
       "      <td>Detroit Cycles</td>\n",
       "      <td>Detroit, MI</td>\n",
       "    </tr>\n",
       "    <tr>\n",
       "      <th>4</th>\n",
       "      <td>5</td>\n",
       "      <td>Cincinnati Speed</td>\n",
       "      <td>Cincinnati, OH</td>\n",
       "    </tr>\n",
       "  </tbody>\n",
       "</table>\n",
       "</div>"
      ]
     },
     "execution_count": 4,
     "metadata": {},
     "output_type": "execute_result"
    }
   ],
   "source": [
    "bikeshops_df.head(5)"
   ]
  },
  {
   "cell_type": "markdown",
   "metadata": {},
   "source": [
    "* 可以看到，每一個 row 是一個腳踏車店，裡面有他的 id, 店名, 和 地址(location)"
   ]
  },
  {
   "cell_type": "markdown",
   "metadata": {},
   "source": [
    "* 最後，來看看 `orderlines_df`"
   ]
  },
  {
   "cell_type": "code",
   "execution_count": 5,
   "metadata": {},
   "outputs": [
    {
     "data": {
      "text/html": [
       "<div>\n",
       "<style scoped>\n",
       "    .dataframe tbody tr th:only-of-type {\n",
       "        vertical-align: middle;\n",
       "    }\n",
       "\n",
       "    .dataframe tbody tr th {\n",
       "        vertical-align: top;\n",
       "    }\n",
       "\n",
       "    .dataframe thead th {\n",
       "        text-align: right;\n",
       "    }\n",
       "</style>\n",
       "<table border=\"1\" class=\"dataframe\">\n",
       "  <thead>\n",
       "    <tr style=\"text-align: right;\">\n",
       "      <th></th>\n",
       "      <th>order.id</th>\n",
       "      <th>order.line</th>\n",
       "      <th>order.date</th>\n",
       "      <th>customer.id</th>\n",
       "      <th>product.id</th>\n",
       "      <th>quantity</th>\n",
       "    </tr>\n",
       "  </thead>\n",
       "  <tbody>\n",
       "    <tr>\n",
       "      <th>0</th>\n",
       "      <td>1</td>\n",
       "      <td>1</td>\n",
       "      <td>2011-01-07 00:00:00</td>\n",
       "      <td>2</td>\n",
       "      <td>48</td>\n",
       "      <td>1</td>\n",
       "    </tr>\n",
       "    <tr>\n",
       "      <th>1</th>\n",
       "      <td>1</td>\n",
       "      <td>2</td>\n",
       "      <td>2011-01-07 00:00:00</td>\n",
       "      <td>2</td>\n",
       "      <td>52</td>\n",
       "      <td>1</td>\n",
       "    </tr>\n",
       "    <tr>\n",
       "      <th>2</th>\n",
       "      <td>2</td>\n",
       "      <td>1</td>\n",
       "      <td>2011-01-10 00:00:00</td>\n",
       "      <td>10</td>\n",
       "      <td>76</td>\n",
       "      <td>1</td>\n",
       "    </tr>\n",
       "    <tr>\n",
       "      <th>3</th>\n",
       "      <td>2</td>\n",
       "      <td>2</td>\n",
       "      <td>2011-01-10 00:00:00</td>\n",
       "      <td>10</td>\n",
       "      <td>52</td>\n",
       "      <td>1</td>\n",
       "    </tr>\n",
       "    <tr>\n",
       "      <th>4</th>\n",
       "      <td>3</td>\n",
       "      <td>1</td>\n",
       "      <td>2011-01-10 00:00:00</td>\n",
       "      <td>6</td>\n",
       "      <td>2</td>\n",
       "      <td>1</td>\n",
       "    </tr>\n",
       "    <tr>\n",
       "      <th>5</th>\n",
       "      <td>3</td>\n",
       "      <td>2</td>\n",
       "      <td>2011-01-10 00:00:00</td>\n",
       "      <td>6</td>\n",
       "      <td>50</td>\n",
       "      <td>1</td>\n",
       "    </tr>\n",
       "    <tr>\n",
       "      <th>6</th>\n",
       "      <td>3</td>\n",
       "      <td>3</td>\n",
       "      <td>2011-01-10 00:00:00</td>\n",
       "      <td>6</td>\n",
       "      <td>1</td>\n",
       "      <td>1</td>\n",
       "    </tr>\n",
       "    <tr>\n",
       "      <th>7</th>\n",
       "      <td>3</td>\n",
       "      <td>4</td>\n",
       "      <td>2011-01-10 00:00:00</td>\n",
       "      <td>6</td>\n",
       "      <td>4</td>\n",
       "      <td>1</td>\n",
       "    </tr>\n",
       "    <tr>\n",
       "      <th>8</th>\n",
       "      <td>3</td>\n",
       "      <td>5</td>\n",
       "      <td>2011-01-10 00:00:00</td>\n",
       "      <td>6</td>\n",
       "      <td>34</td>\n",
       "      <td>1</td>\n",
       "    </tr>\n",
       "    <tr>\n",
       "      <th>9</th>\n",
       "      <td>4</td>\n",
       "      <td>1</td>\n",
       "      <td>2011-01-11 00:00:00</td>\n",
       "      <td>22</td>\n",
       "      <td>26</td>\n",
       "      <td>1</td>\n",
       "    </tr>\n",
       "  </tbody>\n",
       "</table>\n",
       "</div>"
      ]
     },
     "execution_count": 5,
     "metadata": {},
     "output_type": "execute_result"
    }
   ],
   "source": [
    "orderlines_df.head(10)"
   ]
  },
  {
   "cell_type": "markdown",
   "metadata": {},
   "source": [
    "* 這是在講腳踏車的下單狀況。\n",
    "* 倒數第二個column的 `product.id`對應到 `bikes_df` 這個資料表的 `bike.id`，所以是在講某一台腳踏車。  \n",
    "* 倒數第三個column的 `customer.id` 對應到 `bikeshops_df` 這個資料表的 `bikeshop.id`，所以是在哪一家腳踏車店做的訂購  \n",
    "* 所以合起來看，就是在某個時間(order.date)，我們賣給某家腳踏車行(customer.id)某個腳踏車(product.id)共多少台車(quantity)的資料"
   ]
  },
  {
   "cell_type": "markdown",
   "metadata": {},
   "source": [
    "## 3.2 Exploration"
   ]
  },
  {
   "cell_type": "markdown",
   "metadata": {},
   "source": [
    "### 3.2.1 最常出現的 5 種 description"
   ]
  },
  {
   "cell_type": "markdown",
   "metadata": {},
   "source": [
    "* 剛剛在 `bikes_df` 資料表中，每一台腳踏車，都有他的 description\n",
    "* 但我們也發現，不同腳踏車，常常會 share 同一個 description (例如前五台腳踏車，description都是 `Road - Elite Road - Carbon`) \n",
    "* 所以，對我來說，description 可能就是在幫腳踏車分群，告訴我們這是哪一種類型的腳踏車這樣  \n",
    "* 那我現在想來看看，最常出現的 5 種 description 是哪些 \n",
    "* 在 pandas 中會這樣做："
   ]
  },
  {
   "cell_type": "code",
   "execution_count": 6,
   "metadata": {},
   "outputs": [
    {
     "name": "stdout",
     "output_type": "stream",
     "text": [
      "0      Road - Elite Road - Carbon\n",
      "1      Road - Elite Road - Carbon\n",
      "2      Road - Elite Road - Carbon\n",
      "3      Road - Elite Road - Carbon\n",
      "4      Road - Elite Road - Carbon\n",
      "                 ...             \n",
      "92    Mountain - Sport - Aluminum\n",
      "93    Mountain - Sport - Aluminum\n",
      "94    Mountain - Sport - Aluminum\n",
      "95    Mountain - Sport - Aluminum\n",
      "96    Mountain - Sport - Aluminum\n",
      "Name: description, Length: 97, dtype: object\n"
     ]
    }
   ],
   "source": [
    "# 先取出那一個 column (在 pandas 中，這時的資料格式叫 series，不是 data.frame)\n",
    "s = bikes_df[\"description\"]\n",
    "print(s)"
   ]
  },
  {
   "cell_type": "code",
   "execution_count": 7,
   "metadata": {},
   "outputs": [
    {
     "name": "stdout",
     "output_type": "stream",
     "text": [
      "Mountain - Cross Country Race - Carbon      14\n",
      "Road - Endurance Road - Carbon              11\n",
      "Road - Elite Road - Aluminum                11\n",
      "Road - Elite Road - Carbon                  10\n",
      "Mountain - Sport - Aluminum                  9\n",
      "Mountain - Trail - Aluminum                  8\n",
      "Mountain - Over Mountain - Carbon            8\n",
      "Road - Endurance Road - Aluminum             5\n",
      "Mountain - Cross Country Race - Aluminum     5\n",
      "Mountain - Trail - Carbon                    5\n",
      "Road - Triathalon - Carbon                   5\n",
      "Road - Cyclocross - Carbon                   4\n",
      "Mountain - Fat Bike - Aluminum               2\n",
      "Name: description, dtype: int64\n"
     ]
    }
   ],
   "source": [
    "# 再對這個 object 做 `.value_counts()` 這個 method，可以得到次數分配表\n",
    "freq_count_series = s.value_counts()\n",
    "print(freq_count_series)"
   ]
  },
  {
   "cell_type": "code",
   "execution_count": 8,
   "metadata": {},
   "outputs": [
    {
     "name": "stdout",
     "output_type": "stream",
     "text": [
      "Mountain - Cross Country Race - Carbon    14\n",
      "Road - Endurance Road - Carbon            11\n",
      "Road - Elite Road - Aluminum              11\n",
      "Road - Elite Road - Carbon                10\n",
      "Mountain - Sport - Aluminum                9\n",
      "Name: description, dtype: int64\n"
     ]
    }
   ],
   "source": [
    "# 最後用 `.nlargest(5)`，篩選出前五名\n",
    "print(freq_count_series.nlargest(5))"
   ]
  },
  {
   "cell_type": "code",
   "execution_count": 9,
   "metadata": {},
   "outputs": [
    {
     "name": "stdout",
     "output_type": "stream",
     "text": [
      "Mountain - Cross Country Race - Carbon    14\n",
      "Road - Endurance Road - Carbon            11\n",
      "Road - Elite Road - Aluminum              11\n",
      "Road - Elite Road - Carbon                10\n",
      "Mountain - Sport - Aluminum                9\n",
      "Name: description, dtype: int64\n"
     ]
    }
   ],
   "source": [
    "# 那整個過程，可以用 `method chaining`把他串起來，也就是用一堆 \".\" 串起來\n",
    "top5_bikes_series = bikes_df['description'].value_counts().nlargest(5)\n",
    "print(top5_bikes_series)"
   ]
  },
  {
   "cell_type": "code",
   "execution_count": 10,
   "metadata": {},
   "outputs": [
    {
     "name": "stdout",
     "output_type": "stream",
     "text": [
      "Mountain - Cross Country Race - Carbon    14\n",
      "Road - Endurance Road - Carbon            11\n",
      "Road - Elite Road - Aluminum              11\n",
      "Road - Elite Road - Carbon                10\n",
      "Mountain - Sport - Aluminum                9\n",
      "Name: description, dtype: int64\n"
     ]
    }
   ],
   "source": [
    "# 也可以用 \"\\\" 加 enter 換行，製造出 pipeline 的效果\n",
    "top5_bikes_series = bikes_df['description'] \\\n",
    "    .value_counts() \\\n",
    "        .nlargest(5)\n",
    "print(top5_bikes_series)"
   ]
  },
  {
   "cell_type": "markdown",
   "metadata": {},
   "source": [
    "### 3.2.2 畫出最常出現的 5 個 description"
   ]
  },
  {
   "cell_type": "markdown",
   "metadata": {},
   "source": [
    "* 先查一下畫圖怎麼畫： `?pd.Series.plot()`  "
   ]
  },
  {
   "cell_type": "code",
   "execution_count": 11,
   "metadata": {},
   "outputs": [
    {
     "name": "stdout",
     "output_type": "stream",
     "text": [
      "\u001b[0;31mInit signature:\u001b[0m \u001b[0mpd\u001b[0m\u001b[0;34m.\u001b[0m\u001b[0mSeries\u001b[0m\u001b[0;34m.\u001b[0m\u001b[0mplot\u001b[0m\u001b[0;34m(\u001b[0m\u001b[0mdata\u001b[0m\u001b[0;34m)\u001b[0m\u001b[0;34m\u001b[0m\u001b[0;34m\u001b[0m\u001b[0m\n",
      "\u001b[0;31mDocstring:\u001b[0m     \n",
      "Make plots of Series or DataFrame.\n",
      "\n",
      "Uses the backend specified by the\n",
      "option ``plotting.backend``. By default, matplotlib is used.\n",
      "\n",
      "Parameters\n",
      "----------\n",
      "data : Series or DataFrame\n",
      "    The object for which the method is called.\n",
      "x : label or position, default None\n",
      "    Only used if data is a DataFrame.\n",
      "y : label, position or list of label, positions, default None\n",
      "    Allows plotting of one column versus another. Only used if data is a\n",
      "    DataFrame.\n",
      "kind : str\n",
      "    The kind of plot to produce:\n",
      "\n",
      "    - 'line' : line plot (default)\n",
      "    - 'bar' : vertical bar plot\n",
      "    - 'barh' : horizontal bar plot\n",
      "    - 'hist' : histogram\n",
      "    - 'box' : boxplot\n",
      "    - 'kde' : Kernel Density Estimation plot\n",
      "    - 'density' : same as 'kde'\n",
      "    - 'area' : area plot\n",
      "    - 'pie' : pie plot\n",
      "    - 'scatter' : scatter plot\n",
      "    - 'hexbin' : hexbin plot.\n",
      "ax : matplotlib axes object, default None\n",
      "    An axes of the current figure.\n",
      "subplots : bool, default False\n",
      "    Make separate subplots for each column.\n",
      "sharex : bool, default True if ax is None else False\n",
      "    In case ``subplots=True``, share x axis and set some x axis labels\n",
      "    to invisible; defaults to True if ax is None otherwise False if\n",
      "    an ax is passed in; Be aware, that passing in both an ax and\n",
      "    ``sharex=True`` will alter all x axis labels for all axis in a figure.\n",
      "sharey : bool, default False\n",
      "    In case ``subplots=True``, share y axis and set some y axis labels to invisible.\n",
      "layout : tuple, optional\n",
      "    (rows, columns) for the layout of subplots.\n",
      "figsize : a tuple (width, height) in inches\n",
      "    Size of a figure object.\n",
      "use_index : bool, default True\n",
      "    Use index as ticks for x axis.\n",
      "title : str or list\n",
      "    Title to use for the plot. If a string is passed, print the string\n",
      "    at the top of the figure. If a list is passed and `subplots` is\n",
      "    True, print each item in the list above the corresponding subplot.\n",
      "grid : bool, default None (matlab style default)\n",
      "    Axis grid lines.\n",
      "legend : bool or {'reverse'}\n",
      "    Place legend on axis subplots.\n",
      "style : list or dict\n",
      "    The matplotlib line style per column.\n",
      "logx : bool or 'sym', default False\n",
      "    Use log scaling or symlog scaling on x axis.\n",
      "    .. versionchanged:: 0.25.0\n",
      "\n",
      "logy : bool or 'sym' default False\n",
      "    Use log scaling or symlog scaling on y axis.\n",
      "    .. versionchanged:: 0.25.0\n",
      "\n",
      "loglog : bool or 'sym', default False\n",
      "    Use log scaling or symlog scaling on both x and y axes.\n",
      "    .. versionchanged:: 0.25.0\n",
      "\n",
      "xticks : sequence\n",
      "    Values to use for the xticks.\n",
      "yticks : sequence\n",
      "    Values to use for the yticks.\n",
      "xlim : 2-tuple/list\n",
      "    Set the x limits of the current axes.\n",
      "ylim : 2-tuple/list\n",
      "    Set the y limits of the current axes.\n",
      "xlabel : label, optional\n",
      "    Name to use for the xlabel on x-axis. Default uses index name as xlabel.\n",
      "\n",
      "    .. versionadded:: 1.1.0\n",
      "\n",
      "ylabel : label, optional\n",
      "    Name to use for the ylabel on y-axis. Default will show no ylabel.\n",
      "\n",
      "    .. versionadded:: 1.1.0\n",
      "\n",
      "rot : int, default None\n",
      "    Rotation for ticks (xticks for vertical, yticks for horizontal\n",
      "    plots).\n",
      "fontsize : int, default None\n",
      "    Font size for xticks and yticks.\n",
      "colormap : str or matplotlib colormap object, default None\n",
      "    Colormap to select colors from. If string, load colormap with that\n",
      "    name from matplotlib.\n",
      "colorbar : bool, optional\n",
      "    If True, plot colorbar (only relevant for 'scatter' and 'hexbin'\n",
      "    plots).\n",
      "position : float\n",
      "    Specify relative alignments for bar plot layout.\n",
      "    From 0 (left/bottom-end) to 1 (right/top-end). Default is 0.5\n",
      "    (center).\n",
      "table : bool, Series or DataFrame, default False\n",
      "    If True, draw a table using the data in the DataFrame and the data\n",
      "    will be transposed to meet matplotlib's default layout.\n",
      "    If a Series or DataFrame is passed, use passed data to draw a\n",
      "    table.\n",
      "yerr : DataFrame, Series, array-like, dict and str\n",
      "    See :ref:`Plotting with Error Bars <visualization.errorbars>` for\n",
      "    detail.\n",
      "xerr : DataFrame, Series, array-like, dict and str\n",
      "    Equivalent to yerr.\n",
      "stacked : bool, default False in line and bar plots, and True in area plot\n",
      "    If True, create stacked plot.\n",
      "sort_columns : bool, default False\n",
      "    Sort column names to determine plot ordering.\n",
      "secondary_y : bool or sequence, default False\n",
      "    Whether to plot on the secondary y-axis if a list/tuple, which\n",
      "    columns to plot on secondary y-axis.\n",
      "mark_right : bool, default True\n",
      "    When using a secondary_y axis, automatically mark the column\n",
      "    labels with \"(right)\" in the legend.\n",
      "include_bool : bool, default is False\n",
      "    If True, boolean values can be plotted.\n",
      "backend : str, default None\n",
      "    Backend to use instead of the backend specified in the option\n",
      "    ``plotting.backend``. For instance, 'matplotlib'. Alternatively, to\n",
      "    specify the ``plotting.backend`` for the whole session, set\n",
      "    ``pd.options.plotting.backend``.\n",
      "\n",
      "    .. versionadded:: 1.0.0\n",
      "\n",
      "**kwargs\n",
      "    Options to pass to matplotlib plotting method.\n",
      "\n",
      "Returns\n",
      "-------\n",
      ":class:`matplotlib.axes.Axes` or numpy.ndarray of them\n",
      "    If the backend is not the default matplotlib one, the return value\n",
      "    will be the object returned by the backend.\n",
      "\n",
      "Notes\n",
      "-----\n",
      "- See matplotlib documentation online for more on this subject\n",
      "- If `kind` = 'bar' or 'barh', you can specify relative alignments\n",
      "  for bar plot layout by `position` keyword.\n",
      "  From 0 (left/bottom-end) to 1 (right/top-end). Default is 0.5\n",
      "  (center)\n",
      "\u001b[0;31mFile:\u001b[0m           ~/.pyenv/versions/3.8.0/lib/python3.8/site-packages/pandas/plotting/_core.py\n",
      "\u001b[0;31mType:\u001b[0m           type\n",
      "\u001b[0;31mSubclasses:\u001b[0m     \n"
     ]
    }
   ],
   "source": [
    "?pd.Series.plot"
   ]
  },
  {
   "cell_type": "code",
   "execution_count": 12,
   "metadata": {},
   "outputs": [
    {
     "data": {
      "text/html": [
       "<pre style=\"white-space:pre;overflow-x:auto;line-height:normal;font-family:Menlo,'DejaVu Sans Mono',consolas,'Courier New',monospace\"><span style=\"font-weight: bold\">&lt;</span><span style=\"color: #ff00ff; text-decoration-color: #ff00ff; font-weight: bold\">AxesSubplot:</span><span style=\"font-weight: bold\">&gt;</span>\n",
       "</pre>\n"
      ],
      "text/plain": [
       "\u001b[1m<\u001b[0m\u001b[1;95mAxesSubplot:\u001b[0m\u001b[1m>\u001b[0m\n"
      ]
     },
     "metadata": {},
     "output_type": "display_data"
    },
    {
     "data": {
      "image/png": "[encoded data removed]"
     },
     "metadata": {
      "needs_background": "light"
     },
     "output_type": "display_data"
    }
   ],
   "source": [
    "fig = top5_bikes_series.plot(kind=\"barh\")\n",
    "fig"
   ]
  },
  {
   "cell_type": "markdown",
   "metadata": {},
   "source": [
    "# 4. Joing the excel tables"
   ]
  },
  {
   "cell_type": "markdown",
   "metadata": {},
   "source": [
    "* 剛剛已經知道，`orderlines_df` 這個資料集裡面的 `product.id` 對應到 `bikes_df` 資料集的 `product.id`\n",
    "* 也知道 `orderlines_df` 這個資料集裡面的 `customer.id` 對應到 `bikeshops_df` 資料集裡面的 `bikeshop.id`  \n",
    "* 那我們現在就以 `orderlines_df` 為底，然後把兩份資料 join 過來"
   ]
  },
  {
   "cell_type": "code",
   "execution_count": 13,
   "metadata": {},
   "outputs": [
    {
     "data": {
      "text/html": [
       "<div>\n",
       "<style scoped>\n",
       "    .dataframe tbody tr th:only-of-type {\n",
       "        vertical-align: middle;\n",
       "    }\n",
       "\n",
       "    .dataframe tbody tr th {\n",
       "        vertical-align: top;\n",
       "    }\n",
       "\n",
       "    .dataframe thead th {\n",
       "        text-align: right;\n",
       "    }\n",
       "</style>\n",
       "<table border=\"1\" class=\"dataframe\">\n",
       "  <thead>\n",
       "    <tr style=\"text-align: right;\">\n",
       "      <th></th>\n",
       "      <th>order.id</th>\n",
       "      <th>order.line</th>\n",
       "      <th>order.date</th>\n",
       "      <th>customer.id</th>\n",
       "      <th>product.id</th>\n",
       "      <th>quantity</th>\n",
       "      <th>bike.id</th>\n",
       "      <th>model</th>\n",
       "      <th>description</th>\n",
       "      <th>price</th>\n",
       "      <th>bikeshop.id</th>\n",
       "      <th>bikeshop.name</th>\n",
       "      <th>location</th>\n",
       "    </tr>\n",
       "  </thead>\n",
       "  <tbody>\n",
       "    <tr>\n",
       "      <th>0</th>\n",
       "      <td>1</td>\n",
       "      <td>1</td>\n",
       "      <td>2011-01-07 00:00:00</td>\n",
       "      <td>2</td>\n",
       "      <td>48</td>\n",
       "      <td>1</td>\n",
       "      <td>48</td>\n",
       "      <td>Jekyll Carbon 2</td>\n",
       "      <td>Mountain - Over Mountain - Carbon</td>\n",
       "      <td>6070</td>\n",
       "      <td>2</td>\n",
       "      <td>Ithaca Mountain Climbers</td>\n",
       "      <td>Ithaca, NY</td>\n",
       "    </tr>\n",
       "    <tr>\n",
       "      <th>1</th>\n",
       "      <td>1</td>\n",
       "      <td>2</td>\n",
       "      <td>2011-01-07 00:00:00</td>\n",
       "      <td>2</td>\n",
       "      <td>52</td>\n",
       "      <td>1</td>\n",
       "      <td>52</td>\n",
       "      <td>Trigger Carbon 2</td>\n",
       "      <td>Mountain - Over Mountain - Carbon</td>\n",
       "      <td>5970</td>\n",
       "      <td>2</td>\n",
       "      <td>Ithaca Mountain Climbers</td>\n",
       "      <td>Ithaca, NY</td>\n",
       "    </tr>\n",
       "    <tr>\n",
       "      <th>2</th>\n",
       "      <td>2</td>\n",
       "      <td>1</td>\n",
       "      <td>2011-01-10 00:00:00</td>\n",
       "      <td>10</td>\n",
       "      <td>76</td>\n",
       "      <td>1</td>\n",
       "      <td>76</td>\n",
       "      <td>Beast of the East 1</td>\n",
       "      <td>Mountain - Trail - Aluminum</td>\n",
       "      <td>2770</td>\n",
       "      <td>10</td>\n",
       "      <td>Kansas City 29ers</td>\n",
       "      <td>Kansas City, KS</td>\n",
       "    </tr>\n",
       "    <tr>\n",
       "      <th>3</th>\n",
       "      <td>2</td>\n",
       "      <td>2</td>\n",
       "      <td>2011-01-10 00:00:00</td>\n",
       "      <td>10</td>\n",
       "      <td>52</td>\n",
       "      <td>1</td>\n",
       "      <td>52</td>\n",
       "      <td>Trigger Carbon 2</td>\n",
       "      <td>Mountain - Over Mountain - Carbon</td>\n",
       "      <td>5970</td>\n",
       "      <td>10</td>\n",
       "      <td>Kansas City 29ers</td>\n",
       "      <td>Kansas City, KS</td>\n",
       "    </tr>\n",
       "    <tr>\n",
       "      <th>4</th>\n",
       "      <td>3</td>\n",
       "      <td>1</td>\n",
       "      <td>2011-01-10 00:00:00</td>\n",
       "      <td>6</td>\n",
       "      <td>2</td>\n",
       "      <td>1</td>\n",
       "      <td>2</td>\n",
       "      <td>Supersix Evo Hi-Mod Team</td>\n",
       "      <td>Road - Elite Road - Carbon</td>\n",
       "      <td>10660</td>\n",
       "      <td>6</td>\n",
       "      <td>Louisville Race Equipment</td>\n",
       "      <td>Louisville, KY</td>\n",
       "    </tr>\n",
       "    <tr>\n",
       "      <th>5</th>\n",
       "      <td>3</td>\n",
       "      <td>2</td>\n",
       "      <td>2011-01-10 00:00:00</td>\n",
       "      <td>6</td>\n",
       "      <td>50</td>\n",
       "      <td>1</td>\n",
       "      <td>50</td>\n",
       "      <td>Jekyll Carbon 4</td>\n",
       "      <td>Mountain - Over Mountain - Carbon</td>\n",
       "      <td>3200</td>\n",
       "      <td>6</td>\n",
       "      <td>Louisville Race Equipment</td>\n",
       "      <td>Louisville, KY</td>\n",
       "    </tr>\n",
       "    <tr>\n",
       "      <th>6</th>\n",
       "      <td>3</td>\n",
       "      <td>3</td>\n",
       "      <td>2011-01-10 00:00:00</td>\n",
       "      <td>6</td>\n",
       "      <td>1</td>\n",
       "      <td>1</td>\n",
       "      <td>1</td>\n",
       "      <td>Supersix Evo Black Inc.</td>\n",
       "      <td>Road - Elite Road - Carbon</td>\n",
       "      <td>12790</td>\n",
       "      <td>6</td>\n",
       "      <td>Louisville Race Equipment</td>\n",
       "      <td>Louisville, KY</td>\n",
       "    </tr>\n",
       "    <tr>\n",
       "      <th>7</th>\n",
       "      <td>3</td>\n",
       "      <td>4</td>\n",
       "      <td>2011-01-10 00:00:00</td>\n",
       "      <td>6</td>\n",
       "      <td>4</td>\n",
       "      <td>1</td>\n",
       "      <td>4</td>\n",
       "      <td>Supersix Evo Hi-Mod Dura Ace 2</td>\n",
       "      <td>Road - Elite Road - Carbon</td>\n",
       "      <td>5330</td>\n",
       "      <td>6</td>\n",
       "      <td>Louisville Race Equipment</td>\n",
       "      <td>Louisville, KY</td>\n",
       "    </tr>\n",
       "    <tr>\n",
       "      <th>8</th>\n",
       "      <td>3</td>\n",
       "      <td>5</td>\n",
       "      <td>2011-01-10 00:00:00</td>\n",
       "      <td>6</td>\n",
       "      <td>34</td>\n",
       "      <td>1</td>\n",
       "      <td>34</td>\n",
       "      <td>Synapse Disc 105</td>\n",
       "      <td>Road - Endurance Road - Aluminum</td>\n",
       "      <td>1570</td>\n",
       "      <td>6</td>\n",
       "      <td>Louisville Race Equipment</td>\n",
       "      <td>Louisville, KY</td>\n",
       "    </tr>\n",
       "    <tr>\n",
       "      <th>9</th>\n",
       "      <td>4</td>\n",
       "      <td>1</td>\n",
       "      <td>2011-01-11 00:00:00</td>\n",
       "      <td>22</td>\n",
       "      <td>26</td>\n",
       "      <td>1</td>\n",
       "      <td>26</td>\n",
       "      <td>Synapse Carbon Disc Ultegra D12</td>\n",
       "      <td>Road - Endurance Road - Carbon</td>\n",
       "      <td>4800</td>\n",
       "      <td>22</td>\n",
       "      <td>Ann Arbor Speed</td>\n",
       "      <td>Ann Arbor, MI</td>\n",
       "    </tr>\n",
       "  </tbody>\n",
       "</table>\n",
       "</div>"
      ]
     },
     "execution_count": 13,
     "metadata": {},
     "output_type": "execute_result"
    }
   ],
   "source": [
    "bike_orderlines_joined_df = orderlines_df \\\n",
    "    .merge(\n",
    "        right = bikes_df,\n",
    "        how = 'left', # left_join 的意思\n",
    "        left_on = 'product.id',\n",
    "        right_on = 'bike.id'\n",
    "    ) \\\n",
    "    .merge(\n",
    "        right = bikeshops_df,\n",
    "        how = 'left',\n",
    "        left_on = 'customer.id',\n",
    "        right_on = 'bikeshop.id'\n",
    "    )\n",
    "bike_orderlines_joined_df.head(10)"
   ]
  },
  {
   "cell_type": "markdown",
   "metadata": {},
   "source": [
    "# 5. Wrangling Data"
   ]
  },
  {
   "cell_type": "markdown",
   "metadata": {},
   "source": [
    "* 首先，我們來提醒一下 `.copy` 的用法"
   ]
  },
  {
   "cell_type": "code",
   "execution_count": 14,
   "metadata": {},
   "outputs": [],
   "source": [
    "df = bike_orderlines_joined_df # 如果 df 變了， bike_orderlines_joined_df 會跟著變，因為他們 reference 到同一個記憶體位置\n",
    "df2 = bike_orderlines_joined_df.copy() # 如果 df2 變了，bike_orderlines_joined_df 不會跟著變，因為你用 copy 時，他會開一個新的記憶體位置給 df2"
   ]
  },
  {
   "cell_type": "markdown",
   "metadata": {},
   "source": [
    "## 5.1 Handle Dates"
   ]
  },
  {
   "cell_type": "markdown",
   "metadata": {},
   "source": [
    "* 原本的資料， order.date 這個欄位的類型是 `object` (在這邊理解成 string 就好)，不是我期望的 datetime"
   ]
  },
  {
   "cell_type": "code",
   "execution_count": 15,
   "metadata": {},
   "outputs": [
    {
     "name": "stdout",
     "output_type": "stream",
     "text": [
      "0        2011-01-07 00:00:00\n",
      "1        2011-01-07 00:00:00\n",
      "2        2011-01-10 00:00:00\n",
      "3        2011-01-10 00:00:00\n",
      "4        2011-01-10 00:00:00\n",
      "                ...         \n",
      "15639    2015-12-25 00:00:00\n",
      "15640    2015-12-25 00:00:00\n",
      "15641    2015-12-25 00:00:00\n",
      "15642    2015-12-25 00:00:00\n",
      "15643    2015-12-25 00:00:00\n",
      "Name: order.date, Length: 15644, dtype: object\n"
     ]
    }
   ],
   "source": [
    "print(bike_orderlines_joined_df['order.date'])"
   ]
  },
  {
   "cell_type": "markdown",
   "metadata": {},
   "source": [
    "* 所以，我要對這欄作轉換"
   ]
  },
  {
   "cell_type": "code",
   "execution_count": 16,
   "metadata": {},
   "outputs": [
    {
     "name": "stdout",
     "output_type": "stream",
     "text": [
      "0       2011-01-07\n",
      "1       2011-01-07\n",
      "2       2011-01-10\n",
      "3       2011-01-10\n",
      "4       2011-01-10\n",
      "           ...    \n",
      "15639   2015-12-25\n",
      "15640   2015-12-25\n",
      "15641   2015-12-25\n",
      "15642   2015-12-25\n",
      "15643   2015-12-25\n",
      "Name: order.date, Length: 15644, dtype: datetime64[ns]\n"
     ]
    }
   ],
   "source": [
    "df2['order.date'] = pd.to_datetime(df2['order.date'])\n",
    "print(df2['order.date'])"
   ]
  },
  {
   "cell_type": "markdown",
   "metadata": {},
   "source": [
    "* 轉換後，就變成 `datetime64` 的格式了\n",
    "* 那 datetime 格式的好處是，他就有對應的 method, attribute 可以用，例如，我可以擷取年份資訊："
   ]
  },
  {
   "cell_type": "code",
   "execution_count": 17,
   "metadata": {},
   "outputs": [
    {
     "name": "stdout",
     "output_type": "stream",
     "text": [
      "0        2011\n",
      "1        2011\n",
      "2        2011\n",
      "3        2011\n",
      "4        2011\n",
      "         ... \n",
      "15639    2015\n",
      "15640    2015\n",
      "15641    2015\n",
      "15642    2015\n",
      "15643    2015\n",
      "Name: order.date, Length: 15644, dtype: int64\n"
     ]
    }
   ],
   "source": [
    "order_date_series = df2['order.date']\n",
    "print(order_date_series.dt.year)"
   ]
  },
  {
   "cell_type": "markdown",
   "metadata": {},
   "source": [
    "## 5.2 Splitting text data"
   ]
  },
  {
   "cell_type": "markdown",
   "metadata": {},
   "source": [
    "* 我們原本的資料， `description` 這個欄位，會用 `-` 來間隔三個字串："
   ]
  },
  {
   "cell_type": "code",
   "execution_count": 18,
   "metadata": {},
   "outputs": [
    {
     "name": "stdout",
     "output_type": "stream",
     "text": [
      "0               Mountain - Over Mountain - Carbon\n",
      "1               Mountain - Over Mountain - Carbon\n",
      "2                     Mountain - Trail - Aluminum\n",
      "3               Mountain - Over Mountain - Carbon\n",
      "4                      Road - Elite Road - Carbon\n",
      "                           ...                   \n",
      "15639                Road - Elite Road - Aluminum\n",
      "15640                 Mountain - Sport - Aluminum\n",
      "15641                Road - Elite Road - Aluminum\n",
      "15642      Mountain - Cross Country Race - Carbon\n",
      "15643    Mountain - Cross Country Race - Aluminum\n",
      "Name: description, Length: 15644, dtype: object\n"
     ]
    }
   ],
   "source": [
    "print(df2.description)"
   ]
  },
  {
   "cell_type": "markdown",
   "metadata": {},
   "source": [
    "* 那我現在想把這個字串，拆解成三個欄位，並分別命名成 category_1, category_2, and frame_material"
   ]
  },
  {
   "cell_type": "markdown",
   "metadata": {},
   "source": [
    "* 這邊先介紹一個字串的method: `split()`，例如這樣用："
   ]
  },
  {
   "cell_type": "code",
   "execution_count": 19,
   "metadata": {},
   "outputs": [
    {
     "data": {
      "text/html": [
       "<pre style=\"white-space:pre;overflow-x:auto;line-height:normal;font-family:Menlo,'DejaVu Sans Mono',consolas,'Courier New',monospace\"><span style=\"font-weight: bold\">[</span><span style=\"color: #008000; text-decoration-color: #008000\">'Moutain'</span>, <span style=\"color: #008000; text-decoration-color: #008000\">'Over Mountain'</span>, <span style=\"color: #008000; text-decoration-color: #008000\">'Carbon'</span><span style=\"font-weight: bold\">]</span>\n",
       "</pre>\n"
      ],
      "text/plain": [
       "\u001b[1m[\u001b[0m\u001b[32m'Moutain'\u001b[0m, \u001b[32m'Over Mountain'\u001b[0m, \u001b[32m'Carbon'\u001b[0m\u001b[1m]\u001b[0m\n"
      ]
     },
     "metadata": {},
     "output_type": "display_data"
    }
   ],
   "source": [
    "\"Moutain - Over Mountain - Carbon\".split(\" - \")"
   ]
  },
  {
   "cell_type": "markdown",
   "metadata": {},
   "source": [
    "* 那要用在 pandas 的 dataframe 格式時，就發現如果加個 `.str`，後面就有 string 的那些 method 可以用，所以我可以寫成這樣："
   ]
  },
  {
   "cell_type": "code",
   "execution_count": 20,
   "metadata": {},
   "outputs": [
    {
     "name": "stdout",
     "output_type": "stream",
     "text": [
      "0               [Mountain, Over Mountain, Carbon]\n",
      "1               [Mountain, Over Mountain, Carbon]\n",
      "2                     [Mountain, Trail, Aluminum]\n",
      "3               [Mountain, Over Mountain, Carbon]\n",
      "4                      [Road, Elite Road, Carbon]\n",
      "                           ...                   \n",
      "15639                [Road, Elite Road, Aluminum]\n",
      "15640                 [Mountain, Sport, Aluminum]\n",
      "15641                [Road, Elite Road, Aluminum]\n",
      "15642      [Mountain, Cross Country Race, Carbon]\n",
      "15643    [Mountain, Cross Country Race, Aluminum]\n",
      "Name: description, Length: 15644, dtype: object\n"
     ]
    }
   ],
   "source": [
    "print(df2['description'].str.split(\" - \"))"
   ]
  },
  {
   "cell_type": "markdown",
   "metadata": {},
   "source": [
    "* 還不賴，但不是我要的，因為我要切成三個 column。 那 `split()` 裡面還有個參數叫 `expand = True`，就可以把欄位拆開："
   ]
  },
  {
   "cell_type": "code",
   "execution_count": 21,
   "metadata": {},
   "outputs": [
    {
     "name": "stdout",
     "output_type": "stream",
     "text": [
      "              0                   1         2\n",
      "0      Mountain       Over Mountain    Carbon\n",
      "1      Mountain       Over Mountain    Carbon\n",
      "2      Mountain               Trail  Aluminum\n",
      "3      Mountain       Over Mountain    Carbon\n",
      "4          Road          Elite Road    Carbon\n",
      "...         ...                 ...       ...\n",
      "15639      Road          Elite Road  Aluminum\n",
      "15640  Mountain               Sport  Aluminum\n",
      "15641      Road          Elite Road  Aluminum\n",
      "15642  Mountain  Cross Country Race    Carbon\n",
      "15643  Mountain  Cross Country Race  Aluminum\n",
      "\n",
      "[15644 rows x 3 columns]\n"
     ]
    }
   ],
   "source": [
    "temp_df = df2['description'].str.split(pat = \" - \", expand = True)\n",
    "print(temp_df)"
   ]
  },
  {
   "cell_type": "markdown",
   "metadata": {},
   "source": [
    "* nice，拆開來了，但欄位名稱不是我要的，而且，也還沒塞回原本的資料集\n",
    "* 那課程中的做法，我覺得超爛，但現在我也不知道 dplyr 的那種作法在 python 怎麼做，所以只好先用課程中的做法來處理，如下："
   ]
  },
  {
   "cell_type": "code",
   "execution_count": 22,
   "metadata": {},
   "outputs": [
    {
     "data": {
      "text/html": [
       "<div>\n",
       "<style scoped>\n",
       "    .dataframe tbody tr th:only-of-type {\n",
       "        vertical-align: middle;\n",
       "    }\n",
       "\n",
       "    .dataframe tbody tr th {\n",
       "        vertical-align: top;\n",
       "    }\n",
       "\n",
       "    .dataframe thead th {\n",
       "        text-align: right;\n",
       "    }\n",
       "</style>\n",
       "<table border=\"1\" class=\"dataframe\">\n",
       "  <thead>\n",
       "    <tr style=\"text-align: right;\">\n",
       "      <th></th>\n",
       "      <th>order.id</th>\n",
       "      <th>order.line</th>\n",
       "      <th>order.date</th>\n",
       "      <th>customer.id</th>\n",
       "      <th>product.id</th>\n",
       "      <th>quantity</th>\n",
       "      <th>bike.id</th>\n",
       "      <th>model</th>\n",
       "      <th>description</th>\n",
       "      <th>price</th>\n",
       "      <th>bikeshop.id</th>\n",
       "      <th>bikeshop.name</th>\n",
       "      <th>location</th>\n",
       "      <th>category.1</th>\n",
       "      <th>category.2</th>\n",
       "      <th>frame.material</th>\n",
       "    </tr>\n",
       "  </thead>\n",
       "  <tbody>\n",
       "    <tr>\n",
       "      <th>0</th>\n",
       "      <td>1</td>\n",
       "      <td>1</td>\n",
       "      <td>2011-01-07</td>\n",
       "      <td>2</td>\n",
       "      <td>48</td>\n",
       "      <td>1</td>\n",
       "      <td>48</td>\n",
       "      <td>Jekyll Carbon 2</td>\n",
       "      <td>Mountain - Over Mountain - Carbon</td>\n",
       "      <td>6070</td>\n",
       "      <td>2</td>\n",
       "      <td>Ithaca Mountain Climbers</td>\n",
       "      <td>Ithaca, NY</td>\n",
       "      <td>Mountain</td>\n",
       "      <td>Over Mountain</td>\n",
       "      <td>Carbon</td>\n",
       "    </tr>\n",
       "    <tr>\n",
       "      <th>1</th>\n",
       "      <td>1</td>\n",
       "      <td>2</td>\n",
       "      <td>2011-01-07</td>\n",
       "      <td>2</td>\n",
       "      <td>52</td>\n",
       "      <td>1</td>\n",
       "      <td>52</td>\n",
       "      <td>Trigger Carbon 2</td>\n",
       "      <td>Mountain - Over Mountain - Carbon</td>\n",
       "      <td>5970</td>\n",
       "      <td>2</td>\n",
       "      <td>Ithaca Mountain Climbers</td>\n",
       "      <td>Ithaca, NY</td>\n",
       "      <td>Mountain</td>\n",
       "      <td>Over Mountain</td>\n",
       "      <td>Carbon</td>\n",
       "    </tr>\n",
       "    <tr>\n",
       "      <th>2</th>\n",
       "      <td>2</td>\n",
       "      <td>1</td>\n",
       "      <td>2011-01-10</td>\n",
       "      <td>10</td>\n",
       "      <td>76</td>\n",
       "      <td>1</td>\n",
       "      <td>76</td>\n",
       "      <td>Beast of the East 1</td>\n",
       "      <td>Mountain - Trail - Aluminum</td>\n",
       "      <td>2770</td>\n",
       "      <td>10</td>\n",
       "      <td>Kansas City 29ers</td>\n",
       "      <td>Kansas City, KS</td>\n",
       "      <td>Mountain</td>\n",
       "      <td>Trail</td>\n",
       "      <td>Aluminum</td>\n",
       "    </tr>\n",
       "    <tr>\n",
       "      <th>3</th>\n",
       "      <td>2</td>\n",
       "      <td>2</td>\n",
       "      <td>2011-01-10</td>\n",
       "      <td>10</td>\n",
       "      <td>52</td>\n",
       "      <td>1</td>\n",
       "      <td>52</td>\n",
       "      <td>Trigger Carbon 2</td>\n",
       "      <td>Mountain - Over Mountain - Carbon</td>\n",
       "      <td>5970</td>\n",
       "      <td>10</td>\n",
       "      <td>Kansas City 29ers</td>\n",
       "      <td>Kansas City, KS</td>\n",
       "      <td>Mountain</td>\n",
       "      <td>Over Mountain</td>\n",
       "      <td>Carbon</td>\n",
       "    </tr>\n",
       "    <tr>\n",
       "      <th>4</th>\n",
       "      <td>3</td>\n",
       "      <td>1</td>\n",
       "      <td>2011-01-10</td>\n",
       "      <td>6</td>\n",
       "      <td>2</td>\n",
       "      <td>1</td>\n",
       "      <td>2</td>\n",
       "      <td>Supersix Evo Hi-Mod Team</td>\n",
       "      <td>Road - Elite Road - Carbon</td>\n",
       "      <td>10660</td>\n",
       "      <td>6</td>\n",
       "      <td>Louisville Race Equipment</td>\n",
       "      <td>Louisville, KY</td>\n",
       "      <td>Road</td>\n",
       "      <td>Elite Road</td>\n",
       "      <td>Carbon</td>\n",
       "    </tr>\n",
       "  </tbody>\n",
       "</table>\n",
       "</div>"
      ]
     },
     "execution_count": 22,
     "metadata": {},
     "output_type": "execute_result"
    }
   ],
   "source": [
    "df2['category.1'] = temp_df[0]\n",
    "df2['category.2'] = temp_df[1]\n",
    "df2['frame.material'] = temp_df[2]\n",
    "df2.head(5)"
   ]
  },
  {
   "cell_type": "markdown",
   "metadata": {},
   "source": [
    "* 打鐵趁熱， `location` 的內容長這樣： \"Austin, TX\"，所以，我想把 location 拆解成 city 和 state 兩個欄位  \n",
    "* 作法一樣： "
   ]
  },
  {
   "cell_type": "code",
   "execution_count": 23,
   "metadata": {},
   "outputs": [
    {
     "data": {
      "text/html": [
       "<div>\n",
       "<style scoped>\n",
       "    .dataframe tbody tr th:only-of-type {\n",
       "        vertical-align: middle;\n",
       "    }\n",
       "\n",
       "    .dataframe tbody tr th {\n",
       "        vertical-align: top;\n",
       "    }\n",
       "\n",
       "    .dataframe thead th {\n",
       "        text-align: right;\n",
       "    }\n",
       "</style>\n",
       "<table border=\"1\" class=\"dataframe\">\n",
       "  <thead>\n",
       "    <tr style=\"text-align: right;\">\n",
       "      <th></th>\n",
       "      <th>0</th>\n",
       "      <th>1</th>\n",
       "    </tr>\n",
       "  </thead>\n",
       "  <tbody>\n",
       "    <tr>\n",
       "      <th>0</th>\n",
       "      <td>Ithaca</td>\n",
       "      <td>NY</td>\n",
       "    </tr>\n",
       "    <tr>\n",
       "      <th>1</th>\n",
       "      <td>Ithaca</td>\n",
       "      <td>NY</td>\n",
       "    </tr>\n",
       "    <tr>\n",
       "      <th>2</th>\n",
       "      <td>Kansas City</td>\n",
       "      <td>KS</td>\n",
       "    </tr>\n",
       "    <tr>\n",
       "      <th>3</th>\n",
       "      <td>Kansas City</td>\n",
       "      <td>KS</td>\n",
       "    </tr>\n",
       "    <tr>\n",
       "      <th>4</th>\n",
       "      <td>Louisville</td>\n",
       "      <td>KY</td>\n",
       "    </tr>\n",
       "    <tr>\n",
       "      <th>...</th>\n",
       "      <td>...</td>\n",
       "      <td>...</td>\n",
       "    </tr>\n",
       "    <tr>\n",
       "      <th>15639</th>\n",
       "      <td>Austin</td>\n",
       "      <td>TX</td>\n",
       "    </tr>\n",
       "    <tr>\n",
       "      <th>15640</th>\n",
       "      <td>Austin</td>\n",
       "      <td>TX</td>\n",
       "    </tr>\n",
       "    <tr>\n",
       "      <th>15641</th>\n",
       "      <td>Austin</td>\n",
       "      <td>TX</td>\n",
       "    </tr>\n",
       "    <tr>\n",
       "      <th>15642</th>\n",
       "      <td>Austin</td>\n",
       "      <td>TX</td>\n",
       "    </tr>\n",
       "    <tr>\n",
       "      <th>15643</th>\n",
       "      <td>Austin</td>\n",
       "      <td>TX</td>\n",
       "    </tr>\n",
       "  </tbody>\n",
       "</table>\n",
       "<p>15644 rows × 2 columns</p>\n",
       "</div>"
      ]
     },
     "execution_count": 23,
     "metadata": {},
     "output_type": "execute_result"
    }
   ],
   "source": [
    "temp_df = df2['location'].str.split(', ', expand = True)\n",
    "temp_df"
   ]
  },
  {
   "cell_type": "code",
   "execution_count": 24,
   "metadata": {},
   "outputs": [
    {
     "data": {
      "text/html": [
       "<div>\n",
       "<style scoped>\n",
       "    .dataframe tbody tr th:only-of-type {\n",
       "        vertical-align: middle;\n",
       "    }\n",
       "\n",
       "    .dataframe tbody tr th {\n",
       "        vertical-align: top;\n",
       "    }\n",
       "\n",
       "    .dataframe thead th {\n",
       "        text-align: right;\n",
       "    }\n",
       "</style>\n",
       "<table border=\"1\" class=\"dataframe\">\n",
       "  <thead>\n",
       "    <tr style=\"text-align: right;\">\n",
       "      <th></th>\n",
       "      <th>order.id</th>\n",
       "      <th>order.line</th>\n",
       "      <th>order.date</th>\n",
       "      <th>customer.id</th>\n",
       "      <th>product.id</th>\n",
       "      <th>quantity</th>\n",
       "      <th>bike.id</th>\n",
       "      <th>model</th>\n",
       "      <th>description</th>\n",
       "      <th>price</th>\n",
       "      <th>bikeshop.id</th>\n",
       "      <th>bikeshop.name</th>\n",
       "      <th>location</th>\n",
       "      <th>category.1</th>\n",
       "      <th>category.2</th>\n",
       "      <th>frame.material</th>\n",
       "      <th>city</th>\n",
       "      <th>state</th>\n",
       "    </tr>\n",
       "  </thead>\n",
       "  <tbody>\n",
       "    <tr>\n",
       "      <th>0</th>\n",
       "      <td>1</td>\n",
       "      <td>1</td>\n",
       "      <td>2011-01-07</td>\n",
       "      <td>2</td>\n",
       "      <td>48</td>\n",
       "      <td>1</td>\n",
       "      <td>48</td>\n",
       "      <td>Jekyll Carbon 2</td>\n",
       "      <td>Mountain - Over Mountain - Carbon</td>\n",
       "      <td>6070</td>\n",
       "      <td>2</td>\n",
       "      <td>Ithaca Mountain Climbers</td>\n",
       "      <td>Ithaca, NY</td>\n",
       "      <td>Mountain</td>\n",
       "      <td>Over Mountain</td>\n",
       "      <td>Carbon</td>\n",
       "      <td>Ithaca</td>\n",
       "      <td>NY</td>\n",
       "    </tr>\n",
       "    <tr>\n",
       "      <th>1</th>\n",
       "      <td>1</td>\n",
       "      <td>2</td>\n",
       "      <td>2011-01-07</td>\n",
       "      <td>2</td>\n",
       "      <td>52</td>\n",
       "      <td>1</td>\n",
       "      <td>52</td>\n",
       "      <td>Trigger Carbon 2</td>\n",
       "      <td>Mountain - Over Mountain - Carbon</td>\n",
       "      <td>5970</td>\n",
       "      <td>2</td>\n",
       "      <td>Ithaca Mountain Climbers</td>\n",
       "      <td>Ithaca, NY</td>\n",
       "      <td>Mountain</td>\n",
       "      <td>Over Mountain</td>\n",
       "      <td>Carbon</td>\n",
       "      <td>Ithaca</td>\n",
       "      <td>NY</td>\n",
       "    </tr>\n",
       "    <tr>\n",
       "      <th>2</th>\n",
       "      <td>2</td>\n",
       "      <td>1</td>\n",
       "      <td>2011-01-10</td>\n",
       "      <td>10</td>\n",
       "      <td>76</td>\n",
       "      <td>1</td>\n",
       "      <td>76</td>\n",
       "      <td>Beast of the East 1</td>\n",
       "      <td>Mountain - Trail - Aluminum</td>\n",
       "      <td>2770</td>\n",
       "      <td>10</td>\n",
       "      <td>Kansas City 29ers</td>\n",
       "      <td>Kansas City, KS</td>\n",
       "      <td>Mountain</td>\n",
       "      <td>Trail</td>\n",
       "      <td>Aluminum</td>\n",
       "      <td>Kansas City</td>\n",
       "      <td>KS</td>\n",
       "    </tr>\n",
       "    <tr>\n",
       "      <th>3</th>\n",
       "      <td>2</td>\n",
       "      <td>2</td>\n",
       "      <td>2011-01-10</td>\n",
       "      <td>10</td>\n",
       "      <td>52</td>\n",
       "      <td>1</td>\n",
       "      <td>52</td>\n",
       "      <td>Trigger Carbon 2</td>\n",
       "      <td>Mountain - Over Mountain - Carbon</td>\n",
       "      <td>5970</td>\n",
       "      <td>10</td>\n",
       "      <td>Kansas City 29ers</td>\n",
       "      <td>Kansas City, KS</td>\n",
       "      <td>Mountain</td>\n",
       "      <td>Over Mountain</td>\n",
       "      <td>Carbon</td>\n",
       "      <td>Kansas City</td>\n",
       "      <td>KS</td>\n",
       "    </tr>\n",
       "    <tr>\n",
       "      <th>4</th>\n",
       "      <td>3</td>\n",
       "      <td>1</td>\n",
       "      <td>2011-01-10</td>\n",
       "      <td>6</td>\n",
       "      <td>2</td>\n",
       "      <td>1</td>\n",
       "      <td>2</td>\n",
       "      <td>Supersix Evo Hi-Mod Team</td>\n",
       "      <td>Road - Elite Road - Carbon</td>\n",
       "      <td>10660</td>\n",
       "      <td>6</td>\n",
       "      <td>Louisville Race Equipment</td>\n",
       "      <td>Louisville, KY</td>\n",
       "      <td>Road</td>\n",
       "      <td>Elite Road</td>\n",
       "      <td>Carbon</td>\n",
       "      <td>Louisville</td>\n",
       "      <td>KY</td>\n",
       "    </tr>\n",
       "    <tr>\n",
       "      <th>...</th>\n",
       "      <td>...</td>\n",
       "      <td>...</td>\n",
       "      <td>...</td>\n",
       "      <td>...</td>\n",
       "      <td>...</td>\n",
       "      <td>...</td>\n",
       "      <td>...</td>\n",
       "      <td>...</td>\n",
       "      <td>...</td>\n",
       "      <td>...</td>\n",
       "      <td>...</td>\n",
       "      <td>...</td>\n",
       "      <td>...</td>\n",
       "      <td>...</td>\n",
       "      <td>...</td>\n",
       "      <td>...</td>\n",
       "      <td>...</td>\n",
       "      <td>...</td>\n",
       "    </tr>\n",
       "    <tr>\n",
       "      <th>15639</th>\n",
       "      <td>2000</td>\n",
       "      <td>4</td>\n",
       "      <td>2015-12-25</td>\n",
       "      <td>15</td>\n",
       "      <td>14</td>\n",
       "      <td>1</td>\n",
       "      <td>14</td>\n",
       "      <td>CAAD Disc Ultegra</td>\n",
       "      <td>Road - Elite Road - Aluminum</td>\n",
       "      <td>2660</td>\n",
       "      <td>15</td>\n",
       "      <td>Austin Cruisers</td>\n",
       "      <td>Austin, TX</td>\n",
       "      <td>Road</td>\n",
       "      <td>Elite Road</td>\n",
       "      <td>Aluminum</td>\n",
       "      <td>Austin</td>\n",
       "      <td>TX</td>\n",
       "    </tr>\n",
       "    <tr>\n",
       "      <th>15640</th>\n",
       "      <td>2000</td>\n",
       "      <td>5</td>\n",
       "      <td>2015-12-25</td>\n",
       "      <td>15</td>\n",
       "      <td>90</td>\n",
       "      <td>1</td>\n",
       "      <td>90</td>\n",
       "      <td>Trail 2</td>\n",
       "      <td>Mountain - Sport - Aluminum</td>\n",
       "      <td>1350</td>\n",
       "      <td>15</td>\n",
       "      <td>Austin Cruisers</td>\n",
       "      <td>Austin, TX</td>\n",
       "      <td>Mountain</td>\n",
       "      <td>Sport</td>\n",
       "      <td>Aluminum</td>\n",
       "      <td>Austin</td>\n",
       "      <td>TX</td>\n",
       "    </tr>\n",
       "    <tr>\n",
       "      <th>15641</th>\n",
       "      <td>2000</td>\n",
       "      <td>6</td>\n",
       "      <td>2015-12-25</td>\n",
       "      <td>15</td>\n",
       "      <td>17</td>\n",
       "      <td>1</td>\n",
       "      <td>17</td>\n",
       "      <td>CAAD12 105</td>\n",
       "      <td>Road - Elite Road - Aluminum</td>\n",
       "      <td>1680</td>\n",
       "      <td>15</td>\n",
       "      <td>Austin Cruisers</td>\n",
       "      <td>Austin, TX</td>\n",
       "      <td>Road</td>\n",
       "      <td>Elite Road</td>\n",
       "      <td>Aluminum</td>\n",
       "      <td>Austin</td>\n",
       "      <td>TX</td>\n",
       "    </tr>\n",
       "    <tr>\n",
       "      <th>15642</th>\n",
       "      <td>2000</td>\n",
       "      <td>7</td>\n",
       "      <td>2015-12-25</td>\n",
       "      <td>15</td>\n",
       "      <td>70</td>\n",
       "      <td>1</td>\n",
       "      <td>70</td>\n",
       "      <td>F-Si Carbon 4</td>\n",
       "      <td>Mountain - Cross Country Race - Carbon</td>\n",
       "      <td>2880</td>\n",
       "      <td>15</td>\n",
       "      <td>Austin Cruisers</td>\n",
       "      <td>Austin, TX</td>\n",
       "      <td>Mountain</td>\n",
       "      <td>Cross Country Race</td>\n",
       "      <td>Carbon</td>\n",
       "      <td>Austin</td>\n",
       "      <td>TX</td>\n",
       "    </tr>\n",
       "    <tr>\n",
       "      <th>15643</th>\n",
       "      <td>2000</td>\n",
       "      <td>8</td>\n",
       "      <td>2015-12-25</td>\n",
       "      <td>15</td>\n",
       "      <td>61</td>\n",
       "      <td>1</td>\n",
       "      <td>61</td>\n",
       "      <td>Scalpel-Si 5</td>\n",
       "      <td>Mountain - Cross Country Race - Aluminum</td>\n",
       "      <td>3200</td>\n",
       "      <td>15</td>\n",
       "      <td>Austin Cruisers</td>\n",
       "      <td>Austin, TX</td>\n",
       "      <td>Mountain</td>\n",
       "      <td>Cross Country Race</td>\n",
       "      <td>Aluminum</td>\n",
       "      <td>Austin</td>\n",
       "      <td>TX</td>\n",
       "    </tr>\n",
       "  </tbody>\n",
       "</table>\n",
       "<p>15644 rows × 18 columns</p>\n",
       "</div>"
      ]
     },
     "execution_count": 24,
     "metadata": {},
     "output_type": "execute_result"
    }
   ],
   "source": [
    "df2['city'] = temp_df[0]\n",
    "df2['state'] = temp_df[1]\n",
    "df2"
   ]
  },
  {
   "cell_type": "markdown",
   "metadata": {},
   "source": [
    "## 5.3 mutate出新 column: total.price"
   ]
  },
  {
   "cell_type": "markdown",
   "metadata": {},
   "source": [
    "* 原始資料中，有 `quantity`, 也有 `price` ，所以我想計算出 total.price"
   ]
  },
  {
   "cell_type": "code",
   "execution_count": 25,
   "metadata": {},
   "outputs": [
    {
     "data": {
      "text/html": [
       "<div>\n",
       "<style scoped>\n",
       "    .dataframe tbody tr th:only-of-type {\n",
       "        vertical-align: middle;\n",
       "    }\n",
       "\n",
       "    .dataframe tbody tr th {\n",
       "        vertical-align: top;\n",
       "    }\n",
       "\n",
       "    .dataframe thead th {\n",
       "        text-align: right;\n",
       "    }\n",
       "</style>\n",
       "<table border=\"1\" class=\"dataframe\">\n",
       "  <thead>\n",
       "    <tr style=\"text-align: right;\">\n",
       "      <th></th>\n",
       "      <th>order.id</th>\n",
       "      <th>order.line</th>\n",
       "      <th>order.date</th>\n",
       "      <th>customer.id</th>\n",
       "      <th>product.id</th>\n",
       "      <th>quantity</th>\n",
       "      <th>bike.id</th>\n",
       "      <th>model</th>\n",
       "      <th>description</th>\n",
       "      <th>price</th>\n",
       "      <th>bikeshop.id</th>\n",
       "      <th>bikeshop.name</th>\n",
       "      <th>location</th>\n",
       "      <th>category.1</th>\n",
       "      <th>category.2</th>\n",
       "      <th>frame.material</th>\n",
       "      <th>city</th>\n",
       "      <th>state</th>\n",
       "      <th>total.price</th>\n",
       "    </tr>\n",
       "  </thead>\n",
       "  <tbody>\n",
       "    <tr>\n",
       "      <th>0</th>\n",
       "      <td>1</td>\n",
       "      <td>1</td>\n",
       "      <td>2011-01-07</td>\n",
       "      <td>2</td>\n",
       "      <td>48</td>\n",
       "      <td>1</td>\n",
       "      <td>48</td>\n",
       "      <td>Jekyll Carbon 2</td>\n",
       "      <td>Mountain - Over Mountain - Carbon</td>\n",
       "      <td>6070</td>\n",
       "      <td>2</td>\n",
       "      <td>Ithaca Mountain Climbers</td>\n",
       "      <td>Ithaca, NY</td>\n",
       "      <td>Mountain</td>\n",
       "      <td>Over Mountain</td>\n",
       "      <td>Carbon</td>\n",
       "      <td>Ithaca</td>\n",
       "      <td>NY</td>\n",
       "      <td>6070</td>\n",
       "    </tr>\n",
       "    <tr>\n",
       "      <th>1</th>\n",
       "      <td>1</td>\n",
       "      <td>2</td>\n",
       "      <td>2011-01-07</td>\n",
       "      <td>2</td>\n",
       "      <td>52</td>\n",
       "      <td>1</td>\n",
       "      <td>52</td>\n",
       "      <td>Trigger Carbon 2</td>\n",
       "      <td>Mountain - Over Mountain - Carbon</td>\n",
       "      <td>5970</td>\n",
       "      <td>2</td>\n",
       "      <td>Ithaca Mountain Climbers</td>\n",
       "      <td>Ithaca, NY</td>\n",
       "      <td>Mountain</td>\n",
       "      <td>Over Mountain</td>\n",
       "      <td>Carbon</td>\n",
       "      <td>Ithaca</td>\n",
       "      <td>NY</td>\n",
       "      <td>5970</td>\n",
       "    </tr>\n",
       "    <tr>\n",
       "      <th>2</th>\n",
       "      <td>2</td>\n",
       "      <td>1</td>\n",
       "      <td>2011-01-10</td>\n",
       "      <td>10</td>\n",
       "      <td>76</td>\n",
       "      <td>1</td>\n",
       "      <td>76</td>\n",
       "      <td>Beast of the East 1</td>\n",
       "      <td>Mountain - Trail - Aluminum</td>\n",
       "      <td>2770</td>\n",
       "      <td>10</td>\n",
       "      <td>Kansas City 29ers</td>\n",
       "      <td>Kansas City, KS</td>\n",
       "      <td>Mountain</td>\n",
       "      <td>Trail</td>\n",
       "      <td>Aluminum</td>\n",
       "      <td>Kansas City</td>\n",
       "      <td>KS</td>\n",
       "      <td>2770</td>\n",
       "    </tr>\n",
       "    <tr>\n",
       "      <th>3</th>\n",
       "      <td>2</td>\n",
       "      <td>2</td>\n",
       "      <td>2011-01-10</td>\n",
       "      <td>10</td>\n",
       "      <td>52</td>\n",
       "      <td>1</td>\n",
       "      <td>52</td>\n",
       "      <td>Trigger Carbon 2</td>\n",
       "      <td>Mountain - Over Mountain - Carbon</td>\n",
       "      <td>5970</td>\n",
       "      <td>10</td>\n",
       "      <td>Kansas City 29ers</td>\n",
       "      <td>Kansas City, KS</td>\n",
       "      <td>Mountain</td>\n",
       "      <td>Over Mountain</td>\n",
       "      <td>Carbon</td>\n",
       "      <td>Kansas City</td>\n",
       "      <td>KS</td>\n",
       "      <td>5970</td>\n",
       "    </tr>\n",
       "    <tr>\n",
       "      <th>4</th>\n",
       "      <td>3</td>\n",
       "      <td>1</td>\n",
       "      <td>2011-01-10</td>\n",
       "      <td>6</td>\n",
       "      <td>2</td>\n",
       "      <td>1</td>\n",
       "      <td>2</td>\n",
       "      <td>Supersix Evo Hi-Mod Team</td>\n",
       "      <td>Road - Elite Road - Carbon</td>\n",
       "      <td>10660</td>\n",
       "      <td>6</td>\n",
       "      <td>Louisville Race Equipment</td>\n",
       "      <td>Louisville, KY</td>\n",
       "      <td>Road</td>\n",
       "      <td>Elite Road</td>\n",
       "      <td>Carbon</td>\n",
       "      <td>Louisville</td>\n",
       "      <td>KY</td>\n",
       "      <td>10660</td>\n",
       "    </tr>\n",
       "  </tbody>\n",
       "</table>\n",
       "</div>"
      ]
     },
     "execution_count": 25,
     "metadata": {},
     "output_type": "execute_result"
    }
   ],
   "source": [
    "df2['total.price'] = df2['quantity']*df2['price']\n",
    "df2.head(5)"
   ]
  },
  {
   "cell_type": "markdown",
   "metadata": {},
   "source": [
    "## 5.4 重新排列欄位順序"
   ]
  },
  {
   "cell_type": "markdown",
   "metadata": {},
   "source": [
    "* 在 R 裡面，是用 `select(data, var1, var3, var2,...)` 來排順序  \n",
    "* 在 pandas 中，就是用 `data[['var1', 'var3', 'var2']]` 來排順序  \n",
    "* 所以，作法蠻暴力的：  \n",
    "  * 先用 `data.columns` ，在 console 中 print 出所有欄位名稱  \n",
    "  * 剪下貼上到 script 上，自己排順序，排完後存成一個 list  \n",
    "  * 最後用 `data[排好的list物件]` 來完成  \n",
    "* 做做看吧：  "
   ]
  },
  {
   "cell_type": "code",
   "execution_count": 26,
   "metadata": {},
   "outputs": [
    {
     "data": {
      "text/html": [
       "<pre style=\"white-space:pre;overflow-x:auto;line-height:normal;font-family:Menlo,'DejaVu Sans Mono',consolas,'Courier New',monospace\"><span style=\"color: #800080; text-decoration-color: #800080; font-weight: bold\">Index</span><span style=\"font-weight: bold\">([</span><span style=\"color: #008000; text-decoration-color: #008000\">'order.id'</span>, <span style=\"color: #008000; text-decoration-color: #008000\">'order.line'</span>, <span style=\"color: #008000; text-decoration-color: #008000\">'order.date'</span>, <span style=\"color: #008000; text-decoration-color: #008000\">'customer.id'</span>, <span style=\"color: #008000; text-decoration-color: #008000\">'product.id'</span>,\n",
       "       <span style=\"color: #008000; text-decoration-color: #008000\">'quantity'</span>, <span style=\"color: #008000; text-decoration-color: #008000\">'bike.id'</span>, <span style=\"color: #008000; text-decoration-color: #008000\">'model'</span>, <span style=\"color: #008000; text-decoration-color: #008000\">'description'</span>, <span style=\"color: #008000; text-decoration-color: #008000\">'price'</span>, <span style=\"color: #008000; text-decoration-color: #008000\">'bikeshop.id'</span>,\n",
       "       <span style=\"color: #008000; text-decoration-color: #008000\">'bikeshop.name'</span>, <span style=\"color: #008000; text-decoration-color: #008000\">'location'</span>, <span style=\"color: #008000; text-decoration-color: #008000\">'category.1'</span>, <span style=\"color: #008000; text-decoration-color: #008000\">'category.2'</span>,\n",
       "       <span style=\"color: #008000; text-decoration-color: #008000\">'frame.material'</span>, <span style=\"color: #008000; text-decoration-color: #008000\">'city'</span>, <span style=\"color: #008000; text-decoration-color: #008000\">'state'</span>, <span style=\"color: #008000; text-decoration-color: #008000\">'total.price'</span><span style=\"font-weight: bold\">]</span>,\n",
       "      <span style=\"color: #808000; text-decoration-color: #808000\">dtype</span>=<span style=\"color: #008000; text-decoration-color: #008000\">'object'</span><span style=\"font-weight: bold\">)</span>\n",
       "</pre>\n"
      ],
      "text/plain": [
       "\u001b[1;35mIndex\u001b[0m\u001b[1m(\u001b[0m\u001b[1m[\u001b[0m\u001b[32m'order.id'\u001b[0m, \u001b[32m'order.line'\u001b[0m, \u001b[32m'order.date'\u001b[0m, \u001b[32m'customer.id'\u001b[0m, \u001b[32m'product.id'\u001b[0m,\n",
       "       \u001b[32m'quantity'\u001b[0m, \u001b[32m'bike.id'\u001b[0m, \u001b[32m'model'\u001b[0m, \u001b[32m'description'\u001b[0m, \u001b[32m'price'\u001b[0m, \u001b[32m'bikeshop.id'\u001b[0m,\n",
       "       \u001b[32m'bikeshop.name'\u001b[0m, \u001b[32m'location'\u001b[0m, \u001b[32m'category.1'\u001b[0m, \u001b[32m'category.2'\u001b[0m,\n",
       "       \u001b[32m'frame.material'\u001b[0m, \u001b[32m'city'\u001b[0m, \u001b[32m'state'\u001b[0m, \u001b[32m'total.price'\u001b[0m\u001b[1m]\u001b[0m,\n",
       "      \u001b[33mdtype\u001b[0m=\u001b[32m'object'\u001b[0m\u001b[1m)\u001b[0m\n"
      ]
     },
     "metadata": {},
     "output_type": "display_data"
    }
   ],
   "source": [
    "df2.columns"
   ]
  },
  {
   "cell_type": "code",
   "execution_count": 27,
   "metadata": {},
   "outputs": [
    {
     "data": {
      "text/html": [
       "<div>\n",
       "<style scoped>\n",
       "    .dataframe tbody tr th:only-of-type {\n",
       "        vertical-align: middle;\n",
       "    }\n",
       "\n",
       "    .dataframe tbody tr th {\n",
       "        vertical-align: top;\n",
       "    }\n",
       "\n",
       "    .dataframe thead th {\n",
       "        text-align: right;\n",
       "    }\n",
       "</style>\n",
       "<table border=\"1\" class=\"dataframe\">\n",
       "  <thead>\n",
       "    <tr style=\"text-align: right;\">\n",
       "      <th></th>\n",
       "      <th>order.id</th>\n",
       "      <th>order.line</th>\n",
       "      <th>order.date</th>\n",
       "      <th>model</th>\n",
       "      <th>price</th>\n",
       "      <th>total.price</th>\n",
       "      <th>bikeshop.name</th>\n",
       "      <th>location</th>\n",
       "      <th>category.1</th>\n",
       "      <th>category.2</th>\n",
       "      <th>frame.material</th>\n",
       "      <th>city</th>\n",
       "      <th>state</th>\n",
       "    </tr>\n",
       "  </thead>\n",
       "  <tbody>\n",
       "    <tr>\n",
       "      <th>0</th>\n",
       "      <td>1</td>\n",
       "      <td>1</td>\n",
       "      <td>2011-01-07</td>\n",
       "      <td>Jekyll Carbon 2</td>\n",
       "      <td>6070</td>\n",
       "      <td>6070</td>\n",
       "      <td>Ithaca Mountain Climbers</td>\n",
       "      <td>Ithaca, NY</td>\n",
       "      <td>Mountain</td>\n",
       "      <td>Over Mountain</td>\n",
       "      <td>Carbon</td>\n",
       "      <td>Ithaca</td>\n",
       "      <td>NY</td>\n",
       "    </tr>\n",
       "    <tr>\n",
       "      <th>1</th>\n",
       "      <td>1</td>\n",
       "      <td>2</td>\n",
       "      <td>2011-01-07</td>\n",
       "      <td>Trigger Carbon 2</td>\n",
       "      <td>5970</td>\n",
       "      <td>5970</td>\n",
       "      <td>Ithaca Mountain Climbers</td>\n",
       "      <td>Ithaca, NY</td>\n",
       "      <td>Mountain</td>\n",
       "      <td>Over Mountain</td>\n",
       "      <td>Carbon</td>\n",
       "      <td>Ithaca</td>\n",
       "      <td>NY</td>\n",
       "    </tr>\n",
       "    <tr>\n",
       "      <th>2</th>\n",
       "      <td>2</td>\n",
       "      <td>1</td>\n",
       "      <td>2011-01-10</td>\n",
       "      <td>Beast of the East 1</td>\n",
       "      <td>2770</td>\n",
       "      <td>2770</td>\n",
       "      <td>Kansas City 29ers</td>\n",
       "      <td>Kansas City, KS</td>\n",
       "      <td>Mountain</td>\n",
       "      <td>Trail</td>\n",
       "      <td>Aluminum</td>\n",
       "      <td>Kansas City</td>\n",
       "      <td>KS</td>\n",
       "    </tr>\n",
       "    <tr>\n",
       "      <th>3</th>\n",
       "      <td>2</td>\n",
       "      <td>2</td>\n",
       "      <td>2011-01-10</td>\n",
       "      <td>Trigger Carbon 2</td>\n",
       "      <td>5970</td>\n",
       "      <td>5970</td>\n",
       "      <td>Kansas City 29ers</td>\n",
       "      <td>Kansas City, KS</td>\n",
       "      <td>Mountain</td>\n",
       "      <td>Over Mountain</td>\n",
       "      <td>Carbon</td>\n",
       "      <td>Kansas City</td>\n",
       "      <td>KS</td>\n",
       "    </tr>\n",
       "    <tr>\n",
       "      <th>4</th>\n",
       "      <td>3</td>\n",
       "      <td>1</td>\n",
       "      <td>2011-01-10</td>\n",
       "      <td>Supersix Evo Hi-Mod Team</td>\n",
       "      <td>10660</td>\n",
       "      <td>10660</td>\n",
       "      <td>Louisville Race Equipment</td>\n",
       "      <td>Louisville, KY</td>\n",
       "      <td>Road</td>\n",
       "      <td>Elite Road</td>\n",
       "      <td>Carbon</td>\n",
       "      <td>Louisville</td>\n",
       "      <td>KY</td>\n",
       "    </tr>\n",
       "  </tbody>\n",
       "</table>\n",
       "</div>"
      ]
     },
     "execution_count": 27,
     "metadata": {},
     "output_type": "execute_result"
    }
   ],
   "source": [
    "cols_to_keep_list = [\n",
    "    'order.id', \n",
    "    'order.line', \n",
    "    'order.date', \n",
    "    # 'customer.id', \n",
    "    # 'product.id',\n",
    "    # 'quantity', \n",
    "    # 'bike.id', \n",
    "    'model', \n",
    "    # 'description', \n",
    "    'price', \n",
    "    'total.price',\n",
    "    # 'bikeshop.id',\n",
    "    'bikeshop.name', \n",
    "    'location', \n",
    "    'category.1', \n",
    "    'category.2',\n",
    "    'frame.material', \n",
    "    'city', \n",
    "    'state'\n",
    "]\n",
    "df2[cols_to_keep_list].head(5)"
   ]
  },
  {
   "cell_type": "markdown",
   "metadata": {},
   "source": [
    "## 5.5 Renaming columns"
   ]
  },
  {
   "cell_type": "markdown",
   "metadata": {},
   "source": [
    "* 我們其實很不喜歡 column name 中有 '.'，例如 `order.date`  \n",
    "* 因為這樣在物件導向中，會以為你要用 attribute/method  \n",
    "* 所以，我想把所有的 '.' 都換成 '_'  \n",
    "* 在字串中，我們可以用 `.replace()` 來處理，例如："
   ]
  },
  {
   "cell_type": "code",
   "execution_count": 28,
   "metadata": {},
   "outputs": [
    {
     "data": {
      "text/html": [
       "<pre style=\"white-space:pre;overflow-x:auto;line-height:normal;font-family:Menlo,'DejaVu Sans Mono',consolas,'Courier New',monospace\"><span style=\"color: #008000; text-decoration-color: #008000\">'order_id'</span>\n",
       "</pre>\n"
      ],
      "text/plain": [
       "\u001b[32m'order_id'\u001b[0m\n"
      ]
     },
     "metadata": {},
     "output_type": "display_data"
    }
   ],
   "source": [
    "\"order.id\".replace(\".\",\"_\")"
   ]
  },
  {
   "cell_type": "markdown",
   "metadata": {},
   "source": [
    "* 那要用在 pandas dataframe 上，就一樣，先給他 `.str` ，表示進入到 string 的 attribute 中，接著再用 `.replace()` 就好"
   ]
  },
  {
   "cell_type": "code",
   "execution_count": 29,
   "metadata": {},
   "outputs": [
    {
     "name": "stdout",
     "output_type": "stream",
     "text": [
      "Index(['order.id', 'order.line', 'order.date', 'customer.id', 'product.id',\n",
      "       'quantity', 'bike.id', 'model', 'description', 'price', 'bikeshop.id',\n",
      "       'bikeshop.name', 'location', 'category.1', 'category.2',\n",
      "       'frame.material', 'city', 'state', 'total.price'],\n",
      "      dtype='object')\n",
      "Index(['order_id', 'order_line', 'order_date', 'customer_id', 'product_id',\n",
      "       'quantity', 'bike_id', 'model', 'description', 'price', 'bikeshop_id',\n",
      "       'bikeshop_name', 'location', 'category_1', 'category_2',\n",
      "       'frame_material', 'city', 'state', 'total_price'],\n",
      "      dtype='object')\n"
     ]
    }
   ],
   "source": [
    "print(df2.columns) # 原本的名稱\n",
    "print(df2.columns.str.replace(\".\",\"_\")) # 轉換後名稱"
   ]
  },
  {
   "cell_type": "markdown",
   "metadata": {},
   "source": [
    "* 最後，就把這個名稱塞回去原本的 df 就好："
   ]
  },
  {
   "cell_type": "code",
   "execution_count": 30,
   "metadata": {},
   "outputs": [
    {
     "data": {
      "text/html": [
       "<div>\n",
       "<style scoped>\n",
       "    .dataframe tbody tr th:only-of-type {\n",
       "        vertical-align: middle;\n",
       "    }\n",
       "\n",
       "    .dataframe tbody tr th {\n",
       "        vertical-align: top;\n",
       "    }\n",
       "\n",
       "    .dataframe thead th {\n",
       "        text-align: right;\n",
       "    }\n",
       "</style>\n",
       "<table border=\"1\" class=\"dataframe\">\n",
       "  <thead>\n",
       "    <tr style=\"text-align: right;\">\n",
       "      <th></th>\n",
       "      <th>order.id</th>\n",
       "      <th>order.line</th>\n",
       "      <th>order.date</th>\n",
       "      <th>customer.id</th>\n",
       "      <th>product.id</th>\n",
       "      <th>quantity</th>\n",
       "      <th>bike.id</th>\n",
       "      <th>model</th>\n",
       "      <th>description</th>\n",
       "      <th>price</th>\n",
       "      <th>bikeshop.id</th>\n",
       "      <th>bikeshop.name</th>\n",
       "      <th>location</th>\n",
       "      <th>category.1</th>\n",
       "      <th>category.2</th>\n",
       "      <th>frame.material</th>\n",
       "      <th>city</th>\n",
       "      <th>state</th>\n",
       "      <th>total.price</th>\n",
       "    </tr>\n",
       "  </thead>\n",
       "  <tbody>\n",
       "    <tr>\n",
       "      <th>0</th>\n",
       "      <td>1</td>\n",
       "      <td>1</td>\n",
       "      <td>2011-01-07</td>\n",
       "      <td>2</td>\n",
       "      <td>48</td>\n",
       "      <td>1</td>\n",
       "      <td>48</td>\n",
       "      <td>Jekyll Carbon 2</td>\n",
       "      <td>Mountain - Over Mountain - Carbon</td>\n",
       "      <td>6070</td>\n",
       "      <td>2</td>\n",
       "      <td>Ithaca Mountain Climbers</td>\n",
       "      <td>Ithaca, NY</td>\n",
       "      <td>Mountain</td>\n",
       "      <td>Over Mountain</td>\n",
       "      <td>Carbon</td>\n",
       "      <td>Ithaca</td>\n",
       "      <td>NY</td>\n",
       "      <td>6070</td>\n",
       "    </tr>\n",
       "    <tr>\n",
       "      <th>1</th>\n",
       "      <td>1</td>\n",
       "      <td>2</td>\n",
       "      <td>2011-01-07</td>\n",
       "      <td>2</td>\n",
       "      <td>52</td>\n",
       "      <td>1</td>\n",
       "      <td>52</td>\n",
       "      <td>Trigger Carbon 2</td>\n",
       "      <td>Mountain - Over Mountain - Carbon</td>\n",
       "      <td>5970</td>\n",
       "      <td>2</td>\n",
       "      <td>Ithaca Mountain Climbers</td>\n",
       "      <td>Ithaca, NY</td>\n",
       "      <td>Mountain</td>\n",
       "      <td>Over Mountain</td>\n",
       "      <td>Carbon</td>\n",
       "      <td>Ithaca</td>\n",
       "      <td>NY</td>\n",
       "      <td>5970</td>\n",
       "    </tr>\n",
       "    <tr>\n",
       "      <th>2</th>\n",
       "      <td>2</td>\n",
       "      <td>1</td>\n",
       "      <td>2011-01-10</td>\n",
       "      <td>10</td>\n",
       "      <td>76</td>\n",
       "      <td>1</td>\n",
       "      <td>76</td>\n",
       "      <td>Beast of the East 1</td>\n",
       "      <td>Mountain - Trail - Aluminum</td>\n",
       "      <td>2770</td>\n",
       "      <td>10</td>\n",
       "      <td>Kansas City 29ers</td>\n",
       "      <td>Kansas City, KS</td>\n",
       "      <td>Mountain</td>\n",
       "      <td>Trail</td>\n",
       "      <td>Aluminum</td>\n",
       "      <td>Kansas City</td>\n",
       "      <td>KS</td>\n",
       "      <td>2770</td>\n",
       "    </tr>\n",
       "    <tr>\n",
       "      <th>3</th>\n",
       "      <td>2</td>\n",
       "      <td>2</td>\n",
       "      <td>2011-01-10</td>\n",
       "      <td>10</td>\n",
       "      <td>52</td>\n",
       "      <td>1</td>\n",
       "      <td>52</td>\n",
       "      <td>Trigger Carbon 2</td>\n",
       "      <td>Mountain - Over Mountain - Carbon</td>\n",
       "      <td>5970</td>\n",
       "      <td>10</td>\n",
       "      <td>Kansas City 29ers</td>\n",
       "      <td>Kansas City, KS</td>\n",
       "      <td>Mountain</td>\n",
       "      <td>Over Mountain</td>\n",
       "      <td>Carbon</td>\n",
       "      <td>Kansas City</td>\n",
       "      <td>KS</td>\n",
       "      <td>5970</td>\n",
       "    </tr>\n",
       "    <tr>\n",
       "      <th>4</th>\n",
       "      <td>3</td>\n",
       "      <td>1</td>\n",
       "      <td>2011-01-10</td>\n",
       "      <td>6</td>\n",
       "      <td>2</td>\n",
       "      <td>1</td>\n",
       "      <td>2</td>\n",
       "      <td>Supersix Evo Hi-Mod Team</td>\n",
       "      <td>Road - Elite Road - Carbon</td>\n",
       "      <td>10660</td>\n",
       "      <td>6</td>\n",
       "      <td>Louisville Race Equipment</td>\n",
       "      <td>Louisville, KY</td>\n",
       "      <td>Road</td>\n",
       "      <td>Elite Road</td>\n",
       "      <td>Carbon</td>\n",
       "      <td>Louisville</td>\n",
       "      <td>KY</td>\n",
       "      <td>10660</td>\n",
       "    </tr>\n",
       "    <tr>\n",
       "      <th>...</th>\n",
       "      <td>...</td>\n",
       "      <td>...</td>\n",
       "      <td>...</td>\n",
       "      <td>...</td>\n",
       "      <td>...</td>\n",
       "      <td>...</td>\n",
       "      <td>...</td>\n",
       "      <td>...</td>\n",
       "      <td>...</td>\n",
       "      <td>...</td>\n",
       "      <td>...</td>\n",
       "      <td>...</td>\n",
       "      <td>...</td>\n",
       "      <td>...</td>\n",
       "      <td>...</td>\n",
       "      <td>...</td>\n",
       "      <td>...</td>\n",
       "      <td>...</td>\n",
       "      <td>...</td>\n",
       "    </tr>\n",
       "    <tr>\n",
       "      <th>15639</th>\n",
       "      <td>2000</td>\n",
       "      <td>4</td>\n",
       "      <td>2015-12-25</td>\n",
       "      <td>15</td>\n",
       "      <td>14</td>\n",
       "      <td>1</td>\n",
       "      <td>14</td>\n",
       "      <td>CAAD Disc Ultegra</td>\n",
       "      <td>Road - Elite Road - Aluminum</td>\n",
       "      <td>2660</td>\n",
       "      <td>15</td>\n",
       "      <td>Austin Cruisers</td>\n",
       "      <td>Austin, TX</td>\n",
       "      <td>Road</td>\n",
       "      <td>Elite Road</td>\n",
       "      <td>Aluminum</td>\n",
       "      <td>Austin</td>\n",
       "      <td>TX</td>\n",
       "      <td>2660</td>\n",
       "    </tr>\n",
       "    <tr>\n",
       "      <th>15640</th>\n",
       "      <td>2000</td>\n",
       "      <td>5</td>\n",
       "      <td>2015-12-25</td>\n",
       "      <td>15</td>\n",
       "      <td>90</td>\n",
       "      <td>1</td>\n",
       "      <td>90</td>\n",
       "      <td>Trail 2</td>\n",
       "      <td>Mountain - Sport - Aluminum</td>\n",
       "      <td>1350</td>\n",
       "      <td>15</td>\n",
       "      <td>Austin Cruisers</td>\n",
       "      <td>Austin, TX</td>\n",
       "      <td>Mountain</td>\n",
       "      <td>Sport</td>\n",
       "      <td>Aluminum</td>\n",
       "      <td>Austin</td>\n",
       "      <td>TX</td>\n",
       "      <td>1350</td>\n",
       "    </tr>\n",
       "    <tr>\n",
       "      <th>15641</th>\n",
       "      <td>2000</td>\n",
       "      <td>6</td>\n",
       "      <td>2015-12-25</td>\n",
       "      <td>15</td>\n",
       "      <td>17</td>\n",
       "      <td>1</td>\n",
       "      <td>17</td>\n",
       "      <td>CAAD12 105</td>\n",
       "      <td>Road - Elite Road - Aluminum</td>\n",
       "      <td>1680</td>\n",
       "      <td>15</td>\n",
       "      <td>Austin Cruisers</td>\n",
       "      <td>Austin, TX</td>\n",
       "      <td>Road</td>\n",
       "      <td>Elite Road</td>\n",
       "      <td>Aluminum</td>\n",
       "      <td>Austin</td>\n",
       "      <td>TX</td>\n",
       "      <td>1680</td>\n",
       "    </tr>\n",
       "    <tr>\n",
       "      <th>15642</th>\n",
       "      <td>2000</td>\n",
       "      <td>7</td>\n",
       "      <td>2015-12-25</td>\n",
       "      <td>15</td>\n",
       "      <td>70</td>\n",
       "      <td>1</td>\n",
       "      <td>70</td>\n",
       "      <td>F-Si Carbon 4</td>\n",
       "      <td>Mountain - Cross Country Race - Carbon</td>\n",
       "      <td>2880</td>\n",
       "      <td>15</td>\n",
       "      <td>Austin Cruisers</td>\n",
       "      <td>Austin, TX</td>\n",
       "      <td>Mountain</td>\n",
       "      <td>Cross Country Race</td>\n",
       "      <td>Carbon</td>\n",
       "      <td>Austin</td>\n",
       "      <td>TX</td>\n",
       "      <td>2880</td>\n",
       "    </tr>\n",
       "    <tr>\n",
       "      <th>15643</th>\n",
       "      <td>2000</td>\n",
       "      <td>8</td>\n",
       "      <td>2015-12-25</td>\n",
       "      <td>15</td>\n",
       "      <td>61</td>\n",
       "      <td>1</td>\n",
       "      <td>61</td>\n",
       "      <td>Scalpel-Si 5</td>\n",
       "      <td>Mountain - Cross Country Race - Aluminum</td>\n",
       "      <td>3200</td>\n",
       "      <td>15</td>\n",
       "      <td>Austin Cruisers</td>\n",
       "      <td>Austin, TX</td>\n",
       "      <td>Mountain</td>\n",
       "      <td>Cross Country Race</td>\n",
       "      <td>Aluminum</td>\n",
       "      <td>Austin</td>\n",
       "      <td>TX</td>\n",
       "      <td>3200</td>\n",
       "    </tr>\n",
       "  </tbody>\n",
       "</table>\n",
       "<p>15644 rows × 19 columns</p>\n",
       "</div>"
      ]
     },
     "execution_count": 30,
     "metadata": {},
     "output_type": "execute_result"
    }
   ],
   "source": [
    "df2"
   ]
  },
  {
   "cell_type": "code",
   "execution_count": 31,
   "metadata": {},
   "outputs": [
    {
     "name": "stdout",
     "output_type": "stream",
     "text": [
      "Index(['order_id', 'order_line', 'order_date', 'customer_id', 'product_id',\n",
      "       'quantity', 'bike_id', 'model', 'description', 'price', 'bikeshop_id',\n",
      "       'bikeshop_name', 'location', 'category_1', 'category_2',\n",
      "       'frame_material', 'city', 'state', 'total_price'],\n",
      "      dtype='object')\n"
     ]
    }
   ],
   "source": [
    "df2.columns = df2.columns.str.replace(\".\",\"_\")\n",
    "print(df2.columns)"
   ]
  },
  {
   "cell_type": "markdown",
   "metadata": {},
   "source": [
    "# 6. Save your work: pickle it!!"
   ]
  },
  {
   "cell_type": "markdown",
   "metadata": {},
   "source": [
    "* 剛剛辛苦的整理完資料了，那習慣上就會把這筆資料存起來，之後就可以直接從乾淨的資料開始分析和畫圖  "
   ]
  },
  {
   "cell_type": "code",
   "execution_count": 105,
   "metadata": {},
   "outputs": [],
   "source": [
    "bike_orderlines_wrangle_df = df2\n",
    "# bike_orderlines_wrangle_df.save_pickle(\"00_data_wrangled/bike_orderlines_wrangled_df.pkl\") # 存成 pickle 檔\n",
    "# bike_orderlines_wrangle_df.to_csv(\"00_data_wrangled/bike_orderlines_wrangled_df.csv\") # 存成 csv 檔\n",
    "# bike_orderlines_wrangle_df.to_excel(\"00_data_wrangled/bike_orderlines_wrangled_df.xlsx\") # 存成 excel 檔\n"
   ]
  },
  {
   "cell_type": "code",
   "execution_count": null,
   "metadata": {},
   "outputs": [],
   "source": []
  },
  {
   "cell_type": "markdown",
   "metadata": {},
   "source": [
    "# 7. Sales Analysis "
   ]
  },
  {
   "cell_type": "code",
   "execution_count": 33,
   "metadata": {},
   "outputs": [],
   "source": [
    "df = pd.read_pickle(\"00_data_wrangled/bike_orderlines_wrangled_df.pkl\")"
   ]
  },
  {
   "cell_type": "markdown",
   "metadata": {},
   "source": [
    "## 7.1 各月銷售金額統計"
   ]
  },
  {
   "cell_type": "markdown",
   "metadata": {},
   "source": [
    "* 接下來，我們想抓出 `order_date` 和 `total_price` 這兩個變數，然後畫畫圖  \n",
    "* 那首先，我們把 `order_date` 從變數欄 移到 index 欄(就是 rownames 的意思)，那這樣做的用意是，等等才能用一些datetime可用的method\n",
    "* 接著，用 `.resample(rule = \"Y\")` 來表示我要先將資料變成\"年\"的顆粒度，然後再 by 年 做 group_by，做出 group_by object。這邊多說明一下，轉成年後，預設是會以該年的最後一天為代表。例如2021年，他會寫成 2021-12-31。所以如果你喜歡用年初當代表(e.g. 2021-01-01)，那就要寫成 `.resample(rule = \"YS\")` ，那 YS 就是 Year Start 的縮寫。最後，如果你想 by 月，那要用 `rule = \"M\"`  \n",
    "* 最後，就是用 `.sum()` 的函數，算出各年的總賣出金額："
   ]
  },
  {
   "cell_type": "code",
   "execution_count": 52,
   "metadata": {},
   "outputs": [
    {
     "data": {
      "text/html": [
       "<div>\n",
       "<style scoped>\n",
       "    .dataframe tbody tr th:only-of-type {\n",
       "        vertical-align: middle;\n",
       "    }\n",
       "\n",
       "    .dataframe tbody tr th {\n",
       "        vertical-align: top;\n",
       "    }\n",
       "\n",
       "    .dataframe thead th {\n",
       "        text-align: right;\n",
       "    }\n",
       "</style>\n",
       "<table border=\"1\" class=\"dataframe\">\n",
       "  <thead>\n",
       "    <tr style=\"text-align: right;\">\n",
       "      <th></th>\n",
       "      <th>order_date</th>\n",
       "      <th>total_price</th>\n",
       "    </tr>\n",
       "  </thead>\n",
       "  <tbody>\n",
       "    <tr>\n",
       "      <th>0</th>\n",
       "      <td>2011-01-01</td>\n",
       "      <td>483015</td>\n",
       "    </tr>\n",
       "    <tr>\n",
       "      <th>1</th>\n",
       "      <td>2011-02-01</td>\n",
       "      <td>1162075</td>\n",
       "    </tr>\n",
       "    <tr>\n",
       "      <th>2</th>\n",
       "      <td>2011-03-01</td>\n",
       "      <td>659975</td>\n",
       "    </tr>\n",
       "    <tr>\n",
       "      <th>3</th>\n",
       "      <td>2011-04-01</td>\n",
       "      <td>1827140</td>\n",
       "    </tr>\n",
       "    <tr>\n",
       "      <th>4</th>\n",
       "      <td>2011-05-01</td>\n",
       "      <td>844170</td>\n",
       "    </tr>\n",
       "  </tbody>\n",
       "</table>\n",
       "</div>"
      ]
     },
     "execution_count": 52,
     "metadata": {},
     "output_type": "execute_result"
    }
   ],
   "source": [
    "sales_by_month_df = df[['order_date','total_price']] \\\n",
    "    .set_index('order_date') \\\n",
    "    .resample(rule = \"MS\") \\\n",
    "    .sum() \\\n",
    "    .reset_index()\n",
    "sales_by_month_df.head()"
   ]
  },
  {
   "cell_type": "markdown",
   "metadata": {},
   "source": [
    "## 7.2 畫圖"
   ]
  },
  {
   "cell_type": "code",
   "execution_count": 91,
   "metadata": {},
   "outputs": [
    {
     "data": {
      "image/png": "[encoded data removed]"
     },
     "metadata": {
      "needs_background": "light"
     },
     "output_type": "display_data"
    },
    {
     "data": {
      "text/html": [
       "<pre style=\"white-space:pre;overflow-x:auto;line-height:normal;font-family:Menlo,'DejaVu Sans Mono',consolas,'Courier New',monospace\"><span style=\"font-weight: bold\">&lt;</span><span style=\"color: #ff00ff; text-decoration-color: #ff00ff; font-weight: bold\">ggplot:</span><span style=\"color: #000000; text-decoration-color: #000000\"> </span><span style=\"color: #000000; text-decoration-color: #000000; font-weight: bold\">(</span><span style=\"color: #008080; text-decoration-color: #008080; font-weight: bold\">329799283</span><span style=\"color: #000000; text-decoration-color: #000000; font-weight: bold\">)</span><span style=\"font-weight: bold\">&gt;</span>\n",
       "</pre>\n"
      ],
      "text/plain": [
       "\u001b[1m<\u001b[0m\u001b[1;95mggplot:\u001b[0m\u001b[39m \u001b[0m\u001b[1;39m(\u001b[0m\u001b[1;36m329799283\u001b[0m\u001b[1;39m)\u001b[0m\u001b[1m>\u001b[0m\n"
      ]
     },
     "metadata": {},
     "output_type": "display_data"
    }
   ],
   "source": [
    "usd = currency_format(prefix = \"$\", digits = 0, big_mark = \",\")\n",
    "\n",
    "ggplot(aes(x = \"order_date\", y = \"total_price\"), data = sales_by_month_df) + \\\n",
    "    geom_line() + \\\n",
    "    geom_smooth(\n",
    "        method = 'loess',\n",
    "        se = False,\n",
    "        color = \"blue\",\n",
    "        span = 0.3\n",
    "    ) + \\\n",
    "    scale_y_continuous(labels = usd) + \\\n",
    "    labs(\n",
    "        title = \"Revenue by Month\",\n",
    "        x = \"\",\n",
    "        y = \"Revenue\"\n",
    "    ) + \\\n",
    "    theme_minimal() + \\\n",
    "    expand_limits(y = 0)\n"
   ]
  },
  {
   "cell_type": "markdown",
   "metadata": {},
   "source": [
    "## 7.3 category_2 中各類產品的每週銷售金額"
   ]
  },
  {
   "cell_type": "markdown",
   "metadata": {},
   "source": [
    "* 我們的資料中，有 category2 這個變數，在描述那台腳踏車所屬的類別。  \n",
    "* 現在，我想看看，每一類的腳踏車，在每週，的總銷售金額"
   ]
  },
  {
   "cell_type": "code",
   "execution_count": 74,
   "metadata": {},
   "outputs": [
    {
     "data": {
      "text/html": [
       "<div>\n",
       "<style scoped>\n",
       "    .dataframe tbody tr th:only-of-type {\n",
       "        vertical-align: middle;\n",
       "    }\n",
       "\n",
       "    .dataframe tbody tr th {\n",
       "        vertical-align: top;\n",
       "    }\n",
       "\n",
       "    .dataframe thead th {\n",
       "        text-align: right;\n",
       "    }\n",
       "</style>\n",
       "<table border=\"1\" class=\"dataframe\">\n",
       "  <thead>\n",
       "    <tr style=\"text-align: right;\">\n",
       "      <th></th>\n",
       "      <th>category_2</th>\n",
       "      <th>order_date</th>\n",
       "      <th>total_price</th>\n",
       "    </tr>\n",
       "  </thead>\n",
       "  <tbody>\n",
       "    <tr>\n",
       "      <th>0</th>\n",
       "      <td>Cross Country Race</td>\n",
       "      <td>2011-01-16</td>\n",
       "      <td>61750</td>\n",
       "    </tr>\n",
       "    <tr>\n",
       "      <th>1</th>\n",
       "      <td>Cross Country Race</td>\n",
       "      <td>2011-01-23</td>\n",
       "      <td>25050</td>\n",
       "    </tr>\n",
       "    <tr>\n",
       "      <th>2</th>\n",
       "      <td>Cross Country Race</td>\n",
       "      <td>2011-01-30</td>\n",
       "      <td>56860</td>\n",
       "    </tr>\n",
       "    <tr>\n",
       "      <th>3</th>\n",
       "      <td>Cross Country Race</td>\n",
       "      <td>2011-02-06</td>\n",
       "      <td>8740</td>\n",
       "    </tr>\n",
       "    <tr>\n",
       "      <th>4</th>\n",
       "      <td>Cross Country Race</td>\n",
       "      <td>2011-02-13</td>\n",
       "      <td>78070</td>\n",
       "    </tr>\n",
       "    <tr>\n",
       "      <th>...</th>\n",
       "      <td>...</td>\n",
       "      <td>...</td>\n",
       "      <td>...</td>\n",
       "    </tr>\n",
       "    <tr>\n",
       "      <th>2324</th>\n",
       "      <td>Triathalon</td>\n",
       "      <td>2015-11-29</td>\n",
       "      <td>21250</td>\n",
       "    </tr>\n",
       "    <tr>\n",
       "      <th>2325</th>\n",
       "      <td>Triathalon</td>\n",
       "      <td>2015-12-06</td>\n",
       "      <td>5850</td>\n",
       "    </tr>\n",
       "    <tr>\n",
       "      <th>2326</th>\n",
       "      <td>Triathalon</td>\n",
       "      <td>2015-12-13</td>\n",
       "      <td>0</td>\n",
       "    </tr>\n",
       "    <tr>\n",
       "      <th>2327</th>\n",
       "      <td>Triathalon</td>\n",
       "      <td>2015-12-20</td>\n",
       "      <td>10200</td>\n",
       "    </tr>\n",
       "    <tr>\n",
       "      <th>2328</th>\n",
       "      <td>Triathalon</td>\n",
       "      <td>2015-12-27</td>\n",
       "      <td>22550</td>\n",
       "    </tr>\n",
       "  </tbody>\n",
       "</table>\n",
       "<p>2329 rows × 3 columns</p>\n",
       "</div>"
      ]
     },
     "execution_count": 74,
     "metadata": {},
     "output_type": "execute_result"
    }
   ],
   "source": [
    "sales_by_month_cat_2 = df[['order_date','category_2', 'total_price']] \\\n",
    "    .set_index('order_date') \\\n",
    "    .groupby('category_2') \\\n",
    "    .resample(rule='W') \\\n",
    "    .agg(func = {'total_price': np.sum}) \\\n",
    "    .reset_index()\n",
    "sales_by_month_cat_2"
   ]
  },
  {
   "cell_type": "code",
   "execution_count": 104,
   "metadata": {},
   "outputs": [
    {
     "data": {
      "image/png": "[encoded data removed]"
     },
     "metadata": {
      "needs_background": "light"
     },
     "output_type": "display_data"
    },
    {
     "data": {
      "text/html": [
       "<pre style=\"white-space:pre;overflow-x:auto;line-height:normal;font-family:Menlo,'DejaVu Sans Mono',consolas,'Courier New',monospace\"><span style=\"font-weight: bold\">&lt;</span><span style=\"color: #ff00ff; text-decoration-color: #ff00ff; font-weight: bold\">ggplot:</span><span style=\"color: #000000; text-decoration-color: #000000\"> </span><span style=\"color: #000000; text-decoration-color: #000000; font-weight: bold\">(</span><span style=\"color: #008080; text-decoration-color: #008080; font-weight: bold\">331123423</span><span style=\"color: #000000; text-decoration-color: #000000; font-weight: bold\">)</span><span style=\"font-weight: bold\">&gt;</span>\n",
       "</pre>\n"
      ],
      "text/plain": [
       "\u001b[1m<\u001b[0m\u001b[1;95mggplot:\u001b[0m\u001b[39m \u001b[0m\u001b[1;39m(\u001b[0m\u001b[1;36m331123423\u001b[0m\u001b[1;39m)\u001b[0m\u001b[1m>\u001b[0m\n"
      ]
     },
     "metadata": {},
     "output_type": "display_data"
    }
   ],
   "source": [
    "ggplot(aes(x = 'order_date', y = 'total_price'), data = sales_by_month_cat_2) + \\\n",
    "    geom_line(color = \"#2c3e50\") + \\\n",
    "    geom_smooth(method = \"loess\", se = False, color = \"blue\") + \\\n",
    "    facet_wrap(\n",
    "        \"~category_2\", \n",
    "        ncol = 3,\n",
    "        scales = \"free_y\"\n",
    "    ) + \\\n",
    "    scale_y_continuous(labels = usd) + \\\n",
    "    scale_x_datetime(\n",
    "        breaks = date_breaks(\"2 years\"),\n",
    "        labels = date_format(fmt = \"%Y-%m\")\n",
    "    ) + \\\n",
    "    labs(\n",
    "        title = \"Revenue by Week\",\n",
    "        x = \"\", y = \"Revenue\"\n",
    "    ) + \\\n",
    "    theme_matplotlib() + \\\n",
    "    theme(\n",
    "        subplots_adjust = {'wspace': 0.45},\n",
    "        axis_text_y = element_text(size = 6),\n",
    "        axis_text_x = element_text(size = 6) \n",
    "    )\n",
    "    "
   ]
  },
  {
   "cell_type": "markdown",
   "metadata": {},
   "source": [
    "# 8. Conclusion  "
   ]
  },
  {
   "cell_type": "markdown",
   "metadata": {},
   "source": [
    "* 接下來要做的事：  \n",
    "  * Building a forecast system\n",
    "  * Create a database to host our raw data\n",
    "  * Develop Modular Functions to:\n",
    "    * Collect data\n",
    "    * Summarize data and prepare for forecast\n",
    "    * Run Automatic Forecasting for One or More Time Series\n",
    "    * Store Forecast in Database\n",
    "    * Retrieve Forecasts and Report using Templates"
   ]
  },
  {
   "cell_type": "markdown",
   "metadata": {},
   "source": []
  }
 ],
 "metadata": {
  "interpreter": {
   "hash": "c28bcaf8177fe56481115837a3a54353a074979baa12311ba55fb77ebaa0a4f6"
  },
  "kernelspec": {
   "display_name": "Python 3.8.0 64-bit ('3.8.0': pyenv)",
   "name": "python3"
  },
  "language_info": {
   "codemirror_mode": {
    "name": "ipython",
    "version": 3
   },
   "file_extension": ".py",
   "mimetype": "text/x-python",
   "name": "python",
   "nbconvert_exporter": "python",
   "pygments_lexer": "ipython3",
   "version": "3.8.0"
  },
  "orig_nbformat": 2
 },
 "nbformat": 4,
 "nbformat_minor": 2
}