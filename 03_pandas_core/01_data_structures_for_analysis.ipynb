{
 "cells": [
  {
   "cell_type": "markdown",
   "metadata": {},
   "source": [
    "# 0 Import"
   ]
  },
  {
   "cell_type": "code",
   "execution_count": 1,
   "metadata": {},
   "outputs": [
    {
     "data": {
      "text/html": [
       "<div>\n",
       "<style scoped>\n",
       "    .dataframe tbody tr th:only-of-type {\n",
       "        vertical-align: middle;\n",
       "    }\n",
       "\n",
       "    .dataframe tbody tr th {\n",
       "        vertical-align: top;\n",
       "    }\n",
       "\n",
       "    .dataframe thead th {\n",
       "        text-align: right;\n",
       "    }\n",
       "</style>\n",
       "<table border=\"1\" class=\"dataframe\">\n",
       "  <thead>\n",
       "    <tr style=\"text-align: right;\">\n",
       "      <th></th>\n",
       "      <th>order_id</th>\n",
       "      <th>order_line</th>\n",
       "      <th>order_date</th>\n",
       "      <th>quantity</th>\n",
       "      <th>price</th>\n",
       "      <th>total_price</th>\n",
       "      <th>model</th>\n",
       "      <th>category_1</th>\n",
       "      <th>category_2</th>\n",
       "      <th>frame_material</th>\n",
       "      <th>bikeshop_name</th>\n",
       "      <th>city</th>\n",
       "      <th>state</th>\n",
       "    </tr>\n",
       "  </thead>\n",
       "  <tbody>\n",
       "    <tr>\n",
       "      <th>0</th>\n",
       "      <td>1</td>\n",
       "      <td>1</td>\n",
       "      <td>2011-01-07</td>\n",
       "      <td>1</td>\n",
       "      <td>6070</td>\n",
       "      <td>6070</td>\n",
       "      <td>Jekyll Carbon 2</td>\n",
       "      <td>Mountain</td>\n",
       "      <td>Over Mountain</td>\n",
       "      <td>Carbon</td>\n",
       "      <td>Ithaca Mountain Climbers</td>\n",
       "      <td>Ithaca</td>\n",
       "      <td>NY</td>\n",
       "    </tr>\n",
       "    <tr>\n",
       "      <th>1</th>\n",
       "      <td>1</td>\n",
       "      <td>2</td>\n",
       "      <td>2011-01-07</td>\n",
       "      <td>1</td>\n",
       "      <td>5970</td>\n",
       "      <td>5970</td>\n",
       "      <td>Trigger Carbon 2</td>\n",
       "      <td>Mountain</td>\n",
       "      <td>Over Mountain</td>\n",
       "      <td>Carbon</td>\n",
       "      <td>Ithaca Mountain Climbers</td>\n",
       "      <td>Ithaca</td>\n",
       "      <td>NY</td>\n",
       "    </tr>\n",
       "    <tr>\n",
       "      <th>2</th>\n",
       "      <td>2</td>\n",
       "      <td>1</td>\n",
       "      <td>2011-01-10</td>\n",
       "      <td>1</td>\n",
       "      <td>2770</td>\n",
       "      <td>2770</td>\n",
       "      <td>Beast of the East 1</td>\n",
       "      <td>Mountain</td>\n",
       "      <td>Trail</td>\n",
       "      <td>Aluminum</td>\n",
       "      <td>Kansas City 29ers</td>\n",
       "      <td>Kansas City</td>\n",
       "      <td>KS</td>\n",
       "    </tr>\n",
       "    <tr>\n",
       "      <th>3</th>\n",
       "      <td>2</td>\n",
       "      <td>2</td>\n",
       "      <td>2011-01-10</td>\n",
       "      <td>1</td>\n",
       "      <td>5970</td>\n",
       "      <td>5970</td>\n",
       "      <td>Trigger Carbon 2</td>\n",
       "      <td>Mountain</td>\n",
       "      <td>Over Mountain</td>\n",
       "      <td>Carbon</td>\n",
       "      <td>Kansas City 29ers</td>\n",
       "      <td>Kansas City</td>\n",
       "      <td>KS</td>\n",
       "    </tr>\n",
       "    <tr>\n",
       "      <th>4</th>\n",
       "      <td>3</td>\n",
       "      <td>1</td>\n",
       "      <td>2011-01-10</td>\n",
       "      <td>1</td>\n",
       "      <td>10660</td>\n",
       "      <td>10660</td>\n",
       "      <td>Supersix Evo Hi-Mod Team</td>\n",
       "      <td>Road</td>\n",
       "      <td>Elite Road</td>\n",
       "      <td>Carbon</td>\n",
       "      <td>Louisville Race Equipment</td>\n",
       "      <td>Louisville</td>\n",
       "      <td>KY</td>\n",
       "    </tr>\n",
       "  </tbody>\n",
       "</table>\n",
       "</div>"
      ],
      "text/plain": [
       "   order_id  order_line order_date  quantity  price  total_price  \\\n",
       "0         1           1 2011-01-07         1   6070         6070   \n",
       "1         1           2 2011-01-07         1   5970         5970   \n",
       "2         2           1 2011-01-10         1   2770         2770   \n",
       "3         2           2 2011-01-10         1   5970         5970   \n",
       "4         3           1 2011-01-10         1  10660        10660   \n",
       "\n",
       "                      model category_1     category_2 frame_material  \\\n",
       "0           Jekyll Carbon 2   Mountain  Over Mountain         Carbon   \n",
       "1          Trigger Carbon 2   Mountain  Over Mountain         Carbon   \n",
       "2       Beast of the East 1   Mountain          Trail       Aluminum   \n",
       "3          Trigger Carbon 2   Mountain  Over Mountain         Carbon   \n",
       "4  Supersix Evo Hi-Mod Team       Road     Elite Road         Carbon   \n",
       "\n",
       "               bikeshop_name         city state  \n",
       "0   Ithaca Mountain Climbers       Ithaca    NY  \n",
       "1   Ithaca Mountain Climbers       Ithaca    NY  \n",
       "2          Kansas City 29ers  Kansas City    KS  \n",
       "3          Kansas City 29ers  Kansas City    KS  \n",
       "4  Louisville Race Equipment   Louisville    KY  "
      ]
     },
     "execution_count": 1,
     "metadata": {},
     "output_type": "execute_result"
    }
   ],
   "source": [
    "import pandas as pd\n",
    "import numpy as np\n",
    "\n",
    "from my_pandas_extensions.database import collect_data\n",
    "\n",
    "df = collect_data()\n",
    "\n",
    "df.head()"
   ]
  },
  {
   "cell_type": "markdown",
   "metadata": {},
   "source": [
    "# 1 Python 的 資料結構"
   ]
  },
  {
   "cell_type": "markdown",
   "metadata": {},
   "source": [
    "## 1.1 萬物皆 Objects"
   ]
  },
  {
   "cell_type": "markdown",
   "metadata": {},
   "source": [
    "* python 是物件導向的語言，所以所有你看到的東西，都是 object\n",
    "* 舉例來說，我看一下剛剛讀到的 `df` 是什麼 type"
   ]
  },
  {
   "cell_type": "code",
   "execution_count": 2,
   "metadata": {},
   "outputs": [
    {
     "data": {
      "text/plain": [
       "pandas.core.frame.DataFrame"
      ]
     },
     "execution_count": 2,
     "metadata": {},
     "output_type": "execute_result"
    }
   ],
   "source": [
    "type(df)"
   ]
  },
  {
   "cell_type": "markdown",
   "metadata": {},
   "source": [
    "* 顯示為 `pandas.core.frame.DataFrame`，他的意思是： pandas 底下的 `core` module，底下的 `frame` sub-module，底下的 `DataFrame` 這個 class  \n",
    "* 如果我們用 `type(df).mro()`，那就可以 get the object's inheritance structure in the order that methods are searched for  \n",
    "* 看看結果："
   ]
  },
  {
   "cell_type": "code",
   "execution_count": 6,
   "metadata": {},
   "outputs": [
    {
     "data": {
      "text/plain": [
       "[pandas.core.frame.DataFrame,\n",
       " pandas.core.generic.NDFrame,\n",
       " pandas.core.base.PandasObject,\n",
       " pandas.core.accessor.DirNamesMixin,\n",
       " pandas.core.base.SelectionMixin,\n",
       " pandas.core.indexing.IndexingMixin,\n",
       " object]"
      ]
     },
     "execution_count": 6,
     "metadata": {},
     "output_type": "execute_result"
    }
   ],
   "source": [
    "type(df).mro()"
   ]
  },
  {
   "cell_type": "markdown",
   "metadata": {},
   "source": [
    "* 可以看到，`pandas.core.frame.DataFrame` 這個 class，他是一路繼承下來。最源頭的叫做 object\n",
    "* 再舉個例子，我們看看很單純的 string，他長怎樣："
   ]
  },
  {
   "cell_type": "code",
   "execution_count": 4,
   "metadata": {},
   "outputs": [
    {
     "name": "stdout",
     "output_type": "stream",
     "text": [
      "<class 'str'>\n",
      "[<class 'str'>, <class 'object'>]\n"
     ]
    }
   ],
   "source": [
    "print(type(\"my_string\"))\n",
    "print(type(\"my_string\").mro())"
   ]
  },
  {
   "cell_type": "markdown",
   "metadata": {},
   "source": [
    "* 可以看到，他的 type 是 string，但他也是從 object 繼承下來。  \n",
    "* 那 object 的特色，就是他有 `attributes` 和 `methods`  \n",
    "* 在 VSCode 中，你只要在一個 object 的後面加上 `.`，並按 `tab` 鍵後，就會看到對應的 attributes 和 methods：\n",
    "  * attributes 會用 `板手\b` 的圖示  \n",
    "  * methods 會用 `立方體` 的圖示  \n",
    "* 舉例來說，剛剛的 `df` 是個 pandas 的 DataFrame 物件，他就有 `df.columns` 這個 attribute，以及 `df.to_csv()` 這個 method "
   ]
  },
  {
   "cell_type": "markdown",
   "metadata": {},
   "source": [
    "## 1.2 分析資料時會碰到的資料結構"
   ]
  },
  {
   "cell_type": "markdown",
   "metadata": {},
   "source": [
    "* python 有許多資料結構，但我們在分析資料時，最常碰到的，就是 `Pandas Data Frame` -> `Pandas Series` -> `Numpy Array` 這三個 (同時階層關係也是這樣)  \n",
    "* 舉例來說：\n",
    "  * `numpy array` 就是單純的 array ，他有的 methods 都是 `.sum()`, `.mean()` 這些  \n",
    "  * `pandas series` 是建立在 numpy array 之上的 class，他幫 numpy array 又加上了 `index` 和一些 `meta data`(例如 series name)，所以他有更豐富的 attributes 和 methods 可以用\n",
    "  * `pandas DataFrame` 是 建立在 pandas series 之上的 class，因為一個 column 就是一個 pandas series。  \n",
    "* 我們來看一下剛剛的 `df` 物件 (他是 `pandas DataFrame`)，一路把它拆解到 numpy array"
   ]
  },
  {
   "cell_type": "code",
   "execution_count": 11,
   "metadata": {},
   "outputs": [
    {
     "name": "stdout",
     "output_type": "stream",
     "text": [
      "---- df 的 type ----\n",
      "<class 'pandas.core.frame.DataFrame'>\n",
      "---- 抽出 total price 這個 series ----\n",
      "0         6070\n",
      "1         5970\n",
      "2         2770\n",
      "3         5970\n",
      "4        10660\n",
      "         ...  \n",
      "15639     2660\n",
      "15640     1350\n",
      "15641     1680\n",
      "15642     2880\n",
      "15643     3200\n",
      "Name: total_price, Length: 15644, dtype: int64\n",
      "---- series 的 type ----\n",
      "<class 'pandas.core.series.Series'>\n",
      "---- 從 series 中取出他的 value，就會是 numpy array ----\n",
      "[6070 5970 2770 ... 1680 2880 3200]\n",
      "---- 看一下他的 type ----\n",
      "<class 'numpy.ndarray'>\n"
     ]
    }
   ],
   "source": [
    "print(\"---- df 的 type ----\")\n",
    "print(type(df))\n",
    "\n",
    "print(\"---- 抽出 total price 這個 series ----\")\n",
    "print(df.total_price)\n",
    "print(\"---- series 的 type ----\")\n",
    "print(type(df.total_price))\n",
    "\n",
    "print(\"---- 從 series 中取出他的 value，就會是 numpy array ----\")\n",
    "print(df.total_price.values)\n",
    "print(\"---- 看一下他的 type ----\")\n",
    "print(type(df.total_price.values))"
   ]
  },
  {
   "cell_type": "markdown",
   "metadata": {},
   "source": [
    "## 1.3 Python 原生的資料結構"
   ]
  },
  {
   "cell_type": "markdown",
   "metadata": {},
   "source": [
    "* python 原生的 data types 和 data structure 包括：  \n",
    "  * data structure: `dictionary`, `list`, `tuple`  \n",
    "  * data types: `int`, `float`, `str`, `bool`"
   ]
  },
  {
   "cell_type": "markdown",
   "metadata": {},
   "source": [
    "### 1.3.1 dictionary"
   ]
  },
  {
   "cell_type": "code",
   "execution_count": 15,
   "metadata": {},
   "outputs": [
    {
     "name": "stdout",
     "output_type": "stream",
     "text": [
      "{'a': 1, 'b': 2}\n"
     ]
    }
   ],
   "source": [
    "d = {'a': 1, 'b': 2}\n",
    "print(d)"
   ]
  },
  {
   "cell_type": "code",
   "execution_count": 20,
   "metadata": {},
   "outputs": [
    {
     "name": "stdout",
     "output_type": "stream",
     "text": [
      "dict_keys(['a', 'b'])\n",
      "dict_values([1, 2])\n",
      "1\n"
     ]
    }
   ],
   "source": [
    "print(d.keys()) # 拿所有的 keys\n",
    "print(d.values()) # 拿所有的 values\n",
    "print(d.get(\"a\")) # 拿指定的 key 所對應的 values"
   ]
  },
  {
   "cell_type": "markdown",
   "metadata": {},
   "source": [
    "### 1.3.2 list"
   ]
  },
  {
   "cell_type": "code",
   "execution_count": 21,
   "metadata": {},
   "outputs": [
    {
     "name": "stdout",
     "output_type": "stream",
     "text": [
      "[1, 'A', [2, 'B']]\n"
     ]
    }
   ],
   "source": [
    "my_list = [1, \"A\", [2, \"B\"]]\n",
    "print(my_list)"
   ]
  },
  {
   "cell_type": "code",
   "execution_count": 23,
   "metadata": {},
   "outputs": [
    {
     "name": "stdout",
     "output_type": "stream",
     "text": [
      "1\n",
      "[1, 2]\n"
     ]
    }
   ],
   "source": [
    "print(my_list[0]) # 取出 index = 0 的 element\n",
    "print(list(d.values())) # 用 list() 將 dictionary 的 type 轉成 list"
   ]
  },
  {
   "cell_type": "markdown",
   "metadata": {},
   "source": [
    "### 1.3.3 tuple"
   ]
  },
  {
   "cell_type": "code",
   "execution_count": 25,
   "metadata": {},
   "outputs": [
    {
     "name": "stdout",
     "output_type": "stream",
     "text": [
      "(10, 20)\n"
     ]
    }
   ],
   "source": [
    "my_tuple = (10, 20)\n",
    "print(my_tuple)"
   ]
  },
  {
   "cell_type": "code",
   "execution_count": 29,
   "metadata": {},
   "outputs": [
    {
     "name": "stdout",
     "output_type": "stream",
     "text": [
      "10\n"
     ]
    }
   ],
   "source": [
    "print(my_tuple[0]) # 取出 index = 0 的值\n",
    "# my_tuple[0] = 33 # 會出現 error，因為 tuple 是不可更改的類型"
   ]
  },
  {
   "cell_type": "markdown",
   "metadata": {},
   "source": [
    "### 1.3.4 base data types"
   ]
  },
  {
   "cell_type": "code",
   "execution_count": 31,
   "metadata": {},
   "outputs": [
    {
     "name": "stdout",
     "output_type": "stream",
     "text": [
      "<class 'int'>\n",
      "<class 'float'>\n",
      "<class 'str'>\n",
      "<class 'bool'>\n"
     ]
    }
   ],
   "source": [
    "print(type(1)) # 1 是 integer\n",
    "print(type(1.3)) # 1.3 是 float\n",
    "print(type(\"my_string\")) # \"my_string\" 是字串\n",
    "print(type(True)) # True 是 boolean"
   ]
  },
  {
   "cell_type": "markdown",
   "metadata": {},
   "source": [
    "## 1.4 casting (資料類別轉換)"
   ]
  },
  {
   "cell_type": "markdown",
   "metadata": {},
   "source": [
    "### 1.4.1 數值 轉 字串"
   ]
  },
  {
   "cell_type": "code",
   "execution_count": 35,
   "metadata": {},
   "outputs": [
    {
     "name": "stdout",
     "output_type": "stream",
     "text": [
      "Jekyll Carbon 26070\n",
      "The first model is: Jekyll Carbon 2, and the price is: 6070\n"
     ]
    }
   ],
   "source": [
    "model = \"Jekyll Carbon 2\"\n",
    "price = 6070\n",
    "\n",
    "# model + price # 會出現 error，因為 type 不同\n",
    "print(model + str(price)) # 用 str() 把 數值轉成字串，就 ok 了\n",
    "print(f\"The first model is: {model}, and the price is: {price}\") # 這樣做更漂亮"
   ]
  },
  {
   "cell_type": "markdown",
   "metadata": {},
   "source": [
    "### 1.4.2 sequence to list, numpy array, series, dataframe"
   ]
  },
  {
   "cell_type": "markdown",
   "metadata": {},
   "source": [
    "* sequence 的例子如 `seq = range(1,10)`，那他其實是個 generator，沒有真的做出來，那我們可以用：  \n",
    "  * `list(seq)` 把他變成 list  \n",
    "  * `np.array(seq)` 把他變成 numpy array  \n",
    "  * `pd.Series(seq)` 把他變成 pandas series  \n",
    "  * `pd.Series(seq).to_frame()` 把他變成 pandas DataFrame  \n",
    "* 來看看效果："
   ]
  },
  {
   "cell_type": "code",
   "execution_count": 36,
   "metadata": {},
   "outputs": [
    {
     "name": "stdout",
     "output_type": "stream",
     "text": [
      "range(1, 10)\n"
     ]
    }
   ],
   "source": [
    "seq = range(1, 10)\n",
    "print(seq)"
   ]
  },
  {
   "cell_type": "code",
   "execution_count": 37,
   "metadata": {},
   "outputs": [
    {
     "name": "stdout",
     "output_type": "stream",
     "text": [
      "[1, 2, 3, 4, 5, 6, 7, 8, 9]\n",
      "[1 2 3 4 5 6 7 8 9]\n",
      "0    1\n",
      "1    2\n",
      "2    3\n",
      "3    4\n",
      "4    5\n",
      "5    6\n",
      "6    7\n",
      "7    8\n",
      "8    9\n",
      "dtype: int64\n",
      "   0\n",
      "0  1\n",
      "1  2\n",
      "2  3\n",
      "3  4\n",
      "4  5\n",
      "5  6\n",
      "6  7\n",
      "7  8\n",
      "8  9\n"
     ]
    }
   ],
   "source": [
    "print(list(seq))\n",
    "print(np.array(seq))\n",
    "print(pd.Series(seq))\n",
    "print(pd.Series(seq).to_frame())"
   ]
  },
  {
   "cell_type": "markdown",
   "metadata": {},
   "source": [
    "### 1.4.3 pandas series 的 dtype 轉換"
   ]
  },
  {
   "cell_type": "markdown",
   "metadata": {},
   "source": [
    "* pandas series 的 type，叫 dtype，看個例子："
   ]
  },
  {
   "cell_type": "code",
   "execution_count": 38,
   "metadata": {},
   "outputs": [
    {
     "data": {
      "text/plain": [
       "0       2011-01-07\n",
       "1       2011-01-07\n",
       "2       2011-01-10\n",
       "3       2011-01-10\n",
       "4       2011-01-10\n",
       "           ...    \n",
       "15639   2015-12-25\n",
       "15640   2015-12-25\n",
       "15641   2015-12-25\n",
       "15642   2015-12-25\n",
       "15643   2015-12-25\n",
       "Name: order_date, Length: 15644, dtype: datetime64[ns]"
      ]
     },
     "execution_count": 38,
     "metadata": {},
     "output_type": "execute_result"
    }
   ],
   "source": [
    "df['order_date']"
   ]
  },
  {
   "cell_type": "markdown",
   "metadata": {},
   "source": [
    "* 可以看到，最後有寫 `dtype: datetime64[ns]`  \n",
    "* 那如果我想把這個 column 的格式，轉成 string，我該怎麼做呢？\n",
    "  * 錯誤做法： `str(df['order_date])` ，這樣做，他會把整個 series 的外面加個雙引號，變成只有一個 element 的大字串  \n",
    "  * 正確做法： `df['order_date'].astype('str')`\n",
    "* 來看看這兩種做法吧："
   ]
  },
  {
   "cell_type": "code",
   "execution_count": 43,
   "metadata": {},
   "outputs": [
    {
     "data": {
      "text/plain": [
       "'0       2011-01-07\\n1       2011-01-07\\n2       2011-01-10\\n3       2011-01-10\\n4       2011-01-10\\n           ...    \\n15639   2015-12-25\\n15640   2015-12-25\\n15641   2015-12-25\\n15642   2015-12-25\\n15643   2015-12-25\\nName: order_date, Length: 15644, dtype: datetime64[ns]'"
      ]
     },
     "execution_count": 43,
     "metadata": {},
     "output_type": "execute_result"
    }
   ],
   "source": [
    "str(df['order_date']) # 變成只有一個 element 的大字串"
   ]
  },
  {
   "cell_type": "code",
   "execution_count": 44,
   "metadata": {},
   "outputs": [
    {
     "data": {
      "text/plain": [
       "0        2011-01-07\n",
       "1        2011-01-07\n",
       "2        2011-01-10\n",
       "3        2011-01-10\n",
       "4        2011-01-10\n",
       "            ...    \n",
       "15639    2015-12-25\n",
       "15640    2015-12-25\n",
       "15641    2015-12-25\n",
       "15642    2015-12-25\n",
       "15643    2015-12-25\n",
       "Name: order_date, Length: 15644, dtype: object"
      ]
     },
     "execution_count": 44,
     "metadata": {},
     "output_type": "execute_result"
    }
   ],
   "source": [
    "df['order_date'].astype('str')"
   ]
  }
 ],
 "metadata": {
  "interpreter": {
   "hash": "c28bcaf8177fe56481115837a3a54353a074979baa12311ba55fb77ebaa0a4f6"
  },
  "kernelspec": {
   "display_name": "Python 3.8.0 64-bit ('3.8.0': pyenv)",
   "name": "python3"
  },
  "language_info": {
   "codemirror_mode": {
    "name": "ipython",
    "version": 3
   },
   "file_extension": ".py",
   "mimetype": "text/x-python",
   "name": "python",
   "nbconvert_exporter": "python",
   "pygments_lexer": "ipython3",
   "version": "3.8.0"
  },
  "orig_nbformat": 4
 },
 "nbformat": 4,
 "nbformat_minor": 2
}